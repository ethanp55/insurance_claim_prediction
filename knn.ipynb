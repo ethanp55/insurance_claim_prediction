{
 "cells": [
  {
   "cell_type": "code",
   "execution_count": 1,
   "metadata": {},
   "outputs": [],
   "source": [
    "import matplotlib.pyplot as plt\n",
    "import numpy as np\n",
    "import pandas as pd\n",
    "import random\n",
    "from sklearn.metrics import mean_squared_error, mean_squared_log_error\n",
    "from sklearn.model_selection import train_test_split\n",
    "from sklearn.neighbors import KNeighborsRegressor\n",
    "from sklearn.preprocessing import StandardScaler\n",
    "from sklearn.utils import resample\n",
    "import warnings\n",
    "warnings.filterwarnings('ignore')"
   ]
  },
  {
   "cell_type": "code",
   "execution_count": 2,
   "metadata": {},
   "outputs": [
    {
     "data": {
      "text/html": [
       "<div>\n",
       "<style scoped>\n",
       "    .dataframe tbody tr th:only-of-type {\n",
       "        vertical-align: middle;\n",
       "    }\n",
       "\n",
       "    .dataframe tbody tr th {\n",
       "        vertical-align: top;\n",
       "    }\n",
       "\n",
       "    .dataframe thead th {\n",
       "        text-align: right;\n",
       "    }\n",
       "</style>\n",
       "<table border=\"1\" class=\"dataframe\">\n",
       "  <thead>\n",
       "    <tr style=\"text-align: right;\">\n",
       "      <th></th>\n",
       "      <th>veh_value</th>\n",
       "      <th>exposure</th>\n",
       "      <th>veh_body</th>\n",
       "      <th>veh_age</th>\n",
       "      <th>gender</th>\n",
       "      <th>area</th>\n",
       "      <th>agecat</th>\n",
       "      <th>engine_type</th>\n",
       "      <th>max_power</th>\n",
       "      <th>driving_history_score</th>\n",
       "      <th>...</th>\n",
       "      <th>marital_status</th>\n",
       "      <th>e_bill</th>\n",
       "      <th>time_of_week_driven</th>\n",
       "      <th>time_driven</th>\n",
       "      <th>trm_len</th>\n",
       "      <th>credit_score</th>\n",
       "      <th>high_education_ind</th>\n",
       "      <th>clm</th>\n",
       "      <th>numclaims</th>\n",
       "      <th>claimcst0</th>\n",
       "    </tr>\n",
       "  </thead>\n",
       "  <tbody>\n",
       "    <tr>\n",
       "      <th>0</th>\n",
       "      <td>0.77</td>\n",
       "      <td>0.444504</td>\n",
       "      <td>SEDAN</td>\n",
       "      <td>4</td>\n",
       "      <td>M</td>\n",
       "      <td>D</td>\n",
       "      <td>3</td>\n",
       "      <td>petrol</td>\n",
       "      <td>147</td>\n",
       "      <td>67.0</td>\n",
       "      <td>...</td>\n",
       "      <td>S</td>\n",
       "      <td>1</td>\n",
       "      <td>weekday</td>\n",
       "      <td>6pm - 12am</td>\n",
       "      <td>6</td>\n",
       "      <td>640.448137</td>\n",
       "      <td>1.0</td>\n",
       "      <td>0</td>\n",
       "      <td>0</td>\n",
       "      <td>0.0</td>\n",
       "    </tr>\n",
       "    <tr>\n",
       "      <th>1</th>\n",
       "      <td>4.45</td>\n",
       "      <td>0.562183</td>\n",
       "      <td>STNWG</td>\n",
       "      <td>1</td>\n",
       "      <td>M</td>\n",
       "      <td>A</td>\n",
       "      <td>3</td>\n",
       "      <td>petrol</td>\n",
       "      <td>158</td>\n",
       "      <td>76.0</td>\n",
       "      <td>...</td>\n",
       "      <td>S</td>\n",
       "      <td>1</td>\n",
       "      <td>weekday</td>\n",
       "      <td>6am - 12pm</td>\n",
       "      <td>12</td>\n",
       "      <td>683.749691</td>\n",
       "      <td>0.0</td>\n",
       "      <td>0</td>\n",
       "      <td>0</td>\n",
       "      <td>0.0</td>\n",
       "    </tr>\n",
       "    <tr>\n",
       "      <th>2</th>\n",
       "      <td>4.90</td>\n",
       "      <td>0.465244</td>\n",
       "      <td>STNWG</td>\n",
       "      <td>1</td>\n",
       "      <td>F</td>\n",
       "      <td>A</td>\n",
       "      <td>3</td>\n",
       "      <td>petrol</td>\n",
       "      <td>159</td>\n",
       "      <td>58.0</td>\n",
       "      <td>...</td>\n",
       "      <td>M</td>\n",
       "      <td>1</td>\n",
       "      <td>weekday</td>\n",
       "      <td>6pm - 12am</td>\n",
       "      <td>6</td>\n",
       "      <td>653.656117</td>\n",
       "      <td>1.0</td>\n",
       "      <td>0</td>\n",
       "      <td>0</td>\n",
       "      <td>0.0</td>\n",
       "    </tr>\n",
       "    <tr>\n",
       "      <th>3</th>\n",
       "      <td>0.48</td>\n",
       "      <td>0.271039</td>\n",
       "      <td>PANVN</td>\n",
       "      <td>4</td>\n",
       "      <td>M</td>\n",
       "      <td>A</td>\n",
       "      <td>4</td>\n",
       "      <td>petrol</td>\n",
       "      <td>80</td>\n",
       "      <td>72.0</td>\n",
       "      <td>...</td>\n",
       "      <td>S</td>\n",
       "      <td>1</td>\n",
       "      <td>weekday</td>\n",
       "      <td>12pm - 6pm</td>\n",
       "      <td>12</td>\n",
       "      <td>642.574671</td>\n",
       "      <td>0.0</td>\n",
       "      <td>0</td>\n",
       "      <td>0</td>\n",
       "      <td>0.0</td>\n",
       "    </tr>\n",
       "    <tr>\n",
       "      <th>4</th>\n",
       "      <td>0.85</td>\n",
       "      <td>0.141624</td>\n",
       "      <td>SEDAN</td>\n",
       "      <td>4</td>\n",
       "      <td>F</td>\n",
       "      <td>A</td>\n",
       "      <td>5</td>\n",
       "      <td>petrol</td>\n",
       "      <td>126</td>\n",
       "      <td>91.0</td>\n",
       "      <td>...</td>\n",
       "      <td>S</td>\n",
       "      <td>0</td>\n",
       "      <td>weekday</td>\n",
       "      <td>6am - 12pm</td>\n",
       "      <td>6</td>\n",
       "      <td>647.175035</td>\n",
       "      <td>0.0</td>\n",
       "      <td>0</td>\n",
       "      <td>0</td>\n",
       "      <td>0.0</td>\n",
       "    </tr>\n",
       "  </tbody>\n",
       "</table>\n",
       "<p>5 rows × 21 columns</p>\n",
       "</div>"
      ],
      "text/plain": [
       "   veh_value  exposure veh_body  veh_age gender area  agecat engine_type  \\\n",
       "0       0.77  0.444504    SEDAN        4      M    D       3      petrol   \n",
       "1       4.45  0.562183    STNWG        1      M    A       3      petrol   \n",
       "2       4.90  0.465244    STNWG        1      F    A       3      petrol   \n",
       "3       0.48  0.271039    PANVN        4      M    A       4      petrol   \n",
       "4       0.85  0.141624    SEDAN        4      F    A       5      petrol   \n",
       "\n",
       "   max_power  driving_history_score  ... marital_status e_bill  \\\n",
       "0        147                   67.0  ...              S      1   \n",
       "1        158                   76.0  ...              S      1   \n",
       "2        159                   58.0  ...              M      1   \n",
       "3         80                   72.0  ...              S      1   \n",
       "4        126                   91.0  ...              S      0   \n",
       "\n",
       "   time_of_week_driven time_driven trm_len  credit_score  high_education_ind  \\\n",
       "0              weekday  6pm - 12am       6    640.448137                 1.0   \n",
       "1              weekday  6am - 12pm      12    683.749691                 0.0   \n",
       "2              weekday  6pm - 12am       6    653.656117                 1.0   \n",
       "3              weekday  12pm - 6pm      12    642.574671                 0.0   \n",
       "4              weekday  6am - 12pm       6    647.175035                 0.0   \n",
       "\n",
       "   clm  numclaims  claimcst0  \n",
       "0    0          0        0.0  \n",
       "1    0          0        0.0  \n",
       "2    0          0        0.0  \n",
       "3    0          0        0.0  \n",
       "4    0          0        0.0  \n",
       "\n",
       "[5 rows x 21 columns]"
      ]
     },
     "execution_count": 2,
     "metadata": {},
     "output_type": "execute_result"
    }
   ],
   "source": [
    "df = pd.read_csv('./data/InsNova_data_2023_train.csv')\n",
    "df.drop(['id'], axis=1, inplace=True)\n",
    "df.reset_index(drop=True, inplace=True)\n",
    "\n",
    "df.head()"
   ]
  },
  {
   "cell_type": "code",
   "execution_count": 3,
   "metadata": {},
   "outputs": [],
   "source": [
    "df_dummies = pd.get_dummies(df, columns=['veh_body', 'veh_age', 'gender', 'area', 'agecat', 'engine_type', 'veh_color', 'marital_status', 'e_bill', 'time_of_week_driven', 'time_driven', 'trm_len', 'high_education_ind'])"
   ]
  },
  {
   "cell_type": "code",
   "execution_count": 4,
   "metadata": {},
   "outputs": [],
   "source": [
    "cost_df = df_dummies.drop(columns=['clm', 'numclaims'])"
   ]
  },
  {
   "cell_type": "code",
   "execution_count": 5,
   "metadata": {},
   "outputs": [
    {
     "name": "stdout",
     "output_type": "stream",
     "text": [
      "(21077, 64)\n",
      "(1542, 64)\n"
     ]
    }
   ],
   "source": [
    "majority_class = cost_df[cost_df['claimcst0'] == 0]\n",
    "minority_class = cost_df[cost_df['claimcst0'] != 0]\n",
    "\n",
    "print(majority_class.shape)\n",
    "print(minority_class.shape)"
   ]
  },
  {
   "cell_type": "code",
   "execution_count": 6,
   "metadata": {},
   "outputs": [
    {
     "data": {
      "text/plain": [
       "(105385, 64)"
      ]
     },
     "execution_count": 6,
     "metadata": {},
     "output_type": "execute_result"
    }
   ],
   "source": [
    "oversampled_minority = resample(minority_class, replace=True, n_samples=5 * len(majority_class))\n",
    "\n",
    "oversampled_minority.shape"
   ]
  },
  {
   "cell_type": "code",
   "execution_count": 7,
   "metadata": {},
   "outputs": [],
   "source": [
    "cost_balanced_df = pd.concat([majority_class, oversampled_minority])\n",
    "# cost_balanced_df = pd.concat([majority_class, minority_class])\n",
    "cost_balanced_df = cost_balanced_df.sample(frac=1)\n",
    "cost_balanced_df.reset_index(drop=True, inplace=True)"
   ]
  },
  {
   "cell_type": "code",
   "execution_count": 8,
   "metadata": {},
   "outputs": [
    {
     "data": {
      "image/png": "[encoded data removed]",
      "text/plain": [
       "<Figure size 640x480 with 1 Axes>"
      ]
     },
     "metadata": {},
     "output_type": "display_data"
    }
   ],
   "source": [
    "plt.hist(np.log(cost_balanced_df['claimcst0'] + 1))\n",
    "plt.show()"
   ]
  },
  {
   "cell_type": "code",
   "execution_count": 9,
   "metadata": {},
   "outputs": [],
   "source": [
    "cost_x, cost_y = cost_balanced_df.drop(columns=['claimcst0']), cost_balanced_df['claimcst0']\n",
    "cost_y = np.log(cost_y + 1)"
   ]
  },
  {
   "cell_type": "code",
   "execution_count": 10,
   "metadata": {},
   "outputs": [
    {
     "name": "stdout",
     "output_type": "stream",
     "text": [
      "(84308, 63) (84308,) (42154, 63) (42154,)\n"
     ]
    }
   ],
   "source": [
    "x_train, x_test, y_train, y_test = train_test_split(cost_x, cost_y, test_size=1 / 3)\n",
    "\n",
    "scaler = StandardScaler()\n",
    "x_train = scaler.fit_transform(x_train)\n",
    "x_test = scaler.transform(x_test)\n",
    "\n",
    "print(x_train.shape, y_train.shape, x_test.shape, y_test.shape)"
   ]
  },
  {
   "cell_type": "code",
   "execution_count": 11,
   "metadata": {},
   "outputs": [
    {
     "name": "stdout",
     "output_type": "stream",
     "text": [
      "Num runs: 46\n",
      "Best loss so far: 3.1687609743126264\n",
      "Remaining runs: 45\n",
      "Remaining runs: 44\n",
      "Best loss so far: 1.9325058382532774\n",
      "Remaining runs: 43\n",
      "Remaining runs: 42\n",
      "Remaining runs: 41\n",
      "Remaining runs: 40\n",
      "Remaining runs: 39\n",
      "Remaining runs: 38\n",
      "Remaining runs: 37\n",
      "Remaining runs: 36\n",
      "Best loss so far: 1.116180667125258\n",
      "Remaining runs: 35\n",
      "Remaining runs: 34\n",
      "Remaining runs: 33\n",
      "Remaining runs: 32\n",
      "Remaining runs: 31\n",
      "Remaining runs: 30\n",
      "Remaining runs: 29\n",
      "Remaining runs: 28\n",
      "Remaining runs: 27\n",
      "Remaining runs: 26\n",
      "Remaining runs: 25\n",
      "Remaining runs: 24\n",
      "Remaining runs: 23\n",
      "Remaining runs: 22\n",
      "Remaining runs: 21\n",
      "Remaining runs: 20\n",
      "Remaining runs: 19\n",
      "Remaining runs: 18\n",
      "Remaining runs: 17\n",
      "Remaining runs: 16\n",
      "Remaining runs: 15\n",
      "Remaining runs: 14\n",
      "Remaining runs: 13\n",
      "Remaining runs: 12\n",
      "Remaining runs: 11\n",
      "Remaining runs: 10\n",
      "Remaining runs: 9\n",
      "Remaining runs: 8\n",
      "Remaining runs: 7\n",
      "Remaining runs: 6\n",
      "Remaining runs: 5\n",
      "Remaining runs: 4\n",
      "Remaining runs: 3\n",
      "Remaining runs: 2\n",
      "Remaining runs: 1\n",
      "Remaining runs: 0\n"
     ]
    }
   ],
   "source": [
    "all_combos = []\n",
    "\n",
    "for n_neighbors in [3, 5, 7, 9, 11, 13, 15, 17, 19, 21, 23, 25, 27, 29, 31, 41, 51, 61, 71, 81, 91, 101, 125]:\n",
    "    for weights in ['uniform', 'distance']:\n",
    "        all_combos.append((n_neighbors, weights))\n",
    "\n",
    "percentage_to_try = 1.0\n",
    "n_runs = int(percentage_to_try * len(all_combos))\n",
    "combos_to_try = random.sample(all_combos, n_runs)\n",
    "print(f'Num runs: {n_runs}')\n",
    "\n",
    "best_validation_loss, cost_model = np.inf, None\n",
    "\n",
    "for n_neighbors, weights in combos_to_try:\n",
    "    curr_model = KNeighborsRegressor(n_neighbors=n_neighbors, weights=weights)\n",
    "    curr_model.fit(x_train, y_train)\n",
    "\n",
    "    pred = curr_model.predict(x_test)\n",
    "    # validation_loss = mean_squared_log_error(y_test, pred)\n",
    "    validation_loss = mean_squared_error(y_test, pred)\n",
    "\n",
    "    if validation_loss < best_validation_loss:\n",
    "        best_validation_loss, cost_model = validation_loss, curr_model\n",
    "        print(f'Best loss so far: {best_validation_loss}')\n",
    "\n",
    "    n_runs -= 1\n",
    "    print(f'Remaining runs: {n_runs}')\n",
    "    "
   ]
  },
  {
   "cell_type": "code",
   "execution_count": 12,
   "metadata": {},
   "outputs": [
    {
     "name": "stdout",
     "output_type": "stream",
     "text": [
      "{'algorithm': 'auto', 'leaf_size': 30, 'metric': 'minkowski', 'metric_params': None, 'n_jobs': None, 'n_neighbors': 3, 'p': 2, 'weights': 'distance'}\n"
     ]
    }
   ],
   "source": [
    "print(cost_model.get_params())"
   ]
  },
  {
   "cell_type": "code",
   "execution_count": 13,
   "metadata": {},
   "outputs": [
    {
     "data": {
      "text/plain": [
       "1.116180667125258"
      ]
     },
     "execution_count": 13,
     "metadata": {},
     "output_type": "execute_result"
    }
   ],
   "source": [
    "pred = cost_model.predict(x_test)\n",
    "# mean_squared_log_error(y_test, pred)\n",
    "mean_squared_error(y_test, pred)"
   ]
  },
  {
   "cell_type": "code",
   "execution_count": 14,
   "metadata": {},
   "outputs": [
    {
     "data": {
      "image/png": "[encoded data removed]",
      "text/plain": [
       "<Figure size 640x480 with 1 Axes>"
      ]
     },
     "metadata": {},
     "output_type": "display_data"
    }
   ],
   "source": [
    "plt.hist(pred, bins=20)\n",
    "plt.show()"
   ]
  },
  {
   "cell_type": "code",
   "execution_count": 15,
   "metadata": {},
   "outputs": [
    {
     "data": {
      "image/png": "[encoded data removed]",
      "text/plain": [
       "<Figure size 640x480 with 1 Axes>"
      ]
     },
     "metadata": {},
     "output_type": "display_data"
    }
   ],
   "source": [
    "plt.hist(np.exp(pred) - 1, bins=20)\n",
    "plt.show()"
   ]
  },
  {
   "cell_type": "code",
   "execution_count": 16,
   "metadata": {},
   "outputs": [
    {
     "data": {
      "text/html": [
       "<div>\n",
       "<style scoped>\n",
       "    .dataframe tbody tr th:only-of-type {\n",
       "        vertical-align: middle;\n",
       "    }\n",
       "\n",
       "    .dataframe tbody tr th {\n",
       "        vertical-align: top;\n",
       "    }\n",
       "\n",
       "    .dataframe thead th {\n",
       "        text-align: right;\n",
       "    }\n",
       "</style>\n",
       "<table border=\"1\" class=\"dataframe\">\n",
       "  <thead>\n",
       "    <tr style=\"text-align: right;\">\n",
       "      <th></th>\n",
       "      <th>veh_value</th>\n",
       "      <th>exposure</th>\n",
       "      <th>veh_body</th>\n",
       "      <th>veh_age</th>\n",
       "      <th>gender</th>\n",
       "      <th>area</th>\n",
       "      <th>agecat</th>\n",
       "      <th>engine_type</th>\n",
       "      <th>max_power</th>\n",
       "      <th>driving_history_score</th>\n",
       "      <th>veh_color</th>\n",
       "      <th>marital_status</th>\n",
       "      <th>e_bill</th>\n",
       "      <th>time_of_week_driven</th>\n",
       "      <th>time_driven</th>\n",
       "      <th>trm_len</th>\n",
       "      <th>credit_score</th>\n",
       "      <th>high_education_ind</th>\n",
       "    </tr>\n",
       "  </thead>\n",
       "  <tbody>\n",
       "    <tr>\n",
       "      <th>0</th>\n",
       "      <td>3.40</td>\n",
       "      <td>0.076279</td>\n",
       "      <td>STNWG</td>\n",
       "      <td>2</td>\n",
       "      <td>M</td>\n",
       "      <td>B</td>\n",
       "      <td>4</td>\n",
       "      <td>petrol</td>\n",
       "      <td>174</td>\n",
       "      <td>83</td>\n",
       "      <td>black</td>\n",
       "      <td>S</td>\n",
       "      <td>1</td>\n",
       "      <td>weekday</td>\n",
       "      <td>6pm - 12am</td>\n",
       "      <td>6</td>\n",
       "      <td>648.247594</td>\n",
       "      <td>0</td>\n",
       "    </tr>\n",
       "    <tr>\n",
       "      <th>1</th>\n",
       "      <td>2.55</td>\n",
       "      <td>0.093443</td>\n",
       "      <td>STNWG</td>\n",
       "      <td>2</td>\n",
       "      <td>F</td>\n",
       "      <td>A</td>\n",
       "      <td>3</td>\n",
       "      <td>petrol</td>\n",
       "      <td>181</td>\n",
       "      <td>65</td>\n",
       "      <td>yellow</td>\n",
       "      <td>M</td>\n",
       "      <td>0</td>\n",
       "      <td>weekday</td>\n",
       "      <td>12am - 6 am</td>\n",
       "      <td>12</td>\n",
       "      <td>637.752677</td>\n",
       "      <td>0</td>\n",
       "    </tr>\n",
       "    <tr>\n",
       "      <th>2</th>\n",
       "      <td>3.04</td>\n",
       "      <td>0.157762</td>\n",
       "      <td>STNWG</td>\n",
       "      <td>2</td>\n",
       "      <td>F</td>\n",
       "      <td>E</td>\n",
       "      <td>4</td>\n",
       "      <td>petrol</td>\n",
       "      <td>136</td>\n",
       "      <td>64</td>\n",
       "      <td>white</td>\n",
       "      <td>S</td>\n",
       "      <td>1</td>\n",
       "      <td>weekday</td>\n",
       "      <td>12pm - 6pm</td>\n",
       "      <td>12</td>\n",
       "      <td>661.483786</td>\n",
       "      <td>0</td>\n",
       "    </tr>\n",
       "    <tr>\n",
       "      <th>3</th>\n",
       "      <td>2.05</td>\n",
       "      <td>0.560735</td>\n",
       "      <td>MIBUS</td>\n",
       "      <td>4</td>\n",
       "      <td>M</td>\n",
       "      <td>C</td>\n",
       "      <td>6</td>\n",
       "      <td>dissel</td>\n",
       "      <td>164</td>\n",
       "      <td>82</td>\n",
       "      <td>gray</td>\n",
       "      <td>M</td>\n",
       "      <td>1</td>\n",
       "      <td>weekday</td>\n",
       "      <td>6am - 12pm</td>\n",
       "      <td>12</td>\n",
       "      <td>647.846365</td>\n",
       "      <td>0</td>\n",
       "    </tr>\n",
       "    <tr>\n",
       "      <th>4</th>\n",
       "      <td>1.93</td>\n",
       "      <td>0.258275</td>\n",
       "      <td>HBACK</td>\n",
       "      <td>2</td>\n",
       "      <td>M</td>\n",
       "      <td>C</td>\n",
       "      <td>4</td>\n",
       "      <td>dissel</td>\n",
       "      <td>89</td>\n",
       "      <td>48</td>\n",
       "      <td>black</td>\n",
       "      <td>S</td>\n",
       "      <td>0</td>\n",
       "      <td>weekday</td>\n",
       "      <td>6am - 12pm</td>\n",
       "      <td>12</td>\n",
       "      <td>640.257550</td>\n",
       "      <td>0</td>\n",
       "    </tr>\n",
       "  </tbody>\n",
       "</table>\n",
       "</div>"
      ],
      "text/plain": [
       "   veh_value  exposure veh_body  veh_age gender area  agecat engine_type  \\\n",
       "0       3.40  0.076279    STNWG        2      M    B       4      petrol   \n",
       "1       2.55  0.093443    STNWG        2      F    A       3      petrol   \n",
       "2       3.04  0.157762    STNWG        2      F    E       4      petrol   \n",
       "3       2.05  0.560735    MIBUS        4      M    C       6      dissel   \n",
       "4       1.93  0.258275    HBACK        2      M    C       4      dissel   \n",
       "\n",
       "   max_power  driving_history_score veh_color marital_status  e_bill  \\\n",
       "0        174                     83     black              S       1   \n",
       "1        181                     65    yellow              M       0   \n",
       "2        136                     64     white              S       1   \n",
       "3        164                     82      gray              M       1   \n",
       "4         89                     48     black              S       0   \n",
       "\n",
       "  time_of_week_driven  time_driven  trm_len  credit_score  high_education_ind  \n",
       "0             weekday   6pm - 12am        6    648.247594                   0  \n",
       "1             weekday  12am - 6 am       12    637.752677                   0  \n",
       "2             weekday   12pm - 6pm       12    661.483786                   0  \n",
       "3             weekday   6am - 12pm       12    647.846365                   0  \n",
       "4             weekday   6am - 12pm       12    640.257550                   0  "
      ]
     },
     "execution_count": 16,
     "metadata": {},
     "output_type": "execute_result"
    }
   ],
   "source": [
    "val_df = pd.read_csv('./data/InsNova_data_2023_vh.csv')\n",
    "ids = val_df['id']\n",
    "val_df.drop(['id'], axis=1, inplace=True)\n",
    "val_df.reset_index(drop=True, inplace=True)\n",
    "\n",
    "val_df.head()"
   ]
  },
  {
   "cell_type": "code",
   "execution_count": 17,
   "metadata": {},
   "outputs": [],
   "source": [
    "val_df_dummies = pd.get_dummies(val_df, columns=['veh_body', 'veh_age', 'gender', 'area', 'agecat', 'engine_type', 'veh_color', 'marital_status', 'e_bill', 'time_of_week_driven', 'time_driven', 'trm_len', 'high_education_ind'])\n",
    "val_df_dummies = val_df_dummies.rename(columns={'high_education_ind_0': 'high_education_ind_0.0', 'high_education_ind_1': 'high_education_ind_1.0'})"
   ]
  },
  {
   "cell_type": "code",
   "execution_count": 18,
   "metadata": {},
   "outputs": [
    {
     "name": "stdout",
     "output_type": "stream",
     "text": [
      "0.0\n",
      "36312.62442\n",
      "0.0\n",
      "231.69981057006783\n"
     ]
    },
    {
     "data": {
      "image/png": "[encoded data removed]",
      "text/plain": [
       "<Figure size 640x480 with 1 Axes>"
      ]
     },
     "metadata": {},
     "output_type": "display_data"
    }
   ],
   "source": [
    "predicted_costs = cost_model.predict(scaler.transform(val_df_dummies))\n",
    "predicted_costs = np.exp(predicted_costs) - 1\n",
    "\n",
    "print(predicted_costs.min())\n",
    "print(predicted_costs.max())\n",
    "print(np.median(predicted_costs))\n",
    "print(predicted_costs.mean())\n",
    "\n",
    "# plt.hist(df['claimcst0'], bins=50)\n",
    "plt.hist(predicted_costs, bins=50)\n",
    "plt.show()"
   ]
  },
  {
   "cell_type": "code",
   "execution_count": 19,
   "metadata": {},
   "outputs": [
    {
     "data": {
      "text/html": [
       "<div>\n",
       "<style scoped>\n",
       "    .dataframe tbody tr th:only-of-type {\n",
       "        vertical-align: middle;\n",
       "    }\n",
       "\n",
       "    .dataframe tbody tr th {\n",
       "        vertical-align: top;\n",
       "    }\n",
       "\n",
       "    .dataframe thead th {\n",
       "        text-align: right;\n",
       "    }\n",
       "</style>\n",
       "<table border=\"1\" class=\"dataframe\">\n",
       "  <thead>\n",
       "    <tr style=\"text-align: right;\">\n",
       "      <th></th>\n",
       "      <th>id</th>\n",
       "      <th>Predict</th>\n",
       "    </tr>\n",
       "  </thead>\n",
       "  <tbody>\n",
       "    <tr>\n",
       "      <th>0</th>\n",
       "      <td>1</td>\n",
       "      <td>442.203920</td>\n",
       "    </tr>\n",
       "    <tr>\n",
       "      <th>1</th>\n",
       "      <td>2</td>\n",
       "      <td>23.415565</td>\n",
       "    </tr>\n",
       "    <tr>\n",
       "      <th>2</th>\n",
       "      <td>3</td>\n",
       "      <td>0.000000</td>\n",
       "    </tr>\n",
       "    <tr>\n",
       "      <th>3</th>\n",
       "      <td>4</td>\n",
       "      <td>0.000000</td>\n",
       "    </tr>\n",
       "    <tr>\n",
       "      <th>4</th>\n",
       "      <td>5</td>\n",
       "      <td>0.000000</td>\n",
       "    </tr>\n",
       "  </tbody>\n",
       "</table>\n",
       "</div>"
      ],
      "text/plain": [
       "   id     Predict\n",
       "0   1  442.203920\n",
       "1   2   23.415565\n",
       "2   3    0.000000\n",
       "3   4    0.000000\n",
       "4   5    0.000000"
      ]
     },
     "execution_count": 19,
     "metadata": {},
     "output_type": "execute_result"
    }
   ],
   "source": [
    "submission_df = pd.DataFrame({'id': ids, 'Predict': predicted_costs.reshape(-1,)})\n",
    "submission_df.head()"
   ]
  },
  {
   "cell_type": "code",
   "execution_count": 20,
   "metadata": {},
   "outputs": [],
   "source": [
    "submission_df.to_csv('./data/submission.csv', index=False)"
   ]
  },
  {
   "cell_type": "code",
   "execution_count": null,
   "metadata": {},
   "outputs": [],
   "source": []
  }
 ],
 "metadata": {
  "kernelspec": {
   "display_name": "travelers",
   "language": "python",
   "name": "python3"
  },
  "language_info": {
   "codemirror_mode": {
    "name": "ipython",
    "version": 3
   },
   "file_extension": ".py",
   "mimetype": "text/x-python",
   "name": "python",
   "nbconvert_exporter": "python",
   "pygments_lexer": "ipython3",
   "version": "3.11.5"
  }
 },
 "nbformat": 4,
 "nbformat_minor": 2
}
