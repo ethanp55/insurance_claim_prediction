{
 "cells": [
  {
   "cell_type": "code",
   "execution_count": 177,
   "metadata": {},
   "outputs": [],
   "source": [
    "import matplotlib.pyplot as plt\n",
    "import numpy as np\n",
    "import pandas as pd\n",
    "import random\n",
    "from sklearn.ensemble import GradientBoostingClassifier, GradientBoostingRegressor, RandomForestClassifier, RandomForestRegressor\n",
    "from sklearn.metrics import accuracy_score, mean_squared_error\n",
    "from sklearn.model_selection import train_test_split\n",
    "from sklearn.utils import resample"
   ]
  },
  {
   "cell_type": "code",
   "execution_count": 2,
   "metadata": {},
   "outputs": [
    {
     "data": {
      "text/html": [
       "<div>\n",
       "<style scoped>\n",
       "    .dataframe tbody tr th:only-of-type {\n",
       "        vertical-align: middle;\n",
       "    }\n",
       "\n",
       "    .dataframe tbody tr th {\n",
       "        vertical-align: top;\n",
       "    }\n",
       "\n",
       "    .dataframe thead th {\n",
       "        text-align: right;\n",
       "    }\n",
       "</style>\n",
       "<table border=\"1\" class=\"dataframe\">\n",
       "  <thead>\n",
       "    <tr style=\"text-align: right;\">\n",
       "      <th></th>\n",
       "      <th>id</th>\n",
       "      <th>veh_value</th>\n",
       "      <th>exposure</th>\n",
       "      <th>veh_body</th>\n",
       "      <th>veh_age</th>\n",
       "      <th>gender</th>\n",
       "      <th>area</th>\n",
       "      <th>agecat</th>\n",
       "      <th>engine_type</th>\n",
       "      <th>max_power</th>\n",
       "      <th>...</th>\n",
       "      <th>marital_status</th>\n",
       "      <th>e_bill</th>\n",
       "      <th>time_of_week_driven</th>\n",
       "      <th>time_driven</th>\n",
       "      <th>trm_len</th>\n",
       "      <th>credit_score</th>\n",
       "      <th>high_education_ind</th>\n",
       "      <th>clm</th>\n",
       "      <th>numclaims</th>\n",
       "      <th>claimcst0</th>\n",
       "    </tr>\n",
       "  </thead>\n",
       "  <tbody>\n",
       "    <tr>\n",
       "      <th>0</th>\n",
       "      <td>1</td>\n",
       "      <td>0.77</td>\n",
       "      <td>0.444504</td>\n",
       "      <td>SEDAN</td>\n",
       "      <td>4</td>\n",
       "      <td>M</td>\n",
       "      <td>D</td>\n",
       "      <td>3</td>\n",
       "      <td>petrol</td>\n",
       "      <td>147</td>\n",
       "      <td>...</td>\n",
       "      <td>S</td>\n",
       "      <td>1</td>\n",
       "      <td>weekday</td>\n",
       "      <td>6pm - 12am</td>\n",
       "      <td>6</td>\n",
       "      <td>640.448137</td>\n",
       "      <td>1.0</td>\n",
       "      <td>0</td>\n",
       "      <td>0</td>\n",
       "      <td>0.0</td>\n",
       "    </tr>\n",
       "    <tr>\n",
       "      <th>1</th>\n",
       "      <td>2</td>\n",
       "      <td>4.45</td>\n",
       "      <td>0.562183</td>\n",
       "      <td>STNWG</td>\n",
       "      <td>1</td>\n",
       "      <td>M</td>\n",
       "      <td>A</td>\n",
       "      <td>3</td>\n",
       "      <td>petrol</td>\n",
       "      <td>158</td>\n",
       "      <td>...</td>\n",
       "      <td>S</td>\n",
       "      <td>1</td>\n",
       "      <td>weekday</td>\n",
       "      <td>6am - 12pm</td>\n",
       "      <td>12</td>\n",
       "      <td>683.749691</td>\n",
       "      <td>0.0</td>\n",
       "      <td>0</td>\n",
       "      <td>0</td>\n",
       "      <td>0.0</td>\n",
       "    </tr>\n",
       "    <tr>\n",
       "      <th>2</th>\n",
       "      <td>3</td>\n",
       "      <td>4.90</td>\n",
       "      <td>0.465244</td>\n",
       "      <td>STNWG</td>\n",
       "      <td>1</td>\n",
       "      <td>F</td>\n",
       "      <td>A</td>\n",
       "      <td>3</td>\n",
       "      <td>petrol</td>\n",
       "      <td>159</td>\n",
       "      <td>...</td>\n",
       "      <td>M</td>\n",
       "      <td>1</td>\n",
       "      <td>weekday</td>\n",
       "      <td>6pm - 12am</td>\n",
       "      <td>6</td>\n",
       "      <td>653.656117</td>\n",
       "      <td>1.0</td>\n",
       "      <td>0</td>\n",
       "      <td>0</td>\n",
       "      <td>0.0</td>\n",
       "    </tr>\n",
       "    <tr>\n",
       "      <th>3</th>\n",
       "      <td>4</td>\n",
       "      <td>0.48</td>\n",
       "      <td>0.271039</td>\n",
       "      <td>PANVN</td>\n",
       "      <td>4</td>\n",
       "      <td>M</td>\n",
       "      <td>A</td>\n",
       "      <td>4</td>\n",
       "      <td>petrol</td>\n",
       "      <td>80</td>\n",
       "      <td>...</td>\n",
       "      <td>S</td>\n",
       "      <td>1</td>\n",
       "      <td>weekday</td>\n",
       "      <td>12pm - 6pm</td>\n",
       "      <td>12</td>\n",
       "      <td>642.574671</td>\n",
       "      <td>0.0</td>\n",
       "      <td>0</td>\n",
       "      <td>0</td>\n",
       "      <td>0.0</td>\n",
       "    </tr>\n",
       "    <tr>\n",
       "      <th>4</th>\n",
       "      <td>5</td>\n",
       "      <td>0.85</td>\n",
       "      <td>0.141624</td>\n",
       "      <td>SEDAN</td>\n",
       "      <td>4</td>\n",
       "      <td>F</td>\n",
       "      <td>A</td>\n",
       "      <td>5</td>\n",
       "      <td>petrol</td>\n",
       "      <td>126</td>\n",
       "      <td>...</td>\n",
       "      <td>S</td>\n",
       "      <td>0</td>\n",
       "      <td>weekday</td>\n",
       "      <td>6am - 12pm</td>\n",
       "      <td>6</td>\n",
       "      <td>647.175035</td>\n",
       "      <td>0.0</td>\n",
       "      <td>0</td>\n",
       "      <td>0</td>\n",
       "      <td>0.0</td>\n",
       "    </tr>\n",
       "  </tbody>\n",
       "</table>\n",
       "<p>5 rows × 22 columns</p>\n",
       "</div>"
      ],
      "text/plain": [
       "   id  veh_value  exposure veh_body  veh_age gender area  agecat engine_type  \\\n",
       "0   1       0.77  0.444504    SEDAN        4      M    D       3      petrol   \n",
       "1   2       4.45  0.562183    STNWG        1      M    A       3      petrol   \n",
       "2   3       4.90  0.465244    STNWG        1      F    A       3      petrol   \n",
       "3   4       0.48  0.271039    PANVN        4      M    A       4      petrol   \n",
       "4   5       0.85  0.141624    SEDAN        4      F    A       5      petrol   \n",
       "\n",
       "   max_power  ...  marital_status e_bill time_of_week_driven  time_driven  \\\n",
       "0        147  ...               S      1             weekday   6pm - 12am   \n",
       "1        158  ...               S      1             weekday   6am - 12pm   \n",
       "2        159  ...               M      1             weekday   6pm - 12am   \n",
       "3         80  ...               S      1             weekday   12pm - 6pm   \n",
       "4        126  ...               S      0             weekday   6am - 12pm   \n",
       "\n",
       "  trm_len credit_score  high_education_ind  clm  numclaims  claimcst0  \n",
       "0       6   640.448137                 1.0    0          0        0.0  \n",
       "1      12   683.749691                 0.0    0          0        0.0  \n",
       "2       6   653.656117                 1.0    0          0        0.0  \n",
       "3      12   642.574671                 0.0    0          0        0.0  \n",
       "4       6   647.175035                 0.0    0          0        0.0  \n",
       "\n",
       "[5 rows x 22 columns]"
      ]
     },
     "execution_count": 2,
     "metadata": {},
     "output_type": "execute_result"
    }
   ],
   "source": [
    "df = pd.read_csv('./data/InsNova_data_2023_train.csv')\n",
    "df.reset_index(drop=True, inplace=True)\n",
    "\n",
    "df.head()"
   ]
  },
  {
   "cell_type": "code",
   "execution_count": 3,
   "metadata": {},
   "outputs": [
    {
     "data": {
      "text/plain": [
       "(22619, 22)"
      ]
     },
     "execution_count": 3,
     "metadata": {},
     "output_type": "execute_result"
    }
   ],
   "source": [
    "df.shape"
   ]
  },
  {
   "cell_type": "code",
   "execution_count": 4,
   "metadata": {},
   "outputs": [
    {
     "data": {
      "text/plain": [
       "id                       0\n",
       "veh_value                0\n",
       "exposure                 0\n",
       "veh_body                 0\n",
       "veh_age                  0\n",
       "gender                   0\n",
       "area                     0\n",
       "agecat                   0\n",
       "engine_type              0\n",
       "max_power                0\n",
       "driving_history_score    0\n",
       "veh_color                0\n",
       "marital_status           0\n",
       "e_bill                   0\n",
       "time_of_week_driven      0\n",
       "time_driven              0\n",
       "trm_len                  0\n",
       "credit_score             0\n",
       "high_education_ind       0\n",
       "clm                      0\n",
       "numclaims                0\n",
       "claimcst0                0\n",
       "dtype: int64"
      ]
     },
     "execution_count": 4,
     "metadata": {},
     "output_type": "execute_result"
    }
   ],
   "source": [
    "df.isnull().sum()"
   ]
  },
  {
   "cell_type": "code",
   "execution_count": 5,
   "metadata": {},
   "outputs": [
    {
     "data": {
      "text/plain": [
       "Index(['id', 'veh_value', 'exposure', 'veh_body', 'veh_age', 'gender', 'area',\n",
       "       'agecat', 'engine_type', 'max_power', 'driving_history_score',\n",
       "       'veh_color', 'marital_status', 'e_bill', 'time_of_week_driven',\n",
       "       'time_driven', 'trm_len', 'credit_score', 'high_education_ind', 'clm',\n",
       "       'numclaims', 'claimcst0'],\n",
       "      dtype='object')"
      ]
     },
     "execution_count": 5,
     "metadata": {},
     "output_type": "execute_result"
    }
   ],
   "source": [
    "df.columns"
   ]
  },
  {
   "cell_type": "code",
   "execution_count": 6,
   "metadata": {},
   "outputs": [
    {
     "data": {
      "text/html": [
       "<div>\n",
       "<style scoped>\n",
       "    .dataframe tbody tr th:only-of-type {\n",
       "        vertical-align: middle;\n",
       "    }\n",
       "\n",
       "    .dataframe tbody tr th {\n",
       "        vertical-align: top;\n",
       "    }\n",
       "\n",
       "    .dataframe thead th {\n",
       "        text-align: right;\n",
       "    }\n",
       "</style>\n",
       "<table border=\"1\" class=\"dataframe\">\n",
       "  <thead>\n",
       "    <tr style=\"text-align: right;\">\n",
       "      <th></th>\n",
       "      <th>veh_value</th>\n",
       "      <th>exposure</th>\n",
       "      <th>veh_body</th>\n",
       "      <th>veh_age</th>\n",
       "      <th>gender</th>\n",
       "      <th>area</th>\n",
       "      <th>agecat</th>\n",
       "      <th>engine_type</th>\n",
       "      <th>max_power</th>\n",
       "      <th>driving_history_score</th>\n",
       "      <th>...</th>\n",
       "      <th>marital_status</th>\n",
       "      <th>e_bill</th>\n",
       "      <th>time_of_week_driven</th>\n",
       "      <th>time_driven</th>\n",
       "      <th>trm_len</th>\n",
       "      <th>credit_score</th>\n",
       "      <th>high_education_ind</th>\n",
       "      <th>clm</th>\n",
       "      <th>numclaims</th>\n",
       "      <th>claimcst0</th>\n",
       "    </tr>\n",
       "  </thead>\n",
       "  <tbody>\n",
       "    <tr>\n",
       "      <th>0</th>\n",
       "      <td>0.77</td>\n",
       "      <td>0.444504</td>\n",
       "      <td>SEDAN</td>\n",
       "      <td>4</td>\n",
       "      <td>M</td>\n",
       "      <td>D</td>\n",
       "      <td>3</td>\n",
       "      <td>petrol</td>\n",
       "      <td>147</td>\n",
       "      <td>67.0</td>\n",
       "      <td>...</td>\n",
       "      <td>S</td>\n",
       "      <td>1</td>\n",
       "      <td>weekday</td>\n",
       "      <td>6pm - 12am</td>\n",
       "      <td>6</td>\n",
       "      <td>640.448137</td>\n",
       "      <td>1.0</td>\n",
       "      <td>0</td>\n",
       "      <td>0</td>\n",
       "      <td>0.0</td>\n",
       "    </tr>\n",
       "    <tr>\n",
       "      <th>1</th>\n",
       "      <td>4.45</td>\n",
       "      <td>0.562183</td>\n",
       "      <td>STNWG</td>\n",
       "      <td>1</td>\n",
       "      <td>M</td>\n",
       "      <td>A</td>\n",
       "      <td>3</td>\n",
       "      <td>petrol</td>\n",
       "      <td>158</td>\n",
       "      <td>76.0</td>\n",
       "      <td>...</td>\n",
       "      <td>S</td>\n",
       "      <td>1</td>\n",
       "      <td>weekday</td>\n",
       "      <td>6am - 12pm</td>\n",
       "      <td>12</td>\n",
       "      <td>683.749691</td>\n",
       "      <td>0.0</td>\n",
       "      <td>0</td>\n",
       "      <td>0</td>\n",
       "      <td>0.0</td>\n",
       "    </tr>\n",
       "    <tr>\n",
       "      <th>2</th>\n",
       "      <td>4.90</td>\n",
       "      <td>0.465244</td>\n",
       "      <td>STNWG</td>\n",
       "      <td>1</td>\n",
       "      <td>F</td>\n",
       "      <td>A</td>\n",
       "      <td>3</td>\n",
       "      <td>petrol</td>\n",
       "      <td>159</td>\n",
       "      <td>58.0</td>\n",
       "      <td>...</td>\n",
       "      <td>M</td>\n",
       "      <td>1</td>\n",
       "      <td>weekday</td>\n",
       "      <td>6pm - 12am</td>\n",
       "      <td>6</td>\n",
       "      <td>653.656117</td>\n",
       "      <td>1.0</td>\n",
       "      <td>0</td>\n",
       "      <td>0</td>\n",
       "      <td>0.0</td>\n",
       "    </tr>\n",
       "    <tr>\n",
       "      <th>3</th>\n",
       "      <td>0.48</td>\n",
       "      <td>0.271039</td>\n",
       "      <td>PANVN</td>\n",
       "      <td>4</td>\n",
       "      <td>M</td>\n",
       "      <td>A</td>\n",
       "      <td>4</td>\n",
       "      <td>petrol</td>\n",
       "      <td>80</td>\n",
       "      <td>72.0</td>\n",
       "      <td>...</td>\n",
       "      <td>S</td>\n",
       "      <td>1</td>\n",
       "      <td>weekday</td>\n",
       "      <td>12pm - 6pm</td>\n",
       "      <td>12</td>\n",
       "      <td>642.574671</td>\n",
       "      <td>0.0</td>\n",
       "      <td>0</td>\n",
       "      <td>0</td>\n",
       "      <td>0.0</td>\n",
       "    </tr>\n",
       "    <tr>\n",
       "      <th>4</th>\n",
       "      <td>0.85</td>\n",
       "      <td>0.141624</td>\n",
       "      <td>SEDAN</td>\n",
       "      <td>4</td>\n",
       "      <td>F</td>\n",
       "      <td>A</td>\n",
       "      <td>5</td>\n",
       "      <td>petrol</td>\n",
       "      <td>126</td>\n",
       "      <td>91.0</td>\n",
       "      <td>...</td>\n",
       "      <td>S</td>\n",
       "      <td>0</td>\n",
       "      <td>weekday</td>\n",
       "      <td>6am - 12pm</td>\n",
       "      <td>6</td>\n",
       "      <td>647.175035</td>\n",
       "      <td>0.0</td>\n",
       "      <td>0</td>\n",
       "      <td>0</td>\n",
       "      <td>0.0</td>\n",
       "    </tr>\n",
       "  </tbody>\n",
       "</table>\n",
       "<p>5 rows × 21 columns</p>\n",
       "</div>"
      ],
      "text/plain": [
       "   veh_value  exposure veh_body  veh_age gender area  agecat engine_type  \\\n",
       "0       0.77  0.444504    SEDAN        4      M    D       3      petrol   \n",
       "1       4.45  0.562183    STNWG        1      M    A       3      petrol   \n",
       "2       4.90  0.465244    STNWG        1      F    A       3      petrol   \n",
       "3       0.48  0.271039    PANVN        4      M    A       4      petrol   \n",
       "4       0.85  0.141624    SEDAN        4      F    A       5      petrol   \n",
       "\n",
       "   max_power  driving_history_score  ... marital_status e_bill  \\\n",
       "0        147                   67.0  ...              S      1   \n",
       "1        158                   76.0  ...              S      1   \n",
       "2        159                   58.0  ...              M      1   \n",
       "3         80                   72.0  ...              S      1   \n",
       "4        126                   91.0  ...              S      0   \n",
       "\n",
       "   time_of_week_driven time_driven trm_len  credit_score  high_education_ind  \\\n",
       "0              weekday  6pm - 12am       6    640.448137                 1.0   \n",
       "1              weekday  6am - 12pm      12    683.749691                 0.0   \n",
       "2              weekday  6pm - 12am       6    653.656117                 1.0   \n",
       "3              weekday  12pm - 6pm      12    642.574671                 0.0   \n",
       "4              weekday  6am - 12pm       6    647.175035                 0.0   \n",
       "\n",
       "   clm  numclaims  claimcst0  \n",
       "0    0          0        0.0  \n",
       "1    0          0        0.0  \n",
       "2    0          0        0.0  \n",
       "3    0          0        0.0  \n",
       "4    0          0        0.0  \n",
       "\n",
       "[5 rows x 21 columns]"
      ]
     },
     "execution_count": 6,
     "metadata": {},
     "output_type": "execute_result"
    }
   ],
   "source": [
    "df.drop(['id'], axis=1, inplace=True)\n",
    "df.head()"
   ]
  },
  {
   "cell_type": "code",
   "execution_count": 7,
   "metadata": {},
   "outputs": [
    {
     "name": "stdout",
     "output_type": "stream",
     "text": [
      "<class 'pandas.core.frame.DataFrame'>\n",
      "RangeIndex: 22619 entries, 0 to 22618\n",
      "Data columns (total 21 columns):\n",
      " #   Column                 Non-Null Count  Dtype  \n",
      "---  ------                 --------------  -----  \n",
      " 0   veh_value              22619 non-null  float64\n",
      " 1   exposure               22619 non-null  float64\n",
      " 2   veh_body               22619 non-null  object \n",
      " 3   veh_age                22619 non-null  int64  \n",
      " 4   gender                 22619 non-null  object \n",
      " 5   area                   22619 non-null  object \n",
      " 6   agecat                 22619 non-null  int64  \n",
      " 7   engine_type            22619 non-null  object \n",
      " 8   max_power              22619 non-null  int64  \n",
      " 9   driving_history_score  22619 non-null  float64\n",
      " 10  veh_color              22619 non-null  object \n",
      " 11  marital_status         22619 non-null  object \n",
      " 12  e_bill                 22619 non-null  int64  \n",
      " 13  time_of_week_driven    22619 non-null  object \n",
      " 14  time_driven            22619 non-null  object \n",
      " 15  trm_len                22619 non-null  int64  \n",
      " 16  credit_score           22619 non-null  float64\n",
      " 17  high_education_ind     22619 non-null  float64\n",
      " 18  clm                    22619 non-null  int64  \n",
      " 19  numclaims              22619 non-null  int64  \n",
      " 20  claimcst0              22619 non-null  float64\n",
      "dtypes: float64(6), int64(7), object(8)\n",
      "memory usage: 3.6+ MB\n"
     ]
    }
   ],
   "source": [
    "df.info()"
   ]
  },
  {
   "cell_type": "code",
   "execution_count": 14,
   "metadata": {},
   "outputs": [
    {
     "data": {
      "text/plain": [
       "count    22619.000000\n",
       "mean         1.868948\n",
       "std          1.278588\n",
       "min          0.000000\n",
       "25%          1.070000\n",
       "50%          1.570000\n",
       "75%          2.260000\n",
       "max         24.510000\n",
       "Name: veh_value, dtype: float64"
      ]
     },
     "execution_count": 14,
     "metadata": {},
     "output_type": "execute_result"
    }
   ],
   "source": [
    "df['veh_value'].describe()"
   ]
  },
  {
   "cell_type": "code",
   "execution_count": 27,
   "metadata": {},
   "outputs": [
    {
     "data": {
      "image/png": "[encoded data removed]",
      "text/plain": [
       "<Figure size 640x480 with 1 Axes>"
      ]
     },
     "metadata": {},
     "output_type": "display_data"
    }
   ],
   "source": [
    "plt.hist(df['veh_value'], bins=50)\n",
    "plt.show()"
   ]
  },
  {
   "cell_type": "code",
   "execution_count": 20,
   "metadata": {},
   "outputs": [
    {
     "data": {
      "text/plain": [
       "count    22619.000000\n",
       "mean         0.433038\n",
       "std          0.272899\n",
       "min          0.001754\n",
       "25%          0.203696\n",
       "50%          0.384313\n",
       "75%          0.643316\n",
       "max          0.999378\n",
       "Name: exposure, dtype: float64"
      ]
     },
     "execution_count": 20,
     "metadata": {},
     "output_type": "execute_result"
    }
   ],
   "source": [
    "df['exposure'].describe()"
   ]
  },
  {
   "cell_type": "code",
   "execution_count": 28,
   "metadata": {},
   "outputs": [
    {
     "data": {
      "image/png": "[encoded data removed]",
      "text/plain": [
       "<Figure size 640x480 with 1 Axes>"
      ]
     },
     "metadata": {},
     "output_type": "display_data"
    }
   ],
   "source": [
    "plt.hist(df['exposure'], bins=50)\n",
    "plt.show()"
   ]
  },
  {
   "cell_type": "code",
   "execution_count": 29,
   "metadata": {},
   "outputs": [
    {
     "data": {
      "text/plain": [
       "SEDAN    7376\n",
       "HBACK    6305\n",
       "STNWG    5436\n",
       "UTE      1530\n",
       "TRUCK     586\n",
       "HDTOP     510\n",
       "COUPE     279\n",
       "MIBUS     253\n",
       "PANVN     248\n",
       "MCARA      40\n",
       "CONVT      28\n",
       "BUS        19\n",
       "RDSTR       9\n",
       "Name: veh_body, dtype: int64"
      ]
     },
     "execution_count": 29,
     "metadata": {},
     "output_type": "execute_result"
    }
   ],
   "source": [
    "df['veh_body'].value_counts()"
   ]
  },
  {
   "cell_type": "code",
   "execution_count": 11,
   "metadata": {},
   "outputs": [],
   "source": [
    "veh_bodies, counts = [], []\n",
    "value_counts = df['veh_body'].value_counts()\n",
    "\n",
    "for body in value_counts.keys():\n",
    "    veh_bodies.append(body)\n",
    "    counts.append(value_counts[body])"
   ]
  },
  {
   "cell_type": "code",
   "execution_count": 12,
   "metadata": {},
   "outputs": [
    {
     "data": {
      "image/png": "[encoded data removed]",
      "text/plain": [
       "<Figure size 640x480 with 1 Axes>"
      ]
     },
     "metadata": {},
     "output_type": "display_data"
    }
   ],
   "source": [
    "plt.bar(veh_bodies, counts)\n",
    "plt.show()"
   ]
  },
  {
   "cell_type": "code",
   "execution_count": 8,
   "metadata": {},
   "outputs": [
    {
     "data": {
      "text/plain": [
       "3    6694\n",
       "4    6285\n",
       "2    5474\n",
       "1    4166\n",
       "Name: veh_age, dtype: int64"
      ]
     },
     "execution_count": 8,
     "metadata": {},
     "output_type": "execute_result"
    }
   ],
   "source": [
    "df['veh_age'].value_counts()"
   ]
  },
  {
   "cell_type": "code",
   "execution_count": 15,
   "metadata": {},
   "outputs": [],
   "source": [
    "veh_ages, counts = [], []\n",
    "value_counts = df['veh_age'].value_counts()\n",
    "\n",
    "for body in value_counts.keys():\n",
    "    veh_ages.append(body)\n",
    "    counts.append(value_counts[body])"
   ]
  },
  {
   "cell_type": "code",
   "execution_count": 16,
   "metadata": {},
   "outputs": [
    {
     "data": {
      "image/png": "[encoded data removed]",
      "text/plain": [
       "<Figure size 640x480 with 1 Axes>"
      ]
     },
     "metadata": {},
     "output_type": "display_data"
    }
   ],
   "source": [
    "plt.bar(veh_ages, counts)\n",
    "plt.show()"
   ]
  },
  {
   "cell_type": "code",
   "execution_count": 17,
   "metadata": {},
   "outputs": [
    {
     "data": {
      "text/plain": [
       "F    12853\n",
       "M     9766\n",
       "Name: gender, dtype: int64"
      ]
     },
     "execution_count": 17,
     "metadata": {},
     "output_type": "execute_result"
    }
   ],
   "source": [
    "df['gender'].value_counts()"
   ]
  },
  {
   "cell_type": "code",
   "execution_count": 18,
   "metadata": {},
   "outputs": [
    {
     "data": {
      "text/plain": [
       "C    6944\n",
       "A    5450\n",
       "B    4466\n",
       "D    2620\n",
       "E    1951\n",
       "F    1188\n",
       "Name: area, dtype: int64"
      ]
     },
     "execution_count": 18,
     "metadata": {},
     "output_type": "execute_result"
    }
   ],
   "source": [
    "df['area'].value_counts()"
   ]
  },
  {
   "cell_type": "code",
   "execution_count": 19,
   "metadata": {},
   "outputs": [
    {
     "data": {
      "text/plain": [
       "4    5383\n",
       "3    5304\n",
       "2    4360\n",
       "5    3544\n",
       "6    2168\n",
       "1    1860\n",
       "Name: agecat, dtype: int64"
      ]
     },
     "execution_count": 19,
     "metadata": {},
     "output_type": "execute_result"
    }
   ],
   "source": [
    "df['agecat'].value_counts()"
   ]
  },
  {
   "cell_type": "code",
   "execution_count": 20,
   "metadata": {},
   "outputs": [
    {
     "data": {
      "text/plain": [
       "petrol      14146\n",
       "dissel       4603\n",
       "hybrid       2107\n",
       "electric     1763\n",
       "Name: engine_type, dtype: int64"
      ]
     },
     "execution_count": 20,
     "metadata": {},
     "output_type": "execute_result"
    }
   ],
   "source": [
    "df['engine_type'].value_counts()"
   ]
  },
  {
   "cell_type": "code",
   "execution_count": 22,
   "metadata": {},
   "outputs": [
    {
     "data": {
      "image/png": "[encoded data removed]",
      "text/plain": [
       "<Figure size 640x480 with 1 Axes>"
      ]
     },
     "metadata": {},
     "output_type": "display_data"
    }
   ],
   "source": [
    "plt.hist(df['max_power'], bins=50)\n",
    "plt.show()"
   ]
  },
  {
   "cell_type": "code",
   "execution_count": 27,
   "metadata": {},
   "outputs": [
    {
     "data": {
      "image/png": "[encoded data removed]",
      "text/plain": [
       "<Figure size 640x480 with 1 Axes>"
      ]
     },
     "metadata": {},
     "output_type": "display_data"
    }
   ],
   "source": [
    "plt.hist(df['driving_history_score'], bins=50)\n",
    "plt.show()"
   ]
  },
  {
   "cell_type": "code",
   "execution_count": 28,
   "metadata": {},
   "outputs": [
    {
     "data": {
      "text/plain": [
       "white     4873\n",
       "gray      4766\n",
       "black     4359\n",
       "blue      2002\n",
       "silver    1818\n",
       "red       1360\n",
       "green     1316\n",
       "brown     1142\n",
       "yellow     983\n",
       "Name: veh_color, dtype: int64"
      ]
     },
     "execution_count": 28,
     "metadata": {},
     "output_type": "execute_result"
    }
   ],
   "source": [
    "df['veh_color'].value_counts()"
   ]
  },
  {
   "cell_type": "code",
   "execution_count": 29,
   "metadata": {},
   "outputs": [
    {
     "data": {
      "text/plain": [
       "M    12401\n",
       "S    10218\n",
       "Name: marital_status, dtype: int64"
      ]
     },
     "execution_count": 29,
     "metadata": {},
     "output_type": "execute_result"
    }
   ],
   "source": [
    "df['marital_status'].value_counts()"
   ]
  },
  {
   "cell_type": "code",
   "execution_count": 30,
   "metadata": {},
   "outputs": [
    {
     "data": {
      "text/plain": [
       "1    14404\n",
       "0     8215\n",
       "Name: e_bill, dtype: int64"
      ]
     },
     "execution_count": 30,
     "metadata": {},
     "output_type": "execute_result"
    }
   ],
   "source": [
    "df['e_bill'].value_counts()"
   ]
  },
  {
   "cell_type": "code",
   "execution_count": 31,
   "metadata": {},
   "outputs": [
    {
     "data": {
      "text/plain": [
       "weekday    18105\n",
       "weekend     4514\n",
       "Name: time_of_week_driven, dtype: int64"
      ]
     },
     "execution_count": 31,
     "metadata": {},
     "output_type": "execute_result"
    }
   ],
   "source": [
    "df['time_of_week_driven'].value_counts()"
   ]
  },
  {
   "cell_type": "code",
   "execution_count": 32,
   "metadata": {},
   "outputs": [
    {
     "data": {
      "text/plain": [
       "12pm - 6pm     9102\n",
       "6am - 12pm     9000\n",
       "6pm - 12am     3385\n",
       "12am - 6 am    1132\n",
       "Name: time_driven, dtype: int64"
      ]
     },
     "execution_count": 32,
     "metadata": {},
     "output_type": "execute_result"
    }
   ],
   "source": [
    "df['time_driven'].value_counts()"
   ]
  },
  {
   "cell_type": "code",
   "execution_count": 33,
   "metadata": {},
   "outputs": [
    {
     "data": {
      "text/plain": [
       "12    16941\n",
       "6      5678\n",
       "Name: trm_len, dtype: int64"
      ]
     },
     "execution_count": 33,
     "metadata": {},
     "output_type": "execute_result"
    }
   ],
   "source": [
    "df['trm_len'].value_counts()"
   ]
  },
  {
   "cell_type": "code",
   "execution_count": 34,
   "metadata": {},
   "outputs": [
    {
     "data": {
      "image/png": "[encoded data removed]",
      "text/plain": [
       "<Figure size 640x480 with 1 Axes>"
      ]
     },
     "metadata": {},
     "output_type": "display_data"
    }
   ],
   "source": [
    "plt.hist(df['credit_score'], bins=50)\n",
    "plt.show()"
   ]
  },
  {
   "cell_type": "code",
   "execution_count": 35,
   "metadata": {},
   "outputs": [
    {
     "data": {
      "text/plain": [
       "0.0    19970\n",
       "1.0     2649\n",
       "Name: high_education_ind, dtype: int64"
      ]
     },
     "execution_count": 35,
     "metadata": {},
     "output_type": "execute_result"
    }
   ],
   "source": [
    "df['high_education_ind'].value_counts()"
   ]
  },
  {
   "cell_type": "code",
   "execution_count": 36,
   "metadata": {},
   "outputs": [
    {
     "data": {
      "text/plain": [
       "0    21077\n",
       "1     1542\n",
       "Name: clm, dtype: int64"
      ]
     },
     "execution_count": 36,
     "metadata": {},
     "output_type": "execute_result"
    }
   ],
   "source": [
    "df['clm'].value_counts()"
   ]
  },
  {
   "cell_type": "code",
   "execution_count": 37,
   "metadata": {},
   "outputs": [
    {
     "data": {
      "text/plain": [
       "0    21077\n",
       "1     1439\n",
       "2       94\n",
       "3        9\n",
       "Name: numclaims, dtype: int64"
      ]
     },
     "execution_count": 37,
     "metadata": {},
     "output_type": "execute_result"
    }
   ],
   "source": [
    "df['numclaims'].value_counts()"
   ]
  },
  {
   "cell_type": "code",
   "execution_count": 162,
   "metadata": {},
   "outputs": [
    {
     "data": {
      "image/png": "[encoded data removed]",
      "text/plain": [
       "<Figure size 640x480 with 1 Axes>"
      ]
     },
     "metadata": {},
     "output_type": "display_data"
    }
   ],
   "source": [
    "plt.hist(df['claimcst0'], bins=50)\n",
    "plt.show()"
   ]
  },
  {
   "cell_type": "code",
   "execution_count": 49,
   "metadata": {},
   "outputs": [
    {
     "data": {
      "text/html": [
       "<div>\n",
       "<style scoped>\n",
       "    .dataframe tbody tr th:only-of-type {\n",
       "        vertical-align: middle;\n",
       "    }\n",
       "\n",
       "    .dataframe tbody tr th {\n",
       "        vertical-align: top;\n",
       "    }\n",
       "\n",
       "    .dataframe thead th {\n",
       "        text-align: right;\n",
       "    }\n",
       "</style>\n",
       "<table border=\"1\" class=\"dataframe\">\n",
       "  <thead>\n",
       "    <tr style=\"text-align: right;\">\n",
       "      <th></th>\n",
       "      <th>veh_value</th>\n",
       "      <th>exposure</th>\n",
       "      <th>veh_age</th>\n",
       "      <th>agecat</th>\n",
       "      <th>max_power</th>\n",
       "      <th>driving_history_score</th>\n",
       "      <th>e_bill</th>\n",
       "      <th>trm_len</th>\n",
       "      <th>credit_score</th>\n",
       "      <th>high_education_ind</th>\n",
       "      <th>clm</th>\n",
       "      <th>numclaims</th>\n",
       "      <th>claimcst0</th>\n",
       "    </tr>\n",
       "  </thead>\n",
       "  <tbody>\n",
       "    <tr>\n",
       "      <th>veh_value</th>\n",
       "      <td>1.000000</td>\n",
       "      <td>-0.000279</td>\n",
       "      <td>-0.539635</td>\n",
       "      <td>-0.066263</td>\n",
       "      <td>0.190229</td>\n",
       "      <td>0.010630</td>\n",
       "      <td>0.126045</td>\n",
       "      <td>-0.000240</td>\n",
       "      <td>-0.002800</td>\n",
       "      <td>-0.008438</td>\n",
       "      <td>0.005282</td>\n",
       "      <td>0.002191</td>\n",
       "      <td>0.002859</td>\n",
       "    </tr>\n",
       "    <tr>\n",
       "      <th>exposure</th>\n",
       "      <td>-0.000279</td>\n",
       "      <td>1.000000</td>\n",
       "      <td>0.038373</td>\n",
       "      <td>0.027080</td>\n",
       "      <td>-0.001208</td>\n",
       "      <td>-0.005429</td>\n",
       "      <td>-0.000743</td>\n",
       "      <td>0.402730</td>\n",
       "      <td>-0.081266</td>\n",
       "      <td>0.527214</td>\n",
       "      <td>0.116118</td>\n",
       "      <td>0.117565</td>\n",
       "      <td>0.039957</td>\n",
       "    </tr>\n",
       "    <tr>\n",
       "      <th>veh_age</th>\n",
       "      <td>-0.539635</td>\n",
       "      <td>0.038373</td>\n",
       "      <td>1.000000</td>\n",
       "      <td>0.028051</td>\n",
       "      <td>0.059412</td>\n",
       "      <td>-0.004086</td>\n",
       "      <td>-0.162433</td>\n",
       "      <td>0.016479</td>\n",
       "      <td>0.001467</td>\n",
       "      <td>0.030029</td>\n",
       "      <td>0.001758</td>\n",
       "      <td>0.004123</td>\n",
       "      <td>0.007544</td>\n",
       "    </tr>\n",
       "    <tr>\n",
       "      <th>agecat</th>\n",
       "      <td>-0.066263</td>\n",
       "      <td>0.027080</td>\n",
       "      <td>0.028051</td>\n",
       "      <td>1.000000</td>\n",
       "      <td>-0.049019</td>\n",
       "      <td>0.000759</td>\n",
       "      <td>-0.017738</td>\n",
       "      <td>-0.000865</td>\n",
       "      <td>0.000132</td>\n",
       "      <td>0.021883</td>\n",
       "      <td>-0.030845</td>\n",
       "      <td>-0.029969</td>\n",
       "      <td>-0.021520</td>\n",
       "    </tr>\n",
       "    <tr>\n",
       "      <th>max_power</th>\n",
       "      <td>0.190229</td>\n",
       "      <td>-0.001208</td>\n",
       "      <td>0.059412</td>\n",
       "      <td>-0.049019</td>\n",
       "      <td>1.000000</td>\n",
       "      <td>0.002779</td>\n",
       "      <td>0.004979</td>\n",
       "      <td>0.001494</td>\n",
       "      <td>0.002260</td>\n",
       "      <td>0.002135</td>\n",
       "      <td>-0.003863</td>\n",
       "      <td>0.000056</td>\n",
       "      <td>0.008413</td>\n",
       "    </tr>\n",
       "    <tr>\n",
       "      <th>driving_history_score</th>\n",
       "      <td>0.010630</td>\n",
       "      <td>-0.005429</td>\n",
       "      <td>-0.004086</td>\n",
       "      <td>0.000759</td>\n",
       "      <td>0.002779</td>\n",
       "      <td>1.000000</td>\n",
       "      <td>-0.004984</td>\n",
       "      <td>-0.001114</td>\n",
       "      <td>-0.003909</td>\n",
       "      <td>-0.003035</td>\n",
       "      <td>0.008172</td>\n",
       "      <td>0.008004</td>\n",
       "      <td>0.012507</td>\n",
       "    </tr>\n",
       "    <tr>\n",
       "      <th>e_bill</th>\n",
       "      <td>0.126045</td>\n",
       "      <td>-0.000743</td>\n",
       "      <td>-0.162433</td>\n",
       "      <td>-0.017738</td>\n",
       "      <td>0.004979</td>\n",
       "      <td>-0.004984</td>\n",
       "      <td>1.000000</td>\n",
       "      <td>-0.012550</td>\n",
       "      <td>0.017685</td>\n",
       "      <td>-0.006264</td>\n",
       "      <td>0.002568</td>\n",
       "      <td>0.000235</td>\n",
       "      <td>-0.001108</td>\n",
       "    </tr>\n",
       "    <tr>\n",
       "      <th>trm_len</th>\n",
       "      <td>-0.000240</td>\n",
       "      <td>0.402730</td>\n",
       "      <td>0.016479</td>\n",
       "      <td>-0.000865</td>\n",
       "      <td>0.001494</td>\n",
       "      <td>-0.001114</td>\n",
       "      <td>-0.012550</td>\n",
       "      <td>1.000000</td>\n",
       "      <td>-0.007846</td>\n",
       "      <td>0.005382</td>\n",
       "      <td>-0.007247</td>\n",
       "      <td>-0.006479</td>\n",
       "      <td>-0.000671</td>\n",
       "    </tr>\n",
       "    <tr>\n",
       "      <th>credit_score</th>\n",
       "      <td>-0.002800</td>\n",
       "      <td>-0.081266</td>\n",
       "      <td>0.001467</td>\n",
       "      <td>0.000132</td>\n",
       "      <td>0.002260</td>\n",
       "      <td>-0.003909</td>\n",
       "      <td>0.017685</td>\n",
       "      <td>-0.007846</td>\n",
       "      <td>1.000000</td>\n",
       "      <td>-0.046448</td>\n",
       "      <td>-0.013757</td>\n",
       "      <td>-0.013117</td>\n",
       "      <td>-0.006191</td>\n",
       "    </tr>\n",
       "    <tr>\n",
       "      <th>high_education_ind</th>\n",
       "      <td>-0.008438</td>\n",
       "      <td>0.527214</td>\n",
       "      <td>0.030029</td>\n",
       "      <td>0.021883</td>\n",
       "      <td>0.002135</td>\n",
       "      <td>-0.003035</td>\n",
       "      <td>-0.006264</td>\n",
       "      <td>0.005382</td>\n",
       "      <td>-0.046448</td>\n",
       "      <td>1.000000</td>\n",
       "      <td>0.080958</td>\n",
       "      <td>0.082107</td>\n",
       "      <td>0.024714</td>\n",
       "    </tr>\n",
       "    <tr>\n",
       "      <th>clm</th>\n",
       "      <td>0.005282</td>\n",
       "      <td>0.116118</td>\n",
       "      <td>0.001758</td>\n",
       "      <td>-0.030845</td>\n",
       "      <td>-0.003863</td>\n",
       "      <td>0.008172</td>\n",
       "      <td>0.002568</td>\n",
       "      <td>-0.007247</td>\n",
       "      <td>-0.013757</td>\n",
       "      <td>0.080958</td>\n",
       "      <td>1.000000</td>\n",
       "      <td>0.965062</td>\n",
       "      <td>0.473932</td>\n",
       "    </tr>\n",
       "    <tr>\n",
       "      <th>numclaims</th>\n",
       "      <td>0.002191</td>\n",
       "      <td>0.117565</td>\n",
       "      <td>0.004123</td>\n",
       "      <td>-0.029969</td>\n",
       "      <td>0.000056</td>\n",
       "      <td>0.008004</td>\n",
       "      <td>0.000235</td>\n",
       "      <td>-0.006479</td>\n",
       "      <td>-0.013117</td>\n",
       "      <td>0.082107</td>\n",
       "      <td>0.965062</td>\n",
       "      <td>1.000000</td>\n",
       "      <td>0.476412</td>\n",
       "    </tr>\n",
       "    <tr>\n",
       "      <th>claimcst0</th>\n",
       "      <td>0.002859</td>\n",
       "      <td>0.039957</td>\n",
       "      <td>0.007544</td>\n",
       "      <td>-0.021520</td>\n",
       "      <td>0.008413</td>\n",
       "      <td>0.012507</td>\n",
       "      <td>-0.001108</td>\n",
       "      <td>-0.000671</td>\n",
       "      <td>-0.006191</td>\n",
       "      <td>0.024714</td>\n",
       "      <td>0.473932</td>\n",
       "      <td>0.476412</td>\n",
       "      <td>1.000000</td>\n",
       "    </tr>\n",
       "  </tbody>\n",
       "</table>\n",
       "</div>"
      ],
      "text/plain": [
       "                       veh_value  exposure   veh_age    agecat  max_power  \\\n",
       "veh_value               1.000000 -0.000279 -0.539635 -0.066263   0.190229   \n",
       "exposure               -0.000279  1.000000  0.038373  0.027080  -0.001208   \n",
       "veh_age                -0.539635  0.038373  1.000000  0.028051   0.059412   \n",
       "agecat                 -0.066263  0.027080  0.028051  1.000000  -0.049019   \n",
       "max_power               0.190229 -0.001208  0.059412 -0.049019   1.000000   \n",
       "driving_history_score   0.010630 -0.005429 -0.004086  0.000759   0.002779   \n",
       "e_bill                  0.126045 -0.000743 -0.162433 -0.017738   0.004979   \n",
       "trm_len                -0.000240  0.402730  0.016479 -0.000865   0.001494   \n",
       "credit_score           -0.002800 -0.081266  0.001467  0.000132   0.002260   \n",
       "high_education_ind     -0.008438  0.527214  0.030029  0.021883   0.002135   \n",
       "clm                     0.005282  0.116118  0.001758 -0.030845  -0.003863   \n",
       "numclaims               0.002191  0.117565  0.004123 -0.029969   0.000056   \n",
       "claimcst0               0.002859  0.039957  0.007544 -0.021520   0.008413   \n",
       "\n",
       "                       driving_history_score    e_bill   trm_len  \\\n",
       "veh_value                           0.010630  0.126045 -0.000240   \n",
       "exposure                           -0.005429 -0.000743  0.402730   \n",
       "veh_age                            -0.004086 -0.162433  0.016479   \n",
       "agecat                              0.000759 -0.017738 -0.000865   \n",
       "max_power                           0.002779  0.004979  0.001494   \n",
       "driving_history_score               1.000000 -0.004984 -0.001114   \n",
       "e_bill                             -0.004984  1.000000 -0.012550   \n",
       "trm_len                            -0.001114 -0.012550  1.000000   \n",
       "credit_score                       -0.003909  0.017685 -0.007846   \n",
       "high_education_ind                 -0.003035 -0.006264  0.005382   \n",
       "clm                                 0.008172  0.002568 -0.007247   \n",
       "numclaims                           0.008004  0.000235 -0.006479   \n",
       "claimcst0                           0.012507 -0.001108 -0.000671   \n",
       "\n",
       "                       credit_score  high_education_ind       clm  numclaims  \\\n",
       "veh_value                 -0.002800           -0.008438  0.005282   0.002191   \n",
       "exposure                  -0.081266            0.527214  0.116118   0.117565   \n",
       "veh_age                    0.001467            0.030029  0.001758   0.004123   \n",
       "agecat                     0.000132            0.021883 -0.030845  -0.029969   \n",
       "max_power                  0.002260            0.002135 -0.003863   0.000056   \n",
       "driving_history_score     -0.003909           -0.003035  0.008172   0.008004   \n",
       "e_bill                     0.017685           -0.006264  0.002568   0.000235   \n",
       "trm_len                   -0.007846            0.005382 -0.007247  -0.006479   \n",
       "credit_score               1.000000           -0.046448 -0.013757  -0.013117   \n",
       "high_education_ind        -0.046448            1.000000  0.080958   0.082107   \n",
       "clm                       -0.013757            0.080958  1.000000   0.965062   \n",
       "numclaims                 -0.013117            0.082107  0.965062   1.000000   \n",
       "claimcst0                 -0.006191            0.024714  0.473932   0.476412   \n",
       "\n",
       "                       claimcst0  \n",
       "veh_value               0.002859  \n",
       "exposure                0.039957  \n",
       "veh_age                 0.007544  \n",
       "agecat                 -0.021520  \n",
       "max_power               0.008413  \n",
       "driving_history_score   0.012507  \n",
       "e_bill                 -0.001108  \n",
       "trm_len                -0.000671  \n",
       "credit_score           -0.006191  \n",
       "high_education_ind      0.024714  \n",
       "clm                     0.473932  \n",
       "numclaims               0.476412  \n",
       "claimcst0               1.000000  "
      ]
     },
     "execution_count": 49,
     "metadata": {},
     "output_type": "execute_result"
    }
   ],
   "source": [
    "df.corr()"
   ]
  },
  {
   "cell_type": "code",
   "execution_count": 50,
   "metadata": {},
   "outputs": [],
   "source": [
    "# MAIN MODEL METRIC (between -1 and 1, 1 is perfect, 0 is like random guessing): \n",
    "def calculate_normalized_gini_regression(true_values, predicted_values):\n",
    "    combined_data = list(zip(true_values, predicted_values))\n",
    "    combined_data.sort(key=lambda x: x[1])\n",
    "    \n",
    "    n = len(combined_data)\n",
    "    \n",
    "    cumulative_true = [0]\n",
    "    cumulative_pred = [0]\n",
    "\n",
    "    for i in range(n):\n",
    "        cumulative_true.append(cumulative_true[i] + combined_data[i][0])\n",
    "        cumulative_pred.append(cumulative_pred[i] + combined_data[i][1])\n",
    "    \n",
    "    total_area_perfect_equality = cumulative_true[-1] * cumulative_pred[-1]\n",
    "    auc = (total_area_perfect_equality - 0.5 * (cumulative_true[n] * cumulative_pred[n])) / total_area_perfect_equality\n",
    "    \n",
    "    return auc"
   ]
  },
  {
   "cell_type": "code",
   "execution_count": 260,
   "metadata": {},
   "outputs": [],
   "source": [
    "df_dummies = pd.get_dummies(df, columns=['veh_body', 'veh_age', 'gender', 'area', 'agecat', 'engine_type', 'veh_color', 'marital_status', 'e_bill', 'time_of_week_driven', 'time_driven', 'trm_len', 'high_education_ind'])"
   ]
  },
  {
   "cell_type": "markdown",
   "metadata": {},
   "source": [
    "##### clm model"
   ]
  },
  {
   "cell_type": "code",
   "execution_count": 124,
   "metadata": {},
   "outputs": [
    {
     "data": {
      "text/plain": [
       "0    21077\n",
       "1     1542\n",
       "Name: clm, dtype: int64"
      ]
     },
     "execution_count": 124,
     "metadata": {},
     "output_type": "execute_result"
    }
   ],
   "source": [
    "clm_df = df_dummies.drop(columns=['numclaims', 'claimcst0'])\n",
    "\n",
    "clm_df['clm'].value_counts()"
   ]
  },
  {
   "cell_type": "code",
   "execution_count": 125,
   "metadata": {},
   "outputs": [
    {
     "name": "stdout",
     "output_type": "stream",
     "text": [
      "(21077, 64)\n",
      "(1542, 64)\n"
     ]
    }
   ],
   "source": [
    "majority_class = clm_df[clm_df['clm'] == 0]\n",
    "minority_class = clm_df[clm_df['clm'] == 1]\n",
    "\n",
    "print(majority_class.shape)\n",
    "print(minority_class.shape)"
   ]
  },
  {
   "cell_type": "code",
   "execution_count": 126,
   "metadata": {},
   "outputs": [
    {
     "data": {
      "text/plain": [
       "(21077, 64)"
      ]
     },
     "execution_count": 126,
     "metadata": {},
     "output_type": "execute_result"
    }
   ],
   "source": [
    "oversampled_minority = resample(minority_class, replace=True, n_samples=len(majority_class))\n",
    "\n",
    "oversampled_minority.shape"
   ]
  },
  {
   "cell_type": "code",
   "execution_count": 127,
   "metadata": {},
   "outputs": [
    {
     "data": {
      "text/html": [
       "<div>\n",
       "<style scoped>\n",
       "    .dataframe tbody tr th:only-of-type {\n",
       "        vertical-align: middle;\n",
       "    }\n",
       "\n",
       "    .dataframe tbody tr th {\n",
       "        vertical-align: top;\n",
       "    }\n",
       "\n",
       "    .dataframe thead th {\n",
       "        text-align: right;\n",
       "    }\n",
       "</style>\n",
       "<table border=\"1\" class=\"dataframe\">\n",
       "  <thead>\n",
       "    <tr style=\"text-align: right;\">\n",
       "      <th></th>\n",
       "      <th>veh_value</th>\n",
       "      <th>exposure</th>\n",
       "      <th>max_power</th>\n",
       "      <th>driving_history_score</th>\n",
       "      <th>credit_score</th>\n",
       "      <th>clm</th>\n",
       "      <th>veh_body_BUS</th>\n",
       "      <th>veh_body_CONVT</th>\n",
       "      <th>veh_body_COUPE</th>\n",
       "      <th>veh_body_HBACK</th>\n",
       "      <th>...</th>\n",
       "      <th>time_of_week_driven_weekday</th>\n",
       "      <th>time_of_week_driven_weekend</th>\n",
       "      <th>time_driven_12am - 6 am</th>\n",
       "      <th>time_driven_12pm - 6pm</th>\n",
       "      <th>time_driven_6am - 12pm</th>\n",
       "      <th>time_driven_6pm - 12am</th>\n",
       "      <th>trm_len_6</th>\n",
       "      <th>trm_len_12</th>\n",
       "      <th>high_education_ind_0.0</th>\n",
       "      <th>high_education_ind_1.0</th>\n",
       "    </tr>\n",
       "  </thead>\n",
       "  <tbody>\n",
       "    <tr>\n",
       "      <th>0</th>\n",
       "      <td>0.63</td>\n",
       "      <td>0.207614</td>\n",
       "      <td>103</td>\n",
       "      <td>34.0</td>\n",
       "      <td>644.582154</td>\n",
       "      <td>0</td>\n",
       "      <td>0</td>\n",
       "      <td>0</td>\n",
       "      <td>0</td>\n",
       "      <td>0</td>\n",
       "      <td>...</td>\n",
       "      <td>1</td>\n",
       "      <td>0</td>\n",
       "      <td>0</td>\n",
       "      <td>0</td>\n",
       "      <td>1</td>\n",
       "      <td>0</td>\n",
       "      <td>0</td>\n",
       "      <td>1</td>\n",
       "      <td>1</td>\n",
       "      <td>0</td>\n",
       "    </tr>\n",
       "    <tr>\n",
       "      <th>1</th>\n",
       "      <td>0.80</td>\n",
       "      <td>0.354565</td>\n",
       "      <td>93</td>\n",
       "      <td>62.0</td>\n",
       "      <td>665.595502</td>\n",
       "      <td>0</td>\n",
       "      <td>0</td>\n",
       "      <td>0</td>\n",
       "      <td>0</td>\n",
       "      <td>1</td>\n",
       "      <td>...</td>\n",
       "      <td>0</td>\n",
       "      <td>1</td>\n",
       "      <td>0</td>\n",
       "      <td>0</td>\n",
       "      <td>1</td>\n",
       "      <td>0</td>\n",
       "      <td>0</td>\n",
       "      <td>1</td>\n",
       "      <td>1</td>\n",
       "      <td>0</td>\n",
       "    </tr>\n",
       "    <tr>\n",
       "      <th>2</th>\n",
       "      <td>2.78</td>\n",
       "      <td>0.497129</td>\n",
       "      <td>179</td>\n",
       "      <td>11.0</td>\n",
       "      <td>652.019747</td>\n",
       "      <td>1</td>\n",
       "      <td>0</td>\n",
       "      <td>0</td>\n",
       "      <td>0</td>\n",
       "      <td>0</td>\n",
       "      <td>...</td>\n",
       "      <td>1</td>\n",
       "      <td>0</td>\n",
       "      <td>0</td>\n",
       "      <td>0</td>\n",
       "      <td>1</td>\n",
       "      <td>0</td>\n",
       "      <td>1</td>\n",
       "      <td>0</td>\n",
       "      <td>0</td>\n",
       "      <td>1</td>\n",
       "    </tr>\n",
       "    <tr>\n",
       "      <th>3</th>\n",
       "      <td>0.64</td>\n",
       "      <td>0.426444</td>\n",
       "      <td>137</td>\n",
       "      <td>48.0</td>\n",
       "      <td>644.918141</td>\n",
       "      <td>1</td>\n",
       "      <td>0</td>\n",
       "      <td>0</td>\n",
       "      <td>0</td>\n",
       "      <td>0</td>\n",
       "      <td>...</td>\n",
       "      <td>1</td>\n",
       "      <td>0</td>\n",
       "      <td>0</td>\n",
       "      <td>1</td>\n",
       "      <td>0</td>\n",
       "      <td>0</td>\n",
       "      <td>0</td>\n",
       "      <td>1</td>\n",
       "      <td>1</td>\n",
       "      <td>0</td>\n",
       "    </tr>\n",
       "    <tr>\n",
       "      <th>4</th>\n",
       "      <td>1.67</td>\n",
       "      <td>0.826946</td>\n",
       "      <td>145</td>\n",
       "      <td>98.0</td>\n",
       "      <td>683.034365</td>\n",
       "      <td>0</td>\n",
       "      <td>0</td>\n",
       "      <td>0</td>\n",
       "      <td>0</td>\n",
       "      <td>0</td>\n",
       "      <td>...</td>\n",
       "      <td>1</td>\n",
       "      <td>0</td>\n",
       "      <td>0</td>\n",
       "      <td>0</td>\n",
       "      <td>1</td>\n",
       "      <td>0</td>\n",
       "      <td>0</td>\n",
       "      <td>1</td>\n",
       "      <td>1</td>\n",
       "      <td>0</td>\n",
       "    </tr>\n",
       "  </tbody>\n",
       "</table>\n",
       "<p>5 rows × 64 columns</p>\n",
       "</div>"
      ],
      "text/plain": [
       "   veh_value  exposure  max_power  driving_history_score  credit_score  clm  \\\n",
       "0       0.63  0.207614        103                   34.0    644.582154    0   \n",
       "1       0.80  0.354565         93                   62.0    665.595502    0   \n",
       "2       2.78  0.497129        179                   11.0    652.019747    1   \n",
       "3       0.64  0.426444        137                   48.0    644.918141    1   \n",
       "4       1.67  0.826946        145                   98.0    683.034365    0   \n",
       "\n",
       "   veh_body_BUS  veh_body_CONVT  veh_body_COUPE  veh_body_HBACK  ...  \\\n",
       "0             0               0               0               0  ...   \n",
       "1             0               0               0               1  ...   \n",
       "2             0               0               0               0  ...   \n",
       "3             0               0               0               0  ...   \n",
       "4             0               0               0               0  ...   \n",
       "\n",
       "   time_of_week_driven_weekday  time_of_week_driven_weekend  \\\n",
       "0                            1                            0   \n",
       "1                            0                            1   \n",
       "2                            1                            0   \n",
       "3                            1                            0   \n",
       "4                            1                            0   \n",
       "\n",
       "   time_driven_12am - 6 am  time_driven_12pm - 6pm  time_driven_6am - 12pm  \\\n",
       "0                        0                       0                       1   \n",
       "1                        0                       0                       1   \n",
       "2                        0                       0                       1   \n",
       "3                        0                       1                       0   \n",
       "4                        0                       0                       1   \n",
       "\n",
       "   time_driven_6pm - 12am  trm_len_6  trm_len_12  high_education_ind_0.0  \\\n",
       "0                       0          0           1                       1   \n",
       "1                       0          0           1                       1   \n",
       "2                       0          1           0                       0   \n",
       "3                       0          0           1                       1   \n",
       "4                       0          0           1                       1   \n",
       "\n",
       "   high_education_ind_1.0  \n",
       "0                       0  \n",
       "1                       0  \n",
       "2                       1  \n",
       "3                       0  \n",
       "4                       0  \n",
       "\n",
       "[5 rows x 64 columns]"
      ]
     },
     "execution_count": 127,
     "metadata": {},
     "output_type": "execute_result"
    }
   ],
   "source": [
    "clm_balanced_df = pd.concat([majority_class, oversampled_minority])\n",
    "clm_balanced_df = clm_balanced_df.sample(frac=1)\n",
    "clm_balanced_df.reset_index(drop=True, inplace=True)\n",
    "\n",
    "clm_balanced_df.head()"
   ]
  },
  {
   "cell_type": "code",
   "execution_count": 128,
   "metadata": {},
   "outputs": [
    {
     "name": "stdout",
     "output_type": "stream",
     "text": [
      "(42154, 63)\n",
      "(42154,)\n"
     ]
    }
   ],
   "source": [
    "clm_x, clm_y = clm_balanced_df.drop(columns=['clm']), clm_balanced_df['clm']\n",
    "\n",
    "print(clm_x.shape)\n",
    "print(clm_y.shape)"
   ]
  },
  {
   "cell_type": "code",
   "execution_count": 129,
   "metadata": {},
   "outputs": [
    {
     "name": "stdout",
     "output_type": "stream",
     "text": [
      "(28102, 63) (14052, 63) (28102,) (14052,)\n"
     ]
    }
   ],
   "source": [
    "clm_x_train, clm_x_test, clm_y_train, clm_y_test = train_test_split(clm_x, clm_y, test_size=1 / 3)\n",
    "\n",
    "print(clm_x_train.shape, clm_x_test.shape, clm_y_train.shape, clm_y_test.shape)"
   ]
  },
  {
   "cell_type": "code",
   "execution_count": null,
   "metadata": {},
   "outputs": [],
   "source": [
    "original_clm_x, original_clm_y = clm_df.drop(columns=['clm']), clm_df['clm']"
   ]
  },
  {
   "cell_type": "code",
   "execution_count": 130,
   "metadata": {},
   "outputs": [
    {
     "name": "stdout",
     "output_type": "stream",
     "text": [
      "Num runs: 486\n",
      "Best results so far: train = 0.6355419543093018, test = 0.6299459151722174\n",
      "Remaining runs: 485\n",
      "Best results so far: train = 0.8161340829834175, test = 0.775690293196698\n",
      "Remaining runs: 484\n",
      "Remaining runs: 483\n",
      "Remaining runs: 482\n",
      "Remaining runs: 481\n",
      "Remaining runs: 480\n",
      "Remaining runs: 479\n",
      "Remaining runs: 478\n",
      "Remaining runs: 477\n",
      "Remaining runs: 476\n",
      "Remaining runs: 475\n",
      "Remaining runs: 474\n",
      "Remaining runs: 473\n",
      "Remaining runs: 472\n",
      "Remaining runs: 471\n",
      "Remaining runs: 470\n",
      "Remaining runs: 469\n",
      "Remaining runs: 468\n",
      "Remaining runs: 467\n",
      "Remaining runs: 466\n",
      "Remaining runs: 465\n",
      "Remaining runs: 464\n",
      "Best results so far: train = 0.8964842359974379, test = 0.8577426700825506\n",
      "Remaining runs: 463\n",
      "Remaining runs: 462\n",
      "Remaining runs: 461\n",
      "Remaining runs: 460\n",
      "Best results so far: train = 0.9730980001423386, test = 0.9358098491317962\n",
      "Remaining runs: 459\n",
      "Remaining runs: 458\n",
      "Remaining runs: 457\n",
      "Remaining runs: 456\n",
      "Remaining runs: 455\n",
      "Remaining runs: 454\n",
      "Remaining runs: 453\n",
      "Remaining runs: 452\n",
      "Remaining runs: 451\n",
      "Remaining runs: 450\n",
      "Remaining runs: 449\n",
      "Remaining runs: 448\n",
      "Remaining runs: 447\n",
      "Remaining runs: 446\n",
      "Remaining runs: 445\n",
      "Best results so far: train = 0.9970820582164971, test = 0.9786507258753202\n",
      "Remaining runs: 444\n",
      "Remaining runs: 443\n",
      "Remaining runs: 442\n",
      "Remaining runs: 441\n",
      "Remaining runs: 440\n",
      "Remaining runs: 439\n",
      "Remaining runs: 438\n",
      "Remaining runs: 437\n",
      "Remaining runs: 436\n",
      "Remaining runs: 435\n",
      "Remaining runs: 434\n",
      "Remaining runs: 433\n",
      "Remaining runs: 432\n",
      "Remaining runs: 431\n",
      "Remaining runs: 430\n",
      "Remaining runs: 429\n",
      "Remaining runs: 428\n",
      "Remaining runs: 427\n",
      "Remaining runs: 426\n",
      "Remaining runs: 425\n",
      "Remaining runs: 424\n",
      "Remaining runs: 423\n",
      "Remaining runs: 422\n",
      "Remaining runs: 421\n",
      "Remaining runs: 420\n",
      "Remaining runs: 419\n",
      "Remaining runs: 418\n",
      "Remaining runs: 417\n",
      "Remaining runs: 416\n",
      "Remaining runs: 415\n",
      "Remaining runs: 414\n",
      "Remaining runs: 413\n",
      "Remaining runs: 412\n",
      "Remaining runs: 411\n",
      "Remaining runs: 410\n",
      "Remaining runs: 409\n",
      "Remaining runs: 408\n",
      "Remaining runs: 407\n",
      "Remaining runs: 406\n",
      "Remaining runs: 405\n",
      "Remaining runs: 404\n",
      "Remaining runs: 403\n",
      "Remaining runs: 402\n",
      "Remaining runs: 401\n",
      "Remaining runs: 400\n",
      "Remaining runs: 399\n",
      "Remaining runs: 398\n",
      "Remaining runs: 397\n",
      "Remaining runs: 396\n",
      "Remaining runs: 395\n",
      "Remaining runs: 394\n",
      "Remaining runs: 393\n",
      "Remaining runs: 392\n",
      "Remaining runs: 391\n",
      "Remaining runs: 390\n",
      "Remaining runs: 389\n",
      "Remaining runs: 388\n",
      "Remaining runs: 387\n",
      "Remaining runs: 386\n",
      "Remaining runs: 385\n",
      "Remaining runs: 384\n",
      "Remaining runs: 383\n",
      "Remaining runs: 382\n",
      "Remaining runs: 381\n",
      "Remaining runs: 380\n",
      "Remaining runs: 379\n",
      "Remaining runs: 378\n",
      "Remaining runs: 377\n",
      "Remaining runs: 376\n",
      "Remaining runs: 375\n",
      "Remaining runs: 374\n",
      "Remaining runs: 373\n",
      "Remaining runs: 372\n",
      "Remaining runs: 371\n",
      "Remaining runs: 370\n",
      "Remaining runs: 369\n",
      "Remaining runs: 368\n",
      "Remaining runs: 367\n",
      "Remaining runs: 366\n",
      "Remaining runs: 365\n",
      "Remaining runs: 364\n",
      "Remaining runs: 363\n",
      "Remaining runs: 362\n",
      "Remaining runs: 361\n",
      "Remaining runs: 360\n",
      "Remaining runs: 359\n",
      "Remaining runs: 358\n",
      "Remaining runs: 357\n",
      "Remaining runs: 356\n",
      "Remaining runs: 355\n",
      "Remaining runs: 354\n",
      "Remaining runs: 353\n",
      "Remaining runs: 352\n",
      "Remaining runs: 351\n",
      "Remaining runs: 350\n",
      "Remaining runs: 349\n",
      "Remaining runs: 348\n",
      "Remaining runs: 347\n",
      "Remaining runs: 346\n",
      "Remaining runs: 345\n",
      "Remaining runs: 344\n",
      "Remaining runs: 343\n",
      "Remaining runs: 342\n",
      "Remaining runs: 341\n",
      "Remaining runs: 340\n",
      "Remaining runs: 339\n",
      "Remaining runs: 338\n",
      "Remaining runs: 337\n",
      "Remaining runs: 336\n",
      "Remaining runs: 335\n",
      "Remaining runs: 334\n",
      "Remaining runs: 333\n",
      "Remaining runs: 332\n",
      "Remaining runs: 331\n",
      "Remaining runs: 330\n",
      "Remaining runs: 329\n",
      "Remaining runs: 328\n",
      "Remaining runs: 327\n",
      "Remaining runs: 326\n",
      "Remaining runs: 325\n",
      "Remaining runs: 324\n",
      "Remaining runs: 323\n",
      "Remaining runs: 322\n",
      "Remaining runs: 321\n",
      "Remaining runs: 320\n",
      "Remaining runs: 319\n",
      "Remaining runs: 318\n",
      "Remaining runs: 317\n",
      "Remaining runs: 316\n",
      "Remaining runs: 315\n",
      "Remaining runs: 314\n",
      "Remaining runs: 313\n",
      "Remaining runs: 312\n",
      "Remaining runs: 311\n",
      "Remaining runs: 310\n",
      "Remaining runs: 309\n",
      "Remaining runs: 308\n",
      "Remaining runs: 307\n",
      "Remaining runs: 306\n",
      "Remaining runs: 305\n",
      "Remaining runs: 304\n",
      "Remaining runs: 303\n",
      "Remaining runs: 302\n",
      "Remaining runs: 301\n",
      "Remaining runs: 300\n",
      "Remaining runs: 299\n",
      "Remaining runs: 298\n",
      "Remaining runs: 297\n",
      "Remaining runs: 296\n",
      "Remaining runs: 295\n",
      "Remaining runs: 294\n",
      "Remaining runs: 293\n",
      "Remaining runs: 292\n",
      "Remaining runs: 291\n",
      "Remaining runs: 290\n",
      "Remaining runs: 289\n",
      "Remaining runs: 288\n",
      "Remaining runs: 287\n",
      "Remaining runs: 286\n",
      "Remaining runs: 285\n",
      "Remaining runs: 284\n",
      "Remaining runs: 283\n",
      "Remaining runs: 282\n",
      "Remaining runs: 281\n",
      "Remaining runs: 280\n",
      "Remaining runs: 279\n",
      "Remaining runs: 278\n",
      "Remaining runs: 277\n",
      "Remaining runs: 276\n",
      "Remaining runs: 275\n",
      "Remaining runs: 274\n",
      "Remaining runs: 273\n",
      "Remaining runs: 272\n",
      "Remaining runs: 271\n",
      "Remaining runs: 270\n",
      "Remaining runs: 269\n",
      "Remaining runs: 268\n",
      "Remaining runs: 267\n",
      "Remaining runs: 266\n",
      "Remaining runs: 265\n",
      "Remaining runs: 264\n",
      "Remaining runs: 263\n",
      "Remaining runs: 262\n",
      "Remaining runs: 261\n",
      "Remaining runs: 260\n",
      "Remaining runs: 259\n",
      "Remaining runs: 258\n",
      "Remaining runs: 257\n",
      "Remaining runs: 256\n",
      "Remaining runs: 255\n",
      "Remaining runs: 254\n",
      "Remaining runs: 253\n",
      "Remaining runs: 252\n",
      "Remaining runs: 251\n",
      "Remaining runs: 250\n",
      "Remaining runs: 249\n",
      "Remaining runs: 248\n",
      "Remaining runs: 247\n",
      "Remaining runs: 246\n",
      "Remaining runs: 245\n",
      "Remaining runs: 244\n",
      "Remaining runs: 243\n",
      "Remaining runs: 242\n",
      "Remaining runs: 241\n",
      "Remaining runs: 240\n",
      "Remaining runs: 239\n",
      "Remaining runs: 238\n",
      "Remaining runs: 237\n",
      "Remaining runs: 236\n",
      "Remaining runs: 235\n",
      "Remaining runs: 234\n",
      "Remaining runs: 233\n",
      "Remaining runs: 232\n",
      "Remaining runs: 231\n",
      "Remaining runs: 230\n",
      "Remaining runs: 229\n",
      "Remaining runs: 228\n",
      "Remaining runs: 227\n",
      "Remaining runs: 226\n",
      "Remaining runs: 225\n",
      "Remaining runs: 224\n",
      "Remaining runs: 223\n",
      "Remaining runs: 222\n",
      "Remaining runs: 221\n",
      "Remaining runs: 220\n",
      "Remaining runs: 219\n",
      "Remaining runs: 218\n",
      "Remaining runs: 217\n",
      "Remaining runs: 216\n",
      "Remaining runs: 215\n",
      "Remaining runs: 214\n",
      "Remaining runs: 213\n",
      "Remaining runs: 212\n",
      "Remaining runs: 211\n",
      "Remaining runs: 210\n",
      "Remaining runs: 209\n",
      "Remaining runs: 208\n",
      "Remaining runs: 207\n",
      "Remaining runs: 206\n",
      "Remaining runs: 205\n",
      "Remaining runs: 204\n",
      "Remaining runs: 203\n",
      "Remaining runs: 202\n",
      "Remaining runs: 201\n",
      "Remaining runs: 200\n",
      "Remaining runs: 199\n",
      "Remaining runs: 198\n",
      "Remaining runs: 197\n",
      "Remaining runs: 196\n",
      "Remaining runs: 195\n",
      "Remaining runs: 194\n",
      "Remaining runs: 193\n",
      "Remaining runs: 192\n",
      "Remaining runs: 191\n",
      "Remaining runs: 190\n",
      "Remaining runs: 189\n",
      "Remaining runs: 188\n",
      "Remaining runs: 187\n",
      "Remaining runs: 186\n",
      "Remaining runs: 185\n",
      "Remaining runs: 184\n",
      "Remaining runs: 183\n",
      "Remaining runs: 182\n",
      "Remaining runs: 181\n",
      "Remaining runs: 180\n",
      "Remaining runs: 179\n",
      "Remaining runs: 178\n",
      "Remaining runs: 177\n",
      "Remaining runs: 176\n",
      "Remaining runs: 175\n",
      "Remaining runs: 174\n",
      "Remaining runs: 173\n",
      "Remaining runs: 172\n",
      "Remaining runs: 171\n",
      "Remaining runs: 170\n",
      "Remaining runs: 169\n",
      "Remaining runs: 168\n",
      "Remaining runs: 167\n",
      "Remaining runs: 166\n",
      "Remaining runs: 165\n",
      "Remaining runs: 164\n",
      "Remaining runs: 163\n",
      "Remaining runs: 162\n",
      "Remaining runs: 161\n",
      "Remaining runs: 160\n",
      "Remaining runs: 159\n",
      "Remaining runs: 158\n",
      "Remaining runs: 157\n",
      "Remaining runs: 156\n",
      "Remaining runs: 155\n",
      "Remaining runs: 154\n",
      "Remaining runs: 153\n",
      "Remaining runs: 152\n",
      "Remaining runs: 151\n",
      "Remaining runs: 150\n",
      "Remaining runs: 149\n",
      "Remaining runs: 148\n",
      "Remaining runs: 147\n",
      "Remaining runs: 146\n",
      "Remaining runs: 145\n",
      "Remaining runs: 144\n",
      "Remaining runs: 143\n",
      "Remaining runs: 142\n",
      "Remaining runs: 141\n",
      "Remaining runs: 140\n",
      "Remaining runs: 139\n",
      "Remaining runs: 138\n",
      "Remaining runs: 137\n",
      "Remaining runs: 136\n",
      "Remaining runs: 135\n",
      "Remaining runs: 134\n",
      "Remaining runs: 133\n",
      "Remaining runs: 132\n",
      "Remaining runs: 131\n",
      "Remaining runs: 130\n",
      "Remaining runs: 129\n",
      "Remaining runs: 128\n",
      "Remaining runs: 127\n",
      "Remaining runs: 126\n",
      "Remaining runs: 125\n",
      "Remaining runs: 124\n",
      "Remaining runs: 123\n",
      "Remaining runs: 122\n",
      "Remaining runs: 121\n",
      "Remaining runs: 120\n",
      "Remaining runs: 119\n",
      "Remaining runs: 118\n",
      "Remaining runs: 117\n",
      "Remaining runs: 116\n",
      "Remaining runs: 115\n",
      "Remaining runs: 114\n",
      "Remaining runs: 113\n",
      "Remaining runs: 112\n",
      "Remaining runs: 111\n",
      "Remaining runs: 110\n",
      "Remaining runs: 109\n",
      "Remaining runs: 108\n",
      "Remaining runs: 107\n",
      "Remaining runs: 106\n",
      "Remaining runs: 105\n",
      "Remaining runs: 104\n",
      "Remaining runs: 103\n",
      "Remaining runs: 102\n",
      "Remaining runs: 101\n",
      "Remaining runs: 100\n",
      "Remaining runs: 99\n",
      "Remaining runs: 98\n",
      "Remaining runs: 97\n",
      "Remaining runs: 96\n",
      "Remaining runs: 95\n",
      "Remaining runs: 94\n",
      "Remaining runs: 93\n",
      "Remaining runs: 92\n",
      "Remaining runs: 91\n",
      "Remaining runs: 90\n",
      "Remaining runs: 89\n",
      "Remaining runs: 88\n",
      "Remaining runs: 87\n",
      "Remaining runs: 86\n",
      "Remaining runs: 85\n",
      "Remaining runs: 84\n",
      "Remaining runs: 83\n",
      "Remaining runs: 82\n",
      "Remaining runs: 81\n",
      "Remaining runs: 80\n",
      "Remaining runs: 79\n",
      "Remaining runs: 78\n",
      "Remaining runs: 77\n",
      "Remaining runs: 76\n",
      "Remaining runs: 75\n",
      "Remaining runs: 74\n",
      "Remaining runs: 73\n",
      "Remaining runs: 72\n",
      "Remaining runs: 71\n",
      "Remaining runs: 70\n",
      "Remaining runs: 69\n",
      "Remaining runs: 68\n",
      "Remaining runs: 67\n",
      "Remaining runs: 66\n",
      "Remaining runs: 65\n",
      "Remaining runs: 64\n",
      "Remaining runs: 63\n",
      "Remaining runs: 62\n",
      "Remaining runs: 61\n",
      "Remaining runs: 60\n",
      "Remaining runs: 59\n",
      "Remaining runs: 58\n",
      "Remaining runs: 57\n",
      "Remaining runs: 56\n",
      "Remaining runs: 55\n",
      "Remaining runs: 54\n",
      "Remaining runs: 53\n",
      "Remaining runs: 52\n",
      "Remaining runs: 51\n",
      "Remaining runs: 50\n",
      "Remaining runs: 49\n",
      "Remaining runs: 48\n",
      "Remaining runs: 47\n",
      "Remaining runs: 46\n",
      "Remaining runs: 45\n",
      "Remaining runs: 44\n",
      "Remaining runs: 43\n",
      "Remaining runs: 42\n",
      "Remaining runs: 41\n",
      "Remaining runs: 40\n",
      "Remaining runs: 39\n",
      "Remaining runs: 38\n",
      "Remaining runs: 37\n",
      "Remaining runs: 36\n",
      "Remaining runs: 35\n",
      "Remaining runs: 34\n",
      "Remaining runs: 33\n",
      "Remaining runs: 32\n",
      "Remaining runs: 31\n",
      "Remaining runs: 30\n",
      "Remaining runs: 29\n",
      "Remaining runs: 28\n",
      "Remaining runs: 27\n",
      "Remaining runs: 26\n",
      "Remaining runs: 25\n",
      "Remaining runs: 24\n",
      "Remaining runs: 23\n",
      "Remaining runs: 22\n",
      "Remaining runs: 21\n",
      "Remaining runs: 20\n",
      "Remaining runs: 19\n",
      "Remaining runs: 18\n",
      "Remaining runs: 17\n",
      "Remaining runs: 16\n",
      "Remaining runs: 15\n",
      "Remaining runs: 14\n",
      "Remaining runs: 13\n",
      "Remaining runs: 12\n",
      "Remaining runs: 11\n",
      "Remaining runs: 10\n",
      "Remaining runs: 9\n",
      "Remaining runs: 8\n",
      "Remaining runs: 7\n",
      "Remaining runs: 6\n",
      "Remaining runs: 5\n",
      "Remaining runs: 4\n",
      "Remaining runs: 3\n",
      "Remaining runs: 2\n",
      "Remaining runs: 1\n",
      "Remaining runs: 0\n",
      "0.9786507258753202\n",
      "{'bootstrap': True, 'ccp_alpha': 0.0, 'class_weight': None, 'criterion': 'log_loss', 'max_depth': 20, 'max_features': 'sqrt', 'max_leaf_nodes': None, 'max_samples': None, 'min_impurity_decrease': 0.0, 'min_samples_leaf': 5, 'min_samples_split': 10, 'min_weight_fraction_leaf': 0.0, 'n_estimators': 100, 'n_jobs': None, 'oob_score': False, 'random_state': None, 'verbose': 0, 'warm_start': False}\n"
     ]
    }
   ],
   "source": [
    "all_combos = []\n",
    "\n",
    "for n_estimators in [5, 10, 15, 20, 25, 50, 100, 200, 300]:\n",
    "    for min_samples_leaf in [5, 10, 15, 20, 25, 50]:\n",
    "        for max_depth in [3, 4, 5, 6, 7, 8, 9, 10, 15, 20]:\n",
    "            for min_samples_split in [2, 3, 4, 5, 10, 15]:\n",
    "                for criterion in ['gini', 'entropy', 'log_loss']:\n",
    "                    all_combos.append((n_estimators, min_samples_leaf, max_depth, min_samples_split, criterion))\n",
    "\n",
    "percentage_to_try = 0.05\n",
    "n_runs = int(percentage_to_try * len(all_combos))\n",
    "combos_to_try = random.sample(all_combos, n_runs)\n",
    "print(f'Num runs: {n_runs}')\n",
    "\n",
    "best_test_accuracy, clm_rf_model = -np.inf, None\n",
    "\n",
    "for n_estimators, min_samples_leaf, max_depth, min_samples_split, criterion in combos_to_try:\n",
    "    curr_model = RandomForestClassifier(n_estimators=n_estimators, min_samples_leaf=min_samples_leaf, max_depth=max_depth, min_samples_split=min_samples_split, criterion=criterion)\n",
    "    curr_model.fit(clm_x_train, clm_y_train)\n",
    "\n",
    "    clm_y_train_pred = curr_model.predict(clm_x_train)\n",
    "    clm_y_test_pred = curr_model.predict(clm_x_test)\n",
    "\n",
    "    train_accuracy = accuracy_score(clm_y_train, clm_y_train_pred)\n",
    "    test_accuracy = accuracy_score(clm_y_test, clm_y_test_pred)\n",
    "\n",
    "    if test_accuracy > best_test_accuracy:\n",
    "        best_test_accuracy, clm_rf_model = test_accuracy, curr_model\n",
    "        print(f'Best results so far: train = {train_accuracy}, test = {test_accuracy}')\n",
    "\n",
    "        # Early stopping\n",
    "        if best_test_accuracy >= 0.99:\n",
    "            break\n",
    "\n",
    "    n_runs -= 1\n",
    "    print(f'Remaining runs: {n_runs}')\n",
    "\n",
    "print(best_test_accuracy)\n",
    "print(clm_rf_model.get_params())"
   ]
  },
  {
   "cell_type": "code",
   "execution_count": 131,
   "metadata": {},
   "outputs": [
    {
     "name": "stdout",
     "output_type": "stream",
     "text": [
      "0.9864273398470312\n",
      "(array([0, 1]), array([20792,  1827]))\n",
      "0    21077\n",
      "1     1542\n",
      "Name: clm, dtype: int64\n"
     ]
    }
   ],
   "source": [
    "original_clm_rf_pred = clm_rf_model.predict(original_clm_x)\n",
    "\n",
    "print(accuracy_score(original_clm_y, original_clm_rf_pred))\n",
    "print(np.unique(original_clm_rf_pred, return_counts=True))\n",
    "print(original_clm_y.value_counts())"
   ]
  },
  {
   "cell_type": "code",
   "execution_count": 132,
   "metadata": {},
   "outputs": [
    {
     "name": "stdout",
     "output_type": "stream",
     "text": [
      "Num runs: 97\n",
      "Best results so far: train = 1.0, test = 0.9982920580700256\n",
      "0.9982920580700256\n",
      "{'ccp_alpha': 0.0, 'criterion': 'friedman_mse', 'init': None, 'learning_rate': 0.2, 'loss': 'log_loss', 'max_depth': 15, 'max_features': None, 'max_leaf_nodes': None, 'min_impurity_decrease': 0.0, 'min_samples_leaf': 5, 'min_samples_split': 5, 'min_weight_fraction_leaf': 0.0, 'n_estimators': 100, 'n_iter_no_change': None, 'random_state': None, 'subsample': 1.0, 'tol': 0.0001, 'validation_fraction': 0.1, 'verbose': 0, 'warm_start': False}\n"
     ]
    }
   ],
   "source": [
    "all_combos = []\n",
    "\n",
    "for n_estimators in [5, 10, 15, 20, 25, 50, 100, 200, 300]:\n",
    "    for min_samples_leaf in [5, 10, 15, 20, 25, 50]:\n",
    "        for max_depth in [3, 4, 5, 6, 7, 8, 9, 10, 15, 20]:\n",
    "            for min_samples_split in [2, 3, 4, 5, 10, 15]:\n",
    "                for learning_rate in [0.01, 0.1, 0.2]:\n",
    "                    all_combos.append((n_estimators, min_samples_leaf, max_depth, min_samples_split, learning_rate))\n",
    "\n",
    "percentage_to_try = 0.01\n",
    "n_runs = int(percentage_to_try * len(all_combos))\n",
    "combos_to_try = random.sample(all_combos, n_runs)\n",
    "print(f'Num runs: {n_runs}')\n",
    "\n",
    "best_test_accuracy, clm_gb_model = -np.inf, None\n",
    "\n",
    "for n_estimators, min_samples_leaf, max_depth, min_samples_split, learning_rate in combos_to_try:\n",
    "    curr_model = GradientBoostingClassifier(n_estimators=n_estimators, min_samples_leaf=min_samples_leaf, max_depth=max_depth, min_samples_split=min_samples_split, learning_rate=learning_rate)\n",
    "    curr_model.fit(clm_x_train, clm_y_train)\n",
    "\n",
    "    clm_y_train_pred = curr_model.predict(clm_x_train)\n",
    "    clm_y_test_pred = curr_model.predict(clm_x_test)\n",
    "\n",
    "    train_accuracy = accuracy_score(clm_y_train, clm_y_train_pred)\n",
    "    test_accuracy = accuracy_score(clm_y_test, clm_y_test_pred)\n",
    "\n",
    "    if test_accuracy > best_test_accuracy:\n",
    "        best_test_accuracy, clm_gb_model = test_accuracy, curr_model\n",
    "        print(f'Best results so far: train = {train_accuracy}, test = {test_accuracy}')\n",
    "\n",
    "        # Early stopping\n",
    "        if best_test_accuracy >= 0.99:\n",
    "            break\n",
    "\n",
    "    n_runs -= 1\n",
    "    print(f'Remaining runs: {n_runs}')\n",
    "\n",
    "print(best_test_accuracy)\n",
    "print(clm_gb_model.get_params())"
   ]
  },
  {
   "cell_type": "code",
   "execution_count": 133,
   "metadata": {},
   "outputs": [
    {
     "name": "stdout",
     "output_type": "stream",
     "text": [
      "0.9989389451346213\n",
      "(array([0, 1]), array([21053,  1566]))\n",
      "0    21077\n",
      "1     1542\n",
      "Name: clm, dtype: int64\n"
     ]
    }
   ],
   "source": [
    "original_clm_gb_pred = clm_gb_model.predict(original_clm_x)\n",
    "\n",
    "print(accuracy_score(original_clm_y, original_clm_gb_pred))\n",
    "print(np.unique(original_clm_gb_pred, return_counts=True))\n",
    "print(original_clm_y.value_counts())"
   ]
  },
  {
   "cell_type": "code",
   "execution_count": 134,
   "metadata": {},
   "outputs": [
    {
     "data": {
      "text/plain": [
       "(22619,)"
      ]
     },
     "execution_count": 134,
     "metadata": {},
     "output_type": "execute_result"
    }
   ],
   "source": [
    "# The gradient boosting model seems to be better for claim predictions\n",
    "clm_model, clm_pred = clm_gb_model, original_clm_gb_pred\n",
    "clm_pred.shape"
   ]
  },
  {
   "cell_type": "markdown",
   "metadata": {},
   "source": [
    "##### numclaims model"
   ]
  },
  {
   "cell_type": "code",
   "execution_count": 222,
   "metadata": {},
   "outputs": [
    {
     "data": {
      "text/plain": [
       "0    21077\n",
       "1     1439\n",
       "2       94\n",
       "3        9\n",
       "Name: numclaims, dtype: int64"
      ]
     },
     "execution_count": 222,
     "metadata": {},
     "output_type": "execute_result"
    }
   ],
   "source": [
    "num_claims_df = df_dummies.drop(columns=['clm', 'claimcst0'])\n",
    "\n",
    "num_claims_df['numclaims'].value_counts()"
   ]
  },
  {
   "cell_type": "code",
   "execution_count": 223,
   "metadata": {},
   "outputs": [],
   "source": [
    "# Learn on the impure claim predictions\n",
    "num_claims_df['clm'] = clm_pred"
   ]
  },
  {
   "cell_type": "code",
   "execution_count": 225,
   "metadata": {},
   "outputs": [
    {
     "name": "stdout",
     "output_type": "stream",
     "text": [
      "(21077, 65)\n",
      "(1439, 65)\n",
      "(94, 65)\n",
      "(9, 65)\n"
     ]
    }
   ],
   "source": [
    "majority_class = num_claims_df[num_claims_df['numclaims'] == 0]\n",
    "minority_class_1 = num_claims_df[num_claims_df['numclaims'] == 1]\n",
    "minority_class_2 = num_claims_df[num_claims_df['numclaims'] == 2]\n",
    "minority_class_3 = num_claims_df[num_claims_df['numclaims'] == 3]\n",
    "\n",
    "print(majority_class.shape)\n",
    "print(minority_class_1.shape)\n",
    "print(minority_class_2.shape)\n",
    "print(minority_class_3.shape)"
   ]
  },
  {
   "cell_type": "code",
   "execution_count": 226,
   "metadata": {},
   "outputs": [
    {
     "name": "stdout",
     "output_type": "stream",
     "text": [
      "(21077, 65)\n",
      "(21077, 65)\n",
      "(21077, 65)\n"
     ]
    }
   ],
   "source": [
    "oversampled_minority_1 = resample(minority_class_1, replace=True, n_samples=len(majority_class))\n",
    "oversampled_minority_2 = resample(minority_class_2, replace=True, n_samples=len(majority_class))\n",
    "oversampled_minority_3 = resample(minority_class_3, replace=True, n_samples=len(majority_class))\n",
    "\n",
    "print(oversampled_minority_1.shape)\n",
    "print(oversampled_minority_2.shape)\n",
    "print(oversampled_minority_3.shape)"
   ]
  },
  {
   "cell_type": "code",
   "execution_count": 227,
   "metadata": {},
   "outputs": [
    {
     "data": {
      "text/html": [
       "<div>\n",
       "<style scoped>\n",
       "    .dataframe tbody tr th:only-of-type {\n",
       "        vertical-align: middle;\n",
       "    }\n",
       "\n",
       "    .dataframe tbody tr th {\n",
       "        vertical-align: top;\n",
       "    }\n",
       "\n",
       "    .dataframe thead th {\n",
       "        text-align: right;\n",
       "    }\n",
       "</style>\n",
       "<table border=\"1\" class=\"dataframe\">\n",
       "  <thead>\n",
       "    <tr style=\"text-align: right;\">\n",
       "      <th></th>\n",
       "      <th>veh_value</th>\n",
       "      <th>exposure</th>\n",
       "      <th>max_power</th>\n",
       "      <th>driving_history_score</th>\n",
       "      <th>credit_score</th>\n",
       "      <th>numclaims</th>\n",
       "      <th>veh_body_BUS</th>\n",
       "      <th>veh_body_CONVT</th>\n",
       "      <th>veh_body_COUPE</th>\n",
       "      <th>veh_body_HBACK</th>\n",
       "      <th>...</th>\n",
       "      <th>time_of_week_driven_weekend</th>\n",
       "      <th>time_driven_12am - 6 am</th>\n",
       "      <th>time_driven_12pm - 6pm</th>\n",
       "      <th>time_driven_6am - 12pm</th>\n",
       "      <th>time_driven_6pm - 12am</th>\n",
       "      <th>trm_len_6</th>\n",
       "      <th>trm_len_12</th>\n",
       "      <th>high_education_ind_0.0</th>\n",
       "      <th>high_education_ind_1.0</th>\n",
       "      <th>clm</th>\n",
       "    </tr>\n",
       "  </thead>\n",
       "  <tbody>\n",
       "    <tr>\n",
       "      <th>0</th>\n",
       "      <td>2.10</td>\n",
       "      <td>0.731400</td>\n",
       "      <td>180</td>\n",
       "      <td>86.0</td>\n",
       "      <td>660.912631</td>\n",
       "      <td>1</td>\n",
       "      <td>0</td>\n",
       "      <td>0</td>\n",
       "      <td>0</td>\n",
       "      <td>0</td>\n",
       "      <td>...</td>\n",
       "      <td>0</td>\n",
       "      <td>0</td>\n",
       "      <td>0</td>\n",
       "      <td>1</td>\n",
       "      <td>0</td>\n",
       "      <td>0</td>\n",
       "      <td>1</td>\n",
       "      <td>1</td>\n",
       "      <td>0</td>\n",
       "      <td>1</td>\n",
       "    </tr>\n",
       "    <tr>\n",
       "      <th>1</th>\n",
       "      <td>1.69</td>\n",
       "      <td>0.431917</td>\n",
       "      <td>136</td>\n",
       "      <td>50.0</td>\n",
       "      <td>663.181918</td>\n",
       "      <td>1</td>\n",
       "      <td>0</td>\n",
       "      <td>0</td>\n",
       "      <td>0</td>\n",
       "      <td>1</td>\n",
       "      <td>...</td>\n",
       "      <td>0</td>\n",
       "      <td>0</td>\n",
       "      <td>0</td>\n",
       "      <td>0</td>\n",
       "      <td>1</td>\n",
       "      <td>1</td>\n",
       "      <td>0</td>\n",
       "      <td>1</td>\n",
       "      <td>0</td>\n",
       "      <td>1</td>\n",
       "    </tr>\n",
       "    <tr>\n",
       "      <th>2</th>\n",
       "      <td>1.60</td>\n",
       "      <td>0.123829</td>\n",
       "      <td>371</td>\n",
       "      <td>72.0</td>\n",
       "      <td>645.386202</td>\n",
       "      <td>0</td>\n",
       "      <td>0</td>\n",
       "      <td>0</td>\n",
       "      <td>0</td>\n",
       "      <td>0</td>\n",
       "      <td>...</td>\n",
       "      <td>1</td>\n",
       "      <td>0</td>\n",
       "      <td>0</td>\n",
       "      <td>1</td>\n",
       "      <td>0</td>\n",
       "      <td>1</td>\n",
       "      <td>0</td>\n",
       "      <td>1</td>\n",
       "      <td>0</td>\n",
       "      <td>0</td>\n",
       "    </tr>\n",
       "    <tr>\n",
       "      <th>3</th>\n",
       "      <td>0.40</td>\n",
       "      <td>0.829242</td>\n",
       "      <td>140</td>\n",
       "      <td>76.0</td>\n",
       "      <td>661.190222</td>\n",
       "      <td>2</td>\n",
       "      <td>0</td>\n",
       "      <td>0</td>\n",
       "      <td>0</td>\n",
       "      <td>0</td>\n",
       "      <td>...</td>\n",
       "      <td>0</td>\n",
       "      <td>0</td>\n",
       "      <td>1</td>\n",
       "      <td>0</td>\n",
       "      <td>0</td>\n",
       "      <td>0</td>\n",
       "      <td>1</td>\n",
       "      <td>1</td>\n",
       "      <td>0</td>\n",
       "      <td>1</td>\n",
       "    </tr>\n",
       "    <tr>\n",
       "      <th>4</th>\n",
       "      <td>1.22</td>\n",
       "      <td>0.155624</td>\n",
       "      <td>153</td>\n",
       "      <td>55.0</td>\n",
       "      <td>647.408425</td>\n",
       "      <td>0</td>\n",
       "      <td>0</td>\n",
       "      <td>0</td>\n",
       "      <td>0</td>\n",
       "      <td>0</td>\n",
       "      <td>...</td>\n",
       "      <td>0</td>\n",
       "      <td>0</td>\n",
       "      <td>0</td>\n",
       "      <td>1</td>\n",
       "      <td>0</td>\n",
       "      <td>1</td>\n",
       "      <td>0</td>\n",
       "      <td>1</td>\n",
       "      <td>0</td>\n",
       "      <td>0</td>\n",
       "    </tr>\n",
       "  </tbody>\n",
       "</table>\n",
       "<p>5 rows × 65 columns</p>\n",
       "</div>"
      ],
      "text/plain": [
       "   veh_value  exposure  max_power  driving_history_score  credit_score  \\\n",
       "0       2.10  0.731400        180                   86.0    660.912631   \n",
       "1       1.69  0.431917        136                   50.0    663.181918   \n",
       "2       1.60  0.123829        371                   72.0    645.386202   \n",
       "3       0.40  0.829242        140                   76.0    661.190222   \n",
       "4       1.22  0.155624        153                   55.0    647.408425   \n",
       "\n",
       "   numclaims  veh_body_BUS  veh_body_CONVT  veh_body_COUPE  veh_body_HBACK  \\\n",
       "0          1             0               0               0               0   \n",
       "1          1             0               0               0               1   \n",
       "2          0             0               0               0               0   \n",
       "3          2             0               0               0               0   \n",
       "4          0             0               0               0               0   \n",
       "\n",
       "   ...  time_of_week_driven_weekend  time_driven_12am - 6 am  \\\n",
       "0  ...                            0                        0   \n",
       "1  ...                            0                        0   \n",
       "2  ...                            1                        0   \n",
       "3  ...                            0                        0   \n",
       "4  ...                            0                        0   \n",
       "\n",
       "   time_driven_12pm - 6pm  time_driven_6am - 12pm  time_driven_6pm - 12am  \\\n",
       "0                       0                       1                       0   \n",
       "1                       0                       0                       1   \n",
       "2                       0                       1                       0   \n",
       "3                       1                       0                       0   \n",
       "4                       0                       1                       0   \n",
       "\n",
       "   trm_len_6  trm_len_12  high_education_ind_0.0  high_education_ind_1.0  clm  \n",
       "0          0           1                       1                       0    1  \n",
       "1          1           0                       1                       0    1  \n",
       "2          1           0                       1                       0    0  \n",
       "3          0           1                       1                       0    1  \n",
       "4          1           0                       1                       0    0  \n",
       "\n",
       "[5 rows x 65 columns]"
      ]
     },
     "execution_count": 227,
     "metadata": {},
     "output_type": "execute_result"
    }
   ],
   "source": [
    "num_claims_balanced_df = pd.concat([majority_class, oversampled_minority_1, oversampled_minority_2, oversampled_minority_3])\n",
    "num_claims_balanced_df = num_claims_balanced_df.sample(frac=1)\n",
    "num_claims_balanced_df.reset_index(drop=True, inplace=True)\n",
    "\n",
    "num_claims_balanced_df.head()"
   ]
  },
  {
   "cell_type": "code",
   "execution_count": 228,
   "metadata": {},
   "outputs": [
    {
     "name": "stdout",
     "output_type": "stream",
     "text": [
      "(84308, 64)\n",
      "(84308,)\n"
     ]
    }
   ],
   "source": [
    "num_claims_x, num_claims_y = num_claims_balanced_df.drop(columns=['numclaims']), num_claims_balanced_df['numclaims']\n",
    "\n",
    "print(num_claims_x.shape)\n",
    "print(num_claims_y.shape)"
   ]
  },
  {
   "cell_type": "code",
   "execution_count": 229,
   "metadata": {},
   "outputs": [
    {
     "name": "stdout",
     "output_type": "stream",
     "text": [
      "(56205, 64) (28103, 64) (56205,) (28103,)\n"
     ]
    }
   ],
   "source": [
    "num_claims_x_train, num_claims_x_test, num_claims_y_train, num_claims_y_test = train_test_split(num_claims_x, num_claims_y, test_size=1 / 3)\n",
    "\n",
    "print(num_claims_x_train.shape, num_claims_x_test.shape, num_claims_y_train.shape, num_claims_y_test.shape)"
   ]
  },
  {
   "cell_type": "code",
   "execution_count": 230,
   "metadata": {},
   "outputs": [],
   "source": [
    "original_num_claims_x, original_num_claims_y = num_claims_df.drop(columns=['numclaims']), num_claims_df['numclaims']"
   ]
  },
  {
   "cell_type": "code",
   "execution_count": 231,
   "metadata": {},
   "outputs": [
    {
     "name": "stdout",
     "output_type": "stream",
     "text": [
      "Num runs: 486\n",
      "Best results so far: train = 0.9968508139845209, test = 0.9963349108636088\n",
      "0.9963349108636088\n",
      "{'bootstrap': True, 'ccp_alpha': 0.0, 'class_weight': None, 'criterion': 'log_loss', 'max_depth': 20, 'max_features': 'sqrt', 'max_leaf_nodes': None, 'max_samples': None, 'min_impurity_decrease': 0.0, 'min_samples_leaf': 25, 'min_samples_split': 5, 'min_weight_fraction_leaf': 0.0, 'n_estimators': 5, 'n_jobs': None, 'oob_score': False, 'random_state': None, 'verbose': 0, 'warm_start': False}\n"
     ]
    }
   ],
   "source": [
    "all_combos = []\n",
    "\n",
    "for n_estimators in [5, 10, 15, 20, 25, 50, 100, 200, 300]:\n",
    "    for min_samples_leaf in [5, 10, 15, 20, 25, 50]:\n",
    "        for max_depth in [3, 4, 5, 6, 7, 8, 9, 10, 15, 20]:\n",
    "            for min_samples_split in [2, 3, 4, 5, 10, 15]:\n",
    "                for criterion in ['gini', 'entropy', 'log_loss']:\n",
    "                    all_combos.append((n_estimators, min_samples_leaf, max_depth, min_samples_split, criterion))\n",
    "\n",
    "percentage_to_try = 0.05\n",
    "n_runs = int(percentage_to_try * len(all_combos))\n",
    "combos_to_try = random.sample(all_combos, n_runs)\n",
    "print(f'Num runs: {n_runs}')\n",
    "\n",
    "best_test_accuracy, num_claims_rf_model = -np.inf, None\n",
    "\n",
    "for n_estimators, min_samples_leaf, max_depth, min_samples_split, criterion in combos_to_try:\n",
    "    curr_model = RandomForestClassifier(n_estimators=n_estimators, min_samples_leaf=min_samples_leaf, max_depth=max_depth, min_samples_split=min_samples_split, criterion=criterion)\n",
    "    curr_model.fit(num_claims_x_train, num_claims_y_train)\n",
    "\n",
    "    num_claims_y_train_pred = curr_model.predict(num_claims_x_train)\n",
    "    num_claims_y_test_pred = curr_model.predict(num_claims_x_test)\n",
    "\n",
    "    train_accuracy = accuracy_score(num_claims_y_train, num_claims_y_train_pred)\n",
    "    test_accuracy = accuracy_score(num_claims_y_test, num_claims_y_test_pred)\n",
    "\n",
    "    if test_accuracy > best_test_accuracy:\n",
    "        best_test_accuracy, num_claims_rf_model = test_accuracy, curr_model\n",
    "        print(f'Best results so far: train = {train_accuracy}, test = {test_accuracy}')\n",
    "\n",
    "        # Early stopping\n",
    "        if best_test_accuracy >= 0.99:\n",
    "            break\n",
    "\n",
    "    n_runs -= 1\n",
    "    print(f'Remaining runs: {n_runs}')\n",
    "\n",
    "print(best_test_accuracy)\n",
    "print(num_claims_rf_model.get_params())"
   ]
  },
  {
   "cell_type": "code",
   "execution_count": 148,
   "metadata": {},
   "outputs": [
    {
     "name": "stdout",
     "output_type": "stream",
     "text": [
      "0.9988947345152306\n",
      "(array([0, 1, 2, 3]), array([21053,  1461,    96,     9]))\n",
      "0    21077\n",
      "1     1439\n",
      "2       94\n",
      "3        9\n",
      "Name: numclaims, dtype: int64\n"
     ]
    }
   ],
   "source": [
    "original_num_claims_rf_pred = num_claims_rf_model.predict(original_num_claims_x)\n",
    "\n",
    "print(accuracy_score(original_num_claims_y, original_num_claims_rf_pred))\n",
    "print(np.unique(original_num_claims_rf_pred, return_counts=True))\n",
    "print(original_num_claims_y.value_counts())"
   ]
  },
  {
   "cell_type": "code",
   "execution_count": 149,
   "metadata": {},
   "outputs": [
    {
     "name": "stdout",
     "output_type": "stream",
     "text": [
      "Num runs: 97\n",
      "Best results so far: train = 0.9155946979806067, test = 0.9123225278440025\n",
      "Remaining runs: 96\n",
      "Best results so far: train = 0.9994840316697803, test = 0.9994306657652208\n",
      "0.9994306657652208\n",
      "{'ccp_alpha': 0.0, 'criterion': 'friedman_mse', 'init': None, 'learning_rate': 0.2, 'loss': 'log_loss', 'max_depth': 20, 'max_features': None, 'max_leaf_nodes': None, 'min_impurity_decrease': 0.0, 'min_samples_leaf': 20, 'min_samples_split': 2, 'min_weight_fraction_leaf': 0.0, 'n_estimators': 5, 'n_iter_no_change': None, 'random_state': None, 'subsample': 1.0, 'tol': 0.0001, 'validation_fraction': 0.1, 'verbose': 0, 'warm_start': False}\n"
     ]
    }
   ],
   "source": [
    "all_combos = []\n",
    "\n",
    "for n_estimators in [5, 10, 15, 20, 25, 50, 100, 200, 300]:\n",
    "    for min_samples_leaf in [5, 10, 15, 20, 25, 50]:\n",
    "        for max_depth in [3, 4, 5, 6, 7, 8, 9, 10, 15, 20]:\n",
    "            for min_samples_split in [2, 3, 4, 5, 10, 15]:\n",
    "                for learning_rate in [0.01, 0.1, 0.2]:\n",
    "                    all_combos.append((n_estimators, min_samples_leaf, max_depth, min_samples_split, learning_rate))\n",
    "\n",
    "percentage_to_try = 0.01\n",
    "n_runs = int(percentage_to_try * len(all_combos))\n",
    "combos_to_try = random.sample(all_combos, n_runs)\n",
    "print(f'Num runs: {n_runs}')\n",
    "\n",
    "best_test_accuracy, num_claims_gb_model = -np.inf, None\n",
    "\n",
    "for n_estimators, min_samples_leaf, max_depth, min_samples_split, learning_rate in combos_to_try:\n",
    "    curr_model = GradientBoostingClassifier(n_estimators=n_estimators, min_samples_leaf=min_samples_leaf, max_depth=max_depth, min_samples_split=min_samples_split, learning_rate=learning_rate)\n",
    "    curr_model.fit(num_claims_x_train, num_claims_y_train)\n",
    "\n",
    "    num_claims_y_train_pred = curr_model.predict(num_claims_x_train)\n",
    "    num_claims_y_test_pred = curr_model.predict(num_claims_x_test)\n",
    "\n",
    "    train_accuracy = accuracy_score(num_claims_y_train, num_claims_y_train_pred)\n",
    "    test_accuracy = accuracy_score(num_claims_y_test, num_claims_y_test_pred)\n",
    "\n",
    "    if test_accuracy > best_test_accuracy:\n",
    "        best_test_accuracy, num_claims_gb_model = test_accuracy, curr_model\n",
    "        print(f'Best results so far: train = {train_accuracy}, test = {test_accuracy}')\n",
    "\n",
    "        # Early stopping\n",
    "        if best_test_accuracy >= 0.99:\n",
    "            break\n",
    "\n",
    "    n_runs -= 1\n",
    "    print(f'Remaining runs: {n_runs}')\n",
    "\n",
    "print(best_test_accuracy)\n",
    "print(num_claims_gb_model.get_params())"
   ]
  },
  {
   "cell_type": "code",
   "execution_count": 150,
   "metadata": {},
   "outputs": [
    {
     "name": "stdout",
     "output_type": "stream",
     "text": [
      "0.9988505238958397\n",
      "(array([0, 1, 2, 3]), array([21053,  1459,    97,    10]))\n",
      "0    21077\n",
      "1     1439\n",
      "2       94\n",
      "3        9\n",
      "Name: numclaims, dtype: int64\n"
     ]
    }
   ],
   "source": [
    "original_num_claims_gb_pred = num_claims_gb_model.predict(original_num_claims_x)\n",
    "\n",
    "print(accuracy_score(original_num_claims_y, original_num_claims_gb_pred))\n",
    "print(np.unique(original_num_claims_gb_pred, return_counts=True))\n",
    "print(original_num_claims_y.value_counts())"
   ]
  },
  {
   "cell_type": "code",
   "execution_count": 232,
   "metadata": {},
   "outputs": [
    {
     "data": {
      "text/plain": [
       "(22619,)"
      ]
     },
     "execution_count": 232,
     "metadata": {},
     "output_type": "execute_result"
    }
   ],
   "source": [
    "# The random forest model seems to be slightly better for num claim predictions\n",
    "num_claims_model, num_claims_pred = num_claims_rf_model, original_num_claims_rf_pred\n",
    "num_claims_pred.shape"
   ]
  },
  {
   "cell_type": "markdown",
   "metadata": {},
   "source": [
    "##### claimcst0 model"
   ]
  },
  {
   "cell_type": "code",
   "execution_count": 164,
   "metadata": {},
   "outputs": [],
   "source": [
    "cost_df = df_dummies.drop(columns=['clm', 'numclaims'])"
   ]
  },
  {
   "cell_type": "code",
   "execution_count": 165,
   "metadata": {},
   "outputs": [],
   "source": [
    "# Learn on the impure claim and num claim predictions\n",
    "cost_df['clm'] = clm_pred\n",
    "cost_df['numclaims'] = num_claims_pred"
   ]
  },
  {
   "cell_type": "code",
   "execution_count": 168,
   "metadata": {},
   "outputs": [
    {
     "name": "stdout",
     "output_type": "stream",
     "text": [
      "(21077, 66)\n",
      "(1542, 66)\n"
     ]
    }
   ],
   "source": [
    "majority_class = cost_df[cost_df['claimcst0'] == 0]\n",
    "minority_class = cost_df[cost_df['claimcst0'] != 0]\n",
    "\n",
    "print(majority_class.shape)\n",
    "print(minority_class.shape)"
   ]
  },
  {
   "cell_type": "code",
   "execution_count": 169,
   "metadata": {},
   "outputs": [
    {
     "data": {
      "text/plain": [
       "(21077, 66)"
      ]
     },
     "execution_count": 169,
     "metadata": {},
     "output_type": "execute_result"
    }
   ],
   "source": [
    "oversampled_minority = resample(minority_class, replace=True, n_samples=len(majority_class))\n",
    "\n",
    "oversampled_minority.shape"
   ]
  },
  {
   "cell_type": "code",
   "execution_count": 173,
   "metadata": {},
   "outputs": [
    {
     "data": {
      "text/plain": [
       "(21077, 66)"
      ]
     },
     "execution_count": 173,
     "metadata": {},
     "output_type": "execute_result"
    }
   ],
   "source": [
    "cost_balanced_df = pd.concat([majority_class, oversampled_minority])\n",
    "cost_balanced_df = cost_balanced_df.sample(frac=1)\n",
    "cost_balanced_df.reset_index(drop=True, inplace=True)\n",
    "\n",
    "cost_balanced_df[cost_balanced_df['claimcst0'] == 0].shape"
   ]
  },
  {
   "cell_type": "code",
   "execution_count": 174,
   "metadata": {},
   "outputs": [
    {
     "name": "stdout",
     "output_type": "stream",
     "text": [
      "(42154, 65)\n",
      "(42154,)\n"
     ]
    }
   ],
   "source": [
    "cost_x, cost_y = cost_balanced_df.drop(columns=['claimcst0']), cost_balanced_df['claimcst0']\n",
    "\n",
    "print(cost_x.shape)\n",
    "print(cost_y.shape)"
   ]
  },
  {
   "cell_type": "code",
   "execution_count": 175,
   "metadata": {},
   "outputs": [
    {
     "name": "stdout",
     "output_type": "stream",
     "text": [
      "(28102, 65) (14052, 65) (28102,) (14052,)\n"
     ]
    }
   ],
   "source": [
    "cost_x_train, cost_x_test, cost_y_train, cost_y_test = train_test_split(cost_x, cost_y, test_size=1 / 3)\n",
    "\n",
    "print(cost_x_train.shape, cost_x_test.shape, cost_y_train.shape, cost_y_test.shape)"
   ]
  },
  {
   "cell_type": "code",
   "execution_count": 179,
   "metadata": {},
   "outputs": [],
   "source": [
    "original_cost_x, original_cost_y = cost_df.drop(columns=['claimcst0']), cost_df['claimcst0']"
   ]
  },
  {
   "cell_type": "code",
   "execution_count": 190,
   "metadata": {},
   "outputs": [
    {
     "name": "stdout",
     "output_type": "stream",
     "text": [
      "Num runs: 324\n",
      "Best results so far: train = 3414636.139432678, test = 3681545.5262226677\n",
      "Remaining runs: 323\n",
      "Remaining runs: 322\n",
      "Remaining runs: 321\n",
      "Best results so far: train = 617254.501598144, test = 824438.8826030357\n",
      "Remaining runs: 320\n",
      "Remaining runs: 319\n",
      "Remaining runs: 318\n",
      "Remaining runs: 317\n",
      "Remaining runs: 316\n",
      "Remaining runs: 315\n",
      "Remaining runs: 314\n",
      "Remaining runs: 313\n",
      "Remaining runs: 312\n",
      "Remaining runs: 311\n"
     ]
    },
    {
     "ename": "KeyboardInterrupt",
     "evalue": "",
     "output_type": "error",
     "traceback": [
      "\u001b[0;31m---------------------------------------------------------------------------\u001b[0m",
      "\u001b[0;31mKeyboardInterrupt\u001b[0m                         Traceback (most recent call last)",
      "\u001b[1;32m/Users/mymac/travelers/main.ipynb Cell 74\u001b[0m line \u001b[0;36m1\n\u001b[1;32m     <a href='vscode-notebook-cell:/Users/mymac/travelers/main.ipynb#Y203sZmlsZQ%3D%3D?line=16'>17</a>\u001b[0m \u001b[39mfor\u001b[39;00m n_estimators, min_samples_leaf, max_depth, min_samples_split, criterion \u001b[39min\u001b[39;00m combos_to_try:\n\u001b[1;32m     <a href='vscode-notebook-cell:/Users/mymac/travelers/main.ipynb#Y203sZmlsZQ%3D%3D?line=17'>18</a>\u001b[0m     curr_model \u001b[39m=\u001b[39m RandomForestRegressor(n_estimators\u001b[39m=\u001b[39mn_estimators, min_samples_leaf\u001b[39m=\u001b[39mmin_samples_leaf, max_depth\u001b[39m=\u001b[39mmax_depth, min_samples_split\u001b[39m=\u001b[39mmin_samples_split, criterion\u001b[39m=\u001b[39mcriterion)\n\u001b[0;32m---> <a href='vscode-notebook-cell:/Users/mymac/travelers/main.ipynb#Y203sZmlsZQ%3D%3D?line=18'>19</a>\u001b[0m     curr_model\u001b[39m.\u001b[39;49mfit(cost_x_train, cost_y_train)\n\u001b[1;32m     <a href='vscode-notebook-cell:/Users/mymac/travelers/main.ipynb#Y203sZmlsZQ%3D%3D?line=20'>21</a>\u001b[0m     cost_y_train_pred \u001b[39m=\u001b[39m curr_model\u001b[39m.\u001b[39mpredict(cost_x_train)\n\u001b[1;32m     <a href='vscode-notebook-cell:/Users/mymac/travelers/main.ipynb#Y203sZmlsZQ%3D%3D?line=21'>22</a>\u001b[0m     cost_y_test_pred \u001b[39m=\u001b[39m curr_model\u001b[39m.\u001b[39mpredict(cost_x_test)\n",
      "File \u001b[0;32m~/miniforge3/envs/tf/lib/python3.9/site-packages/sklearn/base.py:1151\u001b[0m, in \u001b[0;36m_fit_context.<locals>.decorator.<locals>.wrapper\u001b[0;34m(estimator, *args, **kwargs)\u001b[0m\n\u001b[1;32m   1144\u001b[0m     estimator\u001b[39m.\u001b[39m_validate_params()\n\u001b[1;32m   1146\u001b[0m \u001b[39mwith\u001b[39;00m config_context(\n\u001b[1;32m   1147\u001b[0m     skip_parameter_validation\u001b[39m=\u001b[39m(\n\u001b[1;32m   1148\u001b[0m         prefer_skip_nested_validation \u001b[39mor\u001b[39;00m global_skip_validation\n\u001b[1;32m   1149\u001b[0m     )\n\u001b[1;32m   1150\u001b[0m ):\n\u001b[0;32m-> 1151\u001b[0m     \u001b[39mreturn\u001b[39;00m fit_method(estimator, \u001b[39m*\u001b[39;49margs, \u001b[39m*\u001b[39;49m\u001b[39m*\u001b[39;49mkwargs)\n",
      "File \u001b[0;32m~/miniforge3/envs/tf/lib/python3.9/site-packages/sklearn/ensemble/_forest.py:456\u001b[0m, in \u001b[0;36mBaseForest.fit\u001b[0;34m(self, X, y, sample_weight)\u001b[0m\n\u001b[1;32m    445\u001b[0m trees \u001b[39m=\u001b[39m [\n\u001b[1;32m    446\u001b[0m     \u001b[39mself\u001b[39m\u001b[39m.\u001b[39m_make_estimator(append\u001b[39m=\u001b[39m\u001b[39mFalse\u001b[39;00m, random_state\u001b[39m=\u001b[39mrandom_state)\n\u001b[1;32m    447\u001b[0m     \u001b[39mfor\u001b[39;00m i \u001b[39min\u001b[39;00m \u001b[39mrange\u001b[39m(n_more_estimators)\n\u001b[1;32m    448\u001b[0m ]\n\u001b[1;32m    450\u001b[0m \u001b[39m# Parallel loop: we prefer the threading backend as the Cython code\u001b[39;00m\n\u001b[1;32m    451\u001b[0m \u001b[39m# for fitting the trees is internally releasing the Python GIL\u001b[39;00m\n\u001b[1;32m    452\u001b[0m \u001b[39m# making threading more efficient than multiprocessing in\u001b[39;00m\n\u001b[1;32m    453\u001b[0m \u001b[39m# that case. However, for joblib 0.12+ we respect any\u001b[39;00m\n\u001b[1;32m    454\u001b[0m \u001b[39m# parallel_backend contexts set at a higher level,\u001b[39;00m\n\u001b[1;32m    455\u001b[0m \u001b[39m# since correctness does not rely on using threads.\u001b[39;00m\n\u001b[0;32m--> 456\u001b[0m trees \u001b[39m=\u001b[39m Parallel(\n\u001b[1;32m    457\u001b[0m     n_jobs\u001b[39m=\u001b[39;49m\u001b[39mself\u001b[39;49m\u001b[39m.\u001b[39;49mn_jobs,\n\u001b[1;32m    458\u001b[0m     verbose\u001b[39m=\u001b[39;49m\u001b[39mself\u001b[39;49m\u001b[39m.\u001b[39;49mverbose,\n\u001b[1;32m    459\u001b[0m     prefer\u001b[39m=\u001b[39;49m\u001b[39m\"\u001b[39;49m\u001b[39mthreads\u001b[39;49m\u001b[39m\"\u001b[39;49m,\n\u001b[1;32m    460\u001b[0m )(\n\u001b[1;32m    461\u001b[0m     delayed(_parallel_build_trees)(\n\u001b[1;32m    462\u001b[0m         t,\n\u001b[1;32m    463\u001b[0m         \u001b[39mself\u001b[39;49m\u001b[39m.\u001b[39;49mbootstrap,\n\u001b[1;32m    464\u001b[0m         X,\n\u001b[1;32m    465\u001b[0m         y,\n\u001b[1;32m    466\u001b[0m         sample_weight,\n\u001b[1;32m    467\u001b[0m         i,\n\u001b[1;32m    468\u001b[0m         \u001b[39mlen\u001b[39;49m(trees),\n\u001b[1;32m    469\u001b[0m         verbose\u001b[39m=\u001b[39;49m\u001b[39mself\u001b[39;49m\u001b[39m.\u001b[39;49mverbose,\n\u001b[1;32m    470\u001b[0m         class_weight\u001b[39m=\u001b[39;49m\u001b[39mself\u001b[39;49m\u001b[39m.\u001b[39;49mclass_weight,\n\u001b[1;32m    471\u001b[0m         n_samples_bootstrap\u001b[39m=\u001b[39;49mn_samples_bootstrap,\n\u001b[1;32m    472\u001b[0m     )\n\u001b[1;32m    473\u001b[0m     \u001b[39mfor\u001b[39;49;00m i, t \u001b[39min\u001b[39;49;00m \u001b[39menumerate\u001b[39;49m(trees)\n\u001b[1;32m    474\u001b[0m )\n\u001b[1;32m    476\u001b[0m \u001b[39m# Collect newly grown trees\u001b[39;00m\n\u001b[1;32m    477\u001b[0m \u001b[39mself\u001b[39m\u001b[39m.\u001b[39mestimators_\u001b[39m.\u001b[39mextend(trees)\n",
      "File \u001b[0;32m~/miniforge3/envs/tf/lib/python3.9/site-packages/sklearn/utils/parallel.py:65\u001b[0m, in \u001b[0;36mParallel.__call__\u001b[0;34m(self, iterable)\u001b[0m\n\u001b[1;32m     60\u001b[0m config \u001b[39m=\u001b[39m get_config()\n\u001b[1;32m     61\u001b[0m iterable_with_config \u001b[39m=\u001b[39m (\n\u001b[1;32m     62\u001b[0m     (_with_config(delayed_func, config), args, kwargs)\n\u001b[1;32m     63\u001b[0m     \u001b[39mfor\u001b[39;00m delayed_func, args, kwargs \u001b[39min\u001b[39;00m iterable\n\u001b[1;32m     64\u001b[0m )\n\u001b[0;32m---> 65\u001b[0m \u001b[39mreturn\u001b[39;00m \u001b[39msuper\u001b[39;49m()\u001b[39m.\u001b[39;49m\u001b[39m__call__\u001b[39;49m(iterable_with_config)\n",
      "File \u001b[0;32m~/miniforge3/envs/tf/lib/python3.9/site-packages/joblib/parallel.py:1088\u001b[0m, in \u001b[0;36mParallel.__call__\u001b[0;34m(self, iterable)\u001b[0m\n\u001b[1;32m   1085\u001b[0m \u001b[39mif\u001b[39;00m \u001b[39mself\u001b[39m\u001b[39m.\u001b[39mdispatch_one_batch(iterator):\n\u001b[1;32m   1086\u001b[0m     \u001b[39mself\u001b[39m\u001b[39m.\u001b[39m_iterating \u001b[39m=\u001b[39m \u001b[39mself\u001b[39m\u001b[39m.\u001b[39m_original_iterator \u001b[39mis\u001b[39;00m \u001b[39mnot\u001b[39;00m \u001b[39mNone\u001b[39;00m\n\u001b[0;32m-> 1088\u001b[0m \u001b[39mwhile\u001b[39;00m \u001b[39mself\u001b[39;49m\u001b[39m.\u001b[39;49mdispatch_one_batch(iterator):\n\u001b[1;32m   1089\u001b[0m     \u001b[39mpass\u001b[39;00m\n\u001b[1;32m   1091\u001b[0m \u001b[39mif\u001b[39;00m pre_dispatch \u001b[39m==\u001b[39m \u001b[39m\"\u001b[39m\u001b[39mall\u001b[39m\u001b[39m\"\u001b[39m \u001b[39mor\u001b[39;00m n_jobs \u001b[39m==\u001b[39m \u001b[39m1\u001b[39m:\n\u001b[1;32m   1092\u001b[0m     \u001b[39m# The iterable was consumed all at once by the above for loop.\u001b[39;00m\n\u001b[1;32m   1093\u001b[0m     \u001b[39m# No need to wait for async callbacks to trigger to\u001b[39;00m\n\u001b[1;32m   1094\u001b[0m     \u001b[39m# consumption.\u001b[39;00m\n",
      "File \u001b[0;32m~/miniforge3/envs/tf/lib/python3.9/site-packages/joblib/parallel.py:901\u001b[0m, in \u001b[0;36mParallel.dispatch_one_batch\u001b[0;34m(self, iterator)\u001b[0m\n\u001b[1;32m    899\u001b[0m     \u001b[39mreturn\u001b[39;00m \u001b[39mFalse\u001b[39;00m\n\u001b[1;32m    900\u001b[0m \u001b[39melse\u001b[39;00m:\n\u001b[0;32m--> 901\u001b[0m     \u001b[39mself\u001b[39;49m\u001b[39m.\u001b[39;49m_dispatch(tasks)\n\u001b[1;32m    902\u001b[0m     \u001b[39mreturn\u001b[39;00m \u001b[39mTrue\u001b[39;00m\n",
      "File \u001b[0;32m~/miniforge3/envs/tf/lib/python3.9/site-packages/joblib/parallel.py:819\u001b[0m, in \u001b[0;36mParallel._dispatch\u001b[0;34m(self, batch)\u001b[0m\n\u001b[1;32m    817\u001b[0m \u001b[39mwith\u001b[39;00m \u001b[39mself\u001b[39m\u001b[39m.\u001b[39m_lock:\n\u001b[1;32m    818\u001b[0m     job_idx \u001b[39m=\u001b[39m \u001b[39mlen\u001b[39m(\u001b[39mself\u001b[39m\u001b[39m.\u001b[39m_jobs)\n\u001b[0;32m--> 819\u001b[0m     job \u001b[39m=\u001b[39m \u001b[39mself\u001b[39;49m\u001b[39m.\u001b[39;49m_backend\u001b[39m.\u001b[39;49mapply_async(batch, callback\u001b[39m=\u001b[39;49mcb)\n\u001b[1;32m    820\u001b[0m     \u001b[39m# A job can complete so quickly than its callback is\u001b[39;00m\n\u001b[1;32m    821\u001b[0m     \u001b[39m# called before we get here, causing self._jobs to\u001b[39;00m\n\u001b[1;32m    822\u001b[0m     \u001b[39m# grow. To ensure correct results ordering, .insert is\u001b[39;00m\n\u001b[1;32m    823\u001b[0m     \u001b[39m# used (rather than .append) in the following line\u001b[39;00m\n\u001b[1;32m    824\u001b[0m     \u001b[39mself\u001b[39m\u001b[39m.\u001b[39m_jobs\u001b[39m.\u001b[39minsert(job_idx, job)\n",
      "File \u001b[0;32m~/miniforge3/envs/tf/lib/python3.9/site-packages/joblib/_parallel_backends.py:208\u001b[0m, in \u001b[0;36mSequentialBackend.apply_async\u001b[0;34m(self, func, callback)\u001b[0m\n\u001b[1;32m    206\u001b[0m \u001b[39mdef\u001b[39;00m \u001b[39mapply_async\u001b[39m(\u001b[39mself\u001b[39m, func, callback\u001b[39m=\u001b[39m\u001b[39mNone\u001b[39;00m):\n\u001b[1;32m    207\u001b[0m \u001b[39m    \u001b[39m\u001b[39m\"\"\"Schedule a func to be run\"\"\"\u001b[39;00m\n\u001b[0;32m--> 208\u001b[0m     result \u001b[39m=\u001b[39m ImmediateResult(func)\n\u001b[1;32m    209\u001b[0m     \u001b[39mif\u001b[39;00m callback:\n\u001b[1;32m    210\u001b[0m         callback(result)\n",
      "File \u001b[0;32m~/miniforge3/envs/tf/lib/python3.9/site-packages/joblib/_parallel_backends.py:597\u001b[0m, in \u001b[0;36mImmediateResult.__init__\u001b[0;34m(self, batch)\u001b[0m\n\u001b[1;32m    594\u001b[0m \u001b[39mdef\u001b[39;00m \u001b[39m__init__\u001b[39m(\u001b[39mself\u001b[39m, batch):\n\u001b[1;32m    595\u001b[0m     \u001b[39m# Don't delay the application, to avoid keeping the input\u001b[39;00m\n\u001b[1;32m    596\u001b[0m     \u001b[39m# arguments in memory\u001b[39;00m\n\u001b[0;32m--> 597\u001b[0m     \u001b[39mself\u001b[39m\u001b[39m.\u001b[39mresults \u001b[39m=\u001b[39m batch()\n",
      "File \u001b[0;32m~/miniforge3/envs/tf/lib/python3.9/site-packages/joblib/parallel.py:288\u001b[0m, in \u001b[0;36mBatchedCalls.__call__\u001b[0;34m(self)\u001b[0m\n\u001b[1;32m    284\u001b[0m \u001b[39mdef\u001b[39;00m \u001b[39m__call__\u001b[39m(\u001b[39mself\u001b[39m):\n\u001b[1;32m    285\u001b[0m     \u001b[39m# Set the default nested backend to self._backend but do not set the\u001b[39;00m\n\u001b[1;32m    286\u001b[0m     \u001b[39m# change the default number of processes to -1\u001b[39;00m\n\u001b[1;32m    287\u001b[0m     \u001b[39mwith\u001b[39;00m parallel_backend(\u001b[39mself\u001b[39m\u001b[39m.\u001b[39m_backend, n_jobs\u001b[39m=\u001b[39m\u001b[39mself\u001b[39m\u001b[39m.\u001b[39m_n_jobs):\n\u001b[0;32m--> 288\u001b[0m         \u001b[39mreturn\u001b[39;00m [func(\u001b[39m*\u001b[39margs, \u001b[39m*\u001b[39m\u001b[39m*\u001b[39mkwargs)\n\u001b[1;32m    289\u001b[0m                 \u001b[39mfor\u001b[39;00m func, args, kwargs \u001b[39min\u001b[39;00m \u001b[39mself\u001b[39m\u001b[39m.\u001b[39mitems]\n",
      "File \u001b[0;32m~/miniforge3/envs/tf/lib/python3.9/site-packages/joblib/parallel.py:288\u001b[0m, in \u001b[0;36m<listcomp>\u001b[0;34m(.0)\u001b[0m\n\u001b[1;32m    284\u001b[0m \u001b[39mdef\u001b[39;00m \u001b[39m__call__\u001b[39m(\u001b[39mself\u001b[39m):\n\u001b[1;32m    285\u001b[0m     \u001b[39m# Set the default nested backend to self._backend but do not set the\u001b[39;00m\n\u001b[1;32m    286\u001b[0m     \u001b[39m# change the default number of processes to -1\u001b[39;00m\n\u001b[1;32m    287\u001b[0m     \u001b[39mwith\u001b[39;00m parallel_backend(\u001b[39mself\u001b[39m\u001b[39m.\u001b[39m_backend, n_jobs\u001b[39m=\u001b[39m\u001b[39mself\u001b[39m\u001b[39m.\u001b[39m_n_jobs):\n\u001b[0;32m--> 288\u001b[0m         \u001b[39mreturn\u001b[39;00m [func(\u001b[39m*\u001b[39;49margs, \u001b[39m*\u001b[39;49m\u001b[39m*\u001b[39;49mkwargs)\n\u001b[1;32m    289\u001b[0m                 \u001b[39mfor\u001b[39;00m func, args, kwargs \u001b[39min\u001b[39;00m \u001b[39mself\u001b[39m\u001b[39m.\u001b[39mitems]\n",
      "File \u001b[0;32m~/miniforge3/envs/tf/lib/python3.9/site-packages/sklearn/utils/parallel.py:127\u001b[0m, in \u001b[0;36m_FuncWrapper.__call__\u001b[0;34m(self, *args, **kwargs)\u001b[0m\n\u001b[1;32m    125\u001b[0m     config \u001b[39m=\u001b[39m {}\n\u001b[1;32m    126\u001b[0m \u001b[39mwith\u001b[39;00m config_context(\u001b[39m*\u001b[39m\u001b[39m*\u001b[39mconfig):\n\u001b[0;32m--> 127\u001b[0m     \u001b[39mreturn\u001b[39;00m \u001b[39mself\u001b[39;49m\u001b[39m.\u001b[39;49mfunction(\u001b[39m*\u001b[39;49margs, \u001b[39m*\u001b[39;49m\u001b[39m*\u001b[39;49mkwargs)\n",
      "File \u001b[0;32m~/miniforge3/envs/tf/lib/python3.9/site-packages/sklearn/ensemble/_forest.py:188\u001b[0m, in \u001b[0;36m_parallel_build_trees\u001b[0;34m(tree, bootstrap, X, y, sample_weight, tree_idx, n_trees, verbose, class_weight, n_samples_bootstrap)\u001b[0m\n\u001b[1;32m    185\u001b[0m     \u001b[39melif\u001b[39;00m class_weight \u001b[39m==\u001b[39m \u001b[39m\"\u001b[39m\u001b[39mbalanced_subsample\u001b[39m\u001b[39m\"\u001b[39m:\n\u001b[1;32m    186\u001b[0m         curr_sample_weight \u001b[39m*\u001b[39m\u001b[39m=\u001b[39m compute_sample_weight(\u001b[39m\"\u001b[39m\u001b[39mbalanced\u001b[39m\u001b[39m\"\u001b[39m, y, indices\u001b[39m=\u001b[39mindices)\n\u001b[0;32m--> 188\u001b[0m     tree\u001b[39m.\u001b[39;49mfit(X, y, sample_weight\u001b[39m=\u001b[39;49mcurr_sample_weight, check_input\u001b[39m=\u001b[39;49m\u001b[39mFalse\u001b[39;49;00m)\n\u001b[1;32m    189\u001b[0m \u001b[39melse\u001b[39;00m:\n\u001b[1;32m    190\u001b[0m     tree\u001b[39m.\u001b[39mfit(X, y, sample_weight\u001b[39m=\u001b[39msample_weight, check_input\u001b[39m=\u001b[39m\u001b[39mFalse\u001b[39;00m)\n",
      "File \u001b[0;32m~/miniforge3/envs/tf/lib/python3.9/site-packages/sklearn/base.py:1151\u001b[0m, in \u001b[0;36m_fit_context.<locals>.decorator.<locals>.wrapper\u001b[0;34m(estimator, *args, **kwargs)\u001b[0m\n\u001b[1;32m   1144\u001b[0m     estimator\u001b[39m.\u001b[39m_validate_params()\n\u001b[1;32m   1146\u001b[0m \u001b[39mwith\u001b[39;00m config_context(\n\u001b[1;32m   1147\u001b[0m     skip_parameter_validation\u001b[39m=\u001b[39m(\n\u001b[1;32m   1148\u001b[0m         prefer_skip_nested_validation \u001b[39mor\u001b[39;00m global_skip_validation\n\u001b[1;32m   1149\u001b[0m     )\n\u001b[1;32m   1150\u001b[0m ):\n\u001b[0;32m-> 1151\u001b[0m     \u001b[39mreturn\u001b[39;00m fit_method(estimator, \u001b[39m*\u001b[39;49margs, \u001b[39m*\u001b[39;49m\u001b[39m*\u001b[39;49mkwargs)\n",
      "File \u001b[0;32m~/miniforge3/envs/tf/lib/python3.9/site-packages/sklearn/tree/_classes.py:1320\u001b[0m, in \u001b[0;36mDecisionTreeRegressor.fit\u001b[0;34m(self, X, y, sample_weight, check_input)\u001b[0m\n\u001b[1;32m   1290\u001b[0m \u001b[39m@_fit_context\u001b[39m(prefer_skip_nested_validation\u001b[39m=\u001b[39m\u001b[39mTrue\u001b[39;00m)\n\u001b[1;32m   1291\u001b[0m \u001b[39mdef\u001b[39;00m \u001b[39mfit\u001b[39m(\u001b[39mself\u001b[39m, X, y, sample_weight\u001b[39m=\u001b[39m\u001b[39mNone\u001b[39;00m, check_input\u001b[39m=\u001b[39m\u001b[39mTrue\u001b[39;00m):\n\u001b[1;32m   1292\u001b[0m \u001b[39m    \u001b[39m\u001b[39m\"\"\"Build a decision tree regressor from the training set (X, y).\u001b[39;00m\n\u001b[1;32m   1293\u001b[0m \n\u001b[1;32m   1294\u001b[0m \u001b[39m    Parameters\u001b[39;00m\n\u001b[0;32m   (...)\u001b[0m\n\u001b[1;32m   1317\u001b[0m \u001b[39m        Fitted estimator.\u001b[39;00m\n\u001b[1;32m   1318\u001b[0m \u001b[39m    \"\"\"\u001b[39;00m\n\u001b[0;32m-> 1320\u001b[0m     \u001b[39msuper\u001b[39;49m()\u001b[39m.\u001b[39;49m_fit(\n\u001b[1;32m   1321\u001b[0m         X,\n\u001b[1;32m   1322\u001b[0m         y,\n\u001b[1;32m   1323\u001b[0m         sample_weight\u001b[39m=\u001b[39;49msample_weight,\n\u001b[1;32m   1324\u001b[0m         check_input\u001b[39m=\u001b[39;49mcheck_input,\n\u001b[1;32m   1325\u001b[0m     )\n\u001b[1;32m   1326\u001b[0m     \u001b[39mreturn\u001b[39;00m \u001b[39mself\u001b[39m\n",
      "File \u001b[0;32m~/miniforge3/envs/tf/lib/python3.9/site-packages/sklearn/tree/_classes.py:443\u001b[0m, in \u001b[0;36mBaseDecisionTree._fit\u001b[0;34m(self, X, y, sample_weight, check_input, missing_values_in_feature_mask)\u001b[0m\n\u001b[1;32m    432\u001b[0m \u001b[39melse\u001b[39;00m:\n\u001b[1;32m    433\u001b[0m     builder \u001b[39m=\u001b[39m BestFirstTreeBuilder(\n\u001b[1;32m    434\u001b[0m         splitter,\n\u001b[1;32m    435\u001b[0m         min_samples_split,\n\u001b[0;32m   (...)\u001b[0m\n\u001b[1;32m    440\u001b[0m         \u001b[39mself\u001b[39m\u001b[39m.\u001b[39mmin_impurity_decrease,\n\u001b[1;32m    441\u001b[0m     )\n\u001b[0;32m--> 443\u001b[0m builder\u001b[39m.\u001b[39;49mbuild(\u001b[39mself\u001b[39;49m\u001b[39m.\u001b[39;49mtree_, X, y, sample_weight, missing_values_in_feature_mask)\n\u001b[1;32m    445\u001b[0m \u001b[39mif\u001b[39;00m \u001b[39mself\u001b[39m\u001b[39m.\u001b[39mn_outputs_ \u001b[39m==\u001b[39m \u001b[39m1\u001b[39m \u001b[39mand\u001b[39;00m is_classifier(\u001b[39mself\u001b[39m):\n\u001b[1;32m    446\u001b[0m     \u001b[39mself\u001b[39m\u001b[39m.\u001b[39mn_classes_ \u001b[39m=\u001b[39m \u001b[39mself\u001b[39m\u001b[39m.\u001b[39mn_classes_[\u001b[39m0\u001b[39m]\n",
      "\u001b[0;31mKeyboardInterrupt\u001b[0m: "
     ]
    }
   ],
   "source": [
    "all_combos = []\n",
    "\n",
    "for n_estimators in [5, 10, 15, 20, 25, 50, 100, 200, 300]:\n",
    "    for min_samples_leaf in [5, 10, 15, 20, 25, 50]:\n",
    "        for max_depth in [3, 4, 5, 6, 7, 8, 9, 10, 15, 20]:\n",
    "            for min_samples_split in [2, 3, 4, 5, 10, 15]:\n",
    "                for criterion in ['squared_error', 'absolute_error', 'friedman_mse', 'poisson']:\n",
    "                    all_combos.append((n_estimators, min_samples_leaf, max_depth, min_samples_split, criterion))\n",
    "\n",
    "percentage_to_try = 0.01\n",
    "n_runs = int(percentage_to_try * len(all_combos))\n",
    "combos_to_try = random.sample(all_combos, n_runs)\n",
    "print(f'Num runs: {n_runs}')\n",
    "\n",
    "best_test_mse, cost_rf_model = np.inf, None\n",
    "\n",
    "for n_estimators, min_samples_leaf, max_depth, min_samples_split, criterion in combos_to_try:\n",
    "    curr_model = RandomForestRegressor(n_estimators=n_estimators, min_samples_leaf=min_samples_leaf, max_depth=max_depth, min_samples_split=min_samples_split, criterion=criterion)\n",
    "    curr_model.fit(cost_x_train, cost_y_train)\n",
    "\n",
    "    cost_y_train_pred = curr_model.predict(cost_x_train)\n",
    "    cost_y_test_pred = curr_model.predict(cost_x_test)\n",
    "\n",
    "    train_mse = mean_squared_error(cost_y_train, cost_y_train_pred)\n",
    "    test_mse = mean_squared_error(cost_y_test, cost_y_test_pred)\n",
    "\n",
    "    if test_mse < best_test_mse:\n",
    "        best_test_mse, cost_rf_model = test_mse, curr_model\n",
    "        print(f'Best results so far: train = {train_mse}, test = {test_mse}')\n",
    "\n",
    "        # Early stopping\n",
    "        if best_test_mse == 0.0:\n",
    "            break\n",
    "\n",
    "    n_runs -= 1\n",
    "    print(f'Remaining runs: {n_runs}')\n",
    "\n",
    "print(best_test_mse)\n",
    "print(cost_rf_model.get_params())"
   ]
  },
  {
   "cell_type": "code",
   "execution_count": 233,
   "metadata": {},
   "outputs": [
    {
     "name": "stdout",
     "output_type": "stream",
     "text": [
      "116482.53815666544\n",
      "0.5\n",
      "57895.58456 50772.05245149815\n",
      "0.0 0.0\n",
      "0.0 0.0\n",
      "163.04808373789712 162.30785999326594\n"
     ]
    },
    {
     "data": {
      "image/png": "[encoded data removed]",
      "text/plain": [
       "<Figure size 640x480 with 1 Axes>"
      ]
     },
     "metadata": {},
     "output_type": "display_data"
    }
   ],
   "source": [
    "original_cost_rf_pred = cost_rf_model.predict(original_cost_x)\n",
    "\n",
    "print(mean_squared_error(original_cost_y, original_cost_rf_pred))\n",
    "print(calculate_normalized_gini_regression(original_cost_y, original_cost_rf_pred))\n",
    "print(original_cost_y.max(), original_cost_rf_pred.max())\n",
    "print(original_cost_y.min(), original_cost_rf_pred.min())\n",
    "print(np.median(original_cost_y), np.median(original_cost_rf_pred))\n",
    "print(original_cost_y.mean(), original_cost_rf_pred.mean())\n",
    "\n",
    "plt.hist(original_cost_y, bins=50)\n",
    "plt.hist(original_cost_rf_pred, bins=50)\n",
    "plt.show()"
   ]
  },
  {
   "cell_type": "code",
   "execution_count": 193,
   "metadata": {},
   "outputs": [
    {
     "name": "stdout",
     "output_type": "stream",
     "text": [
      "Num runs: 194\n",
      "Best results so far: train = 2497149.1943993284, test = 2851173.5004843245\n",
      "Remaining runs: 193\n",
      "Remaining runs: 192\n",
      "Best results so far: train = 348643.9398834553, test = 431811.08304816735\n",
      "Remaining runs: 191\n",
      "Remaining runs: 190\n",
      "Remaining runs: 189\n",
      "Remaining runs: 188\n",
      "Best results so far: train = 184088.66937025983, test = 258690.0750533036\n",
      "Remaining runs: 187\n",
      "Best results so far: train = 654.136692675172, test = 11153.912218999929\n",
      "Remaining runs: 186\n",
      "Remaining runs: 185\n",
      "Remaining runs: 184\n",
      "Remaining runs: 183\n",
      "Remaining runs: 182\n",
      "Remaining runs: 181\n",
      "Remaining runs: 180\n",
      "Remaining runs: 179\n",
      "Remaining runs: 178\n",
      "Remaining runs: 177\n",
      "Remaining runs: 176\n",
      "Remaining runs: 175\n",
      "Remaining runs: 174\n",
      "Remaining runs: 173\n",
      "Remaining runs: 172\n",
      "Remaining runs: 171\n",
      "Remaining runs: 170\n",
      "Remaining runs: 169\n",
      "Remaining runs: 168\n",
      "Remaining runs: 167\n",
      "Remaining runs: 166\n",
      "Remaining runs: 165\n",
      "Remaining runs: 164\n",
      "Remaining runs: 163\n",
      "Remaining runs: 162\n",
      "Remaining runs: 161\n",
      "Remaining runs: 160\n",
      "Remaining runs: 159\n",
      "Remaining runs: 158\n",
      "Remaining runs: 157\n",
      "Remaining runs: 156\n",
      "Remaining runs: 155\n",
      "Remaining runs: 154\n",
      "Remaining runs: 153\n",
      "Remaining runs: 152\n",
      "Remaining runs: 151\n",
      "Remaining runs: 150\n",
      "Remaining runs: 149\n",
      "Remaining runs: 148\n",
      "Remaining runs: 147\n",
      "Remaining runs: 146\n",
      "Remaining runs: 145\n",
      "Remaining runs: 144\n",
      "Remaining runs: 143\n",
      "Remaining runs: 142\n",
      "Remaining runs: 141\n",
      "Remaining runs: 140\n",
      "Remaining runs: 139\n",
      "Remaining runs: 138\n",
      "Remaining runs: 137\n",
      "Remaining runs: 136\n",
      "Remaining runs: 135\n",
      "Remaining runs: 134\n",
      "Remaining runs: 133\n",
      "Remaining runs: 132\n",
      "Remaining runs: 131\n",
      "Remaining runs: 130\n",
      "Remaining runs: 129\n",
      "Remaining runs: 128\n",
      "Remaining runs: 127\n",
      "Remaining runs: 126\n",
      "Remaining runs: 125\n",
      "Remaining runs: 124\n",
      "Remaining runs: 123\n",
      "Remaining runs: 122\n",
      "Remaining runs: 121\n",
      "Remaining runs: 120\n",
      "Remaining runs: 119\n",
      "Remaining runs: 118\n",
      "Best results so far: train = 1500.3108197891047, test = 8500.102911605605\n",
      "Remaining runs: 117\n",
      "Remaining runs: 116\n",
      "Remaining runs: 115\n",
      "Remaining runs: 114\n",
      "Remaining runs: 113\n",
      "Remaining runs: 112\n",
      "Remaining runs: 111\n",
      "Remaining runs: 110\n",
      "Remaining runs: 109\n",
      "Remaining runs: 108\n",
      "Remaining runs: 107\n",
      "Remaining runs: 106\n",
      "Remaining runs: 105\n",
      "Remaining runs: 104\n"
     ]
    },
    {
     "ename": "KeyboardInterrupt",
     "evalue": "",
     "output_type": "error",
     "traceback": [
      "\u001b[0;31m---------------------------------------------------------------------------\u001b[0m",
      "\u001b[0;31mKeyboardInterrupt\u001b[0m                         Traceback (most recent call last)",
      "\u001b[1;32m/Users/mymac/travelers/main.ipynb Cell 76\u001b[0m line \u001b[0;36m2\n\u001b[1;32m     <a href='vscode-notebook-cell:/Users/mymac/travelers/main.ipynb#Y213sZmlsZQ%3D%3D?line=17'>18</a>\u001b[0m \u001b[39mfor\u001b[39;00m n_estimators, min_samples_leaf, max_depth, min_samples_split, learning_rate, loss \u001b[39min\u001b[39;00m combos_to_try:\n\u001b[1;32m     <a href='vscode-notebook-cell:/Users/mymac/travelers/main.ipynb#Y213sZmlsZQ%3D%3D?line=18'>19</a>\u001b[0m     curr_model \u001b[39m=\u001b[39m GradientBoostingRegressor(n_estimators\u001b[39m=\u001b[39mn_estimators, min_samples_leaf\u001b[39m=\u001b[39mmin_samples_leaf, max_depth\u001b[39m=\u001b[39mmax_depth, min_samples_split\u001b[39m=\u001b[39mmin_samples_split, learning_rate\u001b[39m=\u001b[39mlearning_rate, loss\u001b[39m=\u001b[39mloss)\n\u001b[0;32m---> <a href='vscode-notebook-cell:/Users/mymac/travelers/main.ipynb#Y213sZmlsZQ%3D%3D?line=19'>20</a>\u001b[0m     curr_model\u001b[39m.\u001b[39;49mfit(cost_x_train, cost_y_train)\n\u001b[1;32m     <a href='vscode-notebook-cell:/Users/mymac/travelers/main.ipynb#Y213sZmlsZQ%3D%3D?line=21'>22</a>\u001b[0m     cost_y_train_pred \u001b[39m=\u001b[39m curr_model\u001b[39m.\u001b[39mpredict(cost_x_train)\n\u001b[1;32m     <a href='vscode-notebook-cell:/Users/mymac/travelers/main.ipynb#Y213sZmlsZQ%3D%3D?line=22'>23</a>\u001b[0m     cost_y_test_pred \u001b[39m=\u001b[39m curr_model\u001b[39m.\u001b[39mpredict(cost_x_test)\n",
      "File \u001b[0;32m~/miniforge3/envs/tf/lib/python3.9/site-packages/sklearn/base.py:1151\u001b[0m, in \u001b[0;36m_fit_context.<locals>.decorator.<locals>.wrapper\u001b[0;34m(estimator, *args, **kwargs)\u001b[0m\n\u001b[1;32m   1144\u001b[0m     estimator\u001b[39m.\u001b[39m_validate_params()\n\u001b[1;32m   1146\u001b[0m \u001b[39mwith\u001b[39;00m config_context(\n\u001b[1;32m   1147\u001b[0m     skip_parameter_validation\u001b[39m=\u001b[39m(\n\u001b[1;32m   1148\u001b[0m         prefer_skip_nested_validation \u001b[39mor\u001b[39;00m global_skip_validation\n\u001b[1;32m   1149\u001b[0m     )\n\u001b[1;32m   1150\u001b[0m ):\n\u001b[0;32m-> 1151\u001b[0m     \u001b[39mreturn\u001b[39;00m fit_method(estimator, \u001b[39m*\u001b[39;49margs, \u001b[39m*\u001b[39;49m\u001b[39m*\u001b[39;49mkwargs)\n",
      "File \u001b[0;32m~/miniforge3/envs/tf/lib/python3.9/site-packages/sklearn/ensemble/_gb.py:525\u001b[0m, in \u001b[0;36mBaseGradientBoosting.fit\u001b[0;34m(self, X, y, sample_weight, monitor)\u001b[0m\n\u001b[1;32m    522\u001b[0m     \u001b[39mself\u001b[39m\u001b[39m.\u001b[39m_resize_state()\n\u001b[1;32m    524\u001b[0m \u001b[39m# fit the boosting stages\u001b[39;00m\n\u001b[0;32m--> 525\u001b[0m n_stages \u001b[39m=\u001b[39m \u001b[39mself\u001b[39;49m\u001b[39m.\u001b[39;49m_fit_stages(\n\u001b[1;32m    526\u001b[0m     X,\n\u001b[1;32m    527\u001b[0m     y,\n\u001b[1;32m    528\u001b[0m     raw_predictions,\n\u001b[1;32m    529\u001b[0m     sample_weight,\n\u001b[1;32m    530\u001b[0m     \u001b[39mself\u001b[39;49m\u001b[39m.\u001b[39;49m_rng,\n\u001b[1;32m    531\u001b[0m     X_val,\n\u001b[1;32m    532\u001b[0m     y_val,\n\u001b[1;32m    533\u001b[0m     sample_weight_val,\n\u001b[1;32m    534\u001b[0m     begin_at_stage,\n\u001b[1;32m    535\u001b[0m     monitor,\n\u001b[1;32m    536\u001b[0m )\n\u001b[1;32m    538\u001b[0m \u001b[39m# change shape of arrays after fit (early-stopping or additional ests)\u001b[39;00m\n\u001b[1;32m    539\u001b[0m \u001b[39mif\u001b[39;00m n_stages \u001b[39m!=\u001b[39m \u001b[39mself\u001b[39m\u001b[39m.\u001b[39mestimators_\u001b[39m.\u001b[39mshape[\u001b[39m0\u001b[39m]:\n",
      "File \u001b[0;32m~/miniforge3/envs/tf/lib/python3.9/site-packages/sklearn/ensemble/_gb.py:603\u001b[0m, in \u001b[0;36mBaseGradientBoosting._fit_stages\u001b[0;34m(self, X, y, raw_predictions, sample_weight, random_state, X_val, y_val, sample_weight_val, begin_at_stage, monitor)\u001b[0m\n\u001b[1;32m    596\u001b[0m         initial_loss \u001b[39m=\u001b[39m loss_(\n\u001b[1;32m    597\u001b[0m             y[\u001b[39m~\u001b[39msample_mask],\n\u001b[1;32m    598\u001b[0m             raw_predictions[\u001b[39m~\u001b[39msample_mask],\n\u001b[1;32m    599\u001b[0m             sample_weight[\u001b[39m~\u001b[39msample_mask],\n\u001b[1;32m    600\u001b[0m         )\n\u001b[1;32m    602\u001b[0m \u001b[39m# fit next stage of trees\u001b[39;00m\n\u001b[0;32m--> 603\u001b[0m raw_predictions \u001b[39m=\u001b[39m \u001b[39mself\u001b[39;49m\u001b[39m.\u001b[39;49m_fit_stage(\n\u001b[1;32m    604\u001b[0m     i,\n\u001b[1;32m    605\u001b[0m     X,\n\u001b[1;32m    606\u001b[0m     y,\n\u001b[1;32m    607\u001b[0m     raw_predictions,\n\u001b[1;32m    608\u001b[0m     sample_weight,\n\u001b[1;32m    609\u001b[0m     sample_mask,\n\u001b[1;32m    610\u001b[0m     random_state,\n\u001b[1;32m    611\u001b[0m     X_csc,\n\u001b[1;32m    612\u001b[0m     X_csr,\n\u001b[1;32m    613\u001b[0m )\n\u001b[1;32m    615\u001b[0m \u001b[39m# track loss\u001b[39;00m\n\u001b[1;32m    616\u001b[0m \u001b[39mif\u001b[39;00m do_oob:\n",
      "File \u001b[0;32m~/miniforge3/envs/tf/lib/python3.9/site-packages/sklearn/ensemble/_gb.py:245\u001b[0m, in \u001b[0;36mBaseGradientBoosting._fit_stage\u001b[0;34m(self, i, X, y, raw_predictions, sample_weight, sample_mask, random_state, X_csc, X_csr)\u001b[0m\n\u001b[1;32m    242\u001b[0m     sample_weight \u001b[39m=\u001b[39m sample_weight \u001b[39m*\u001b[39m sample_mask\u001b[39m.\u001b[39mastype(np\u001b[39m.\u001b[39mfloat64)\n\u001b[1;32m    244\u001b[0m X \u001b[39m=\u001b[39m X_csr \u001b[39mif\u001b[39;00m X_csr \u001b[39mis\u001b[39;00m \u001b[39mnot\u001b[39;00m \u001b[39mNone\u001b[39;00m \u001b[39melse\u001b[39;00m X\n\u001b[0;32m--> 245\u001b[0m tree\u001b[39m.\u001b[39;49mfit(X, residual, sample_weight\u001b[39m=\u001b[39;49msample_weight, check_input\u001b[39m=\u001b[39;49m\u001b[39mFalse\u001b[39;49;00m)\n\u001b[1;32m    247\u001b[0m \u001b[39m# update tree leaves\u001b[39;00m\n\u001b[1;32m    248\u001b[0m loss\u001b[39m.\u001b[39mupdate_terminal_regions(\n\u001b[1;32m    249\u001b[0m     tree\u001b[39m.\u001b[39mtree_,\n\u001b[1;32m    250\u001b[0m     X,\n\u001b[0;32m   (...)\u001b[0m\n\u001b[1;32m    257\u001b[0m     k\u001b[39m=\u001b[39mk,\n\u001b[1;32m    258\u001b[0m )\n",
      "File \u001b[0;32m~/miniforge3/envs/tf/lib/python3.9/site-packages/sklearn/base.py:1151\u001b[0m, in \u001b[0;36m_fit_context.<locals>.decorator.<locals>.wrapper\u001b[0;34m(estimator, *args, **kwargs)\u001b[0m\n\u001b[1;32m   1144\u001b[0m     estimator\u001b[39m.\u001b[39m_validate_params()\n\u001b[1;32m   1146\u001b[0m \u001b[39mwith\u001b[39;00m config_context(\n\u001b[1;32m   1147\u001b[0m     skip_parameter_validation\u001b[39m=\u001b[39m(\n\u001b[1;32m   1148\u001b[0m         prefer_skip_nested_validation \u001b[39mor\u001b[39;00m global_skip_validation\n\u001b[1;32m   1149\u001b[0m     )\n\u001b[1;32m   1150\u001b[0m ):\n\u001b[0;32m-> 1151\u001b[0m     \u001b[39mreturn\u001b[39;00m fit_method(estimator, \u001b[39m*\u001b[39;49margs, \u001b[39m*\u001b[39;49m\u001b[39m*\u001b[39;49mkwargs)\n",
      "File \u001b[0;32m~/miniforge3/envs/tf/lib/python3.9/site-packages/sklearn/tree/_classes.py:1320\u001b[0m, in \u001b[0;36mDecisionTreeRegressor.fit\u001b[0;34m(self, X, y, sample_weight, check_input)\u001b[0m\n\u001b[1;32m   1290\u001b[0m \u001b[39m@_fit_context\u001b[39m(prefer_skip_nested_validation\u001b[39m=\u001b[39m\u001b[39mTrue\u001b[39;00m)\n\u001b[1;32m   1291\u001b[0m \u001b[39mdef\u001b[39;00m \u001b[39mfit\u001b[39m(\u001b[39mself\u001b[39m, X, y, sample_weight\u001b[39m=\u001b[39m\u001b[39mNone\u001b[39;00m, check_input\u001b[39m=\u001b[39m\u001b[39mTrue\u001b[39;00m):\n\u001b[1;32m   1292\u001b[0m \u001b[39m    \u001b[39m\u001b[39m\"\"\"Build a decision tree regressor from the training set (X, y).\u001b[39;00m\n\u001b[1;32m   1293\u001b[0m \n\u001b[1;32m   1294\u001b[0m \u001b[39m    Parameters\u001b[39;00m\n\u001b[0;32m   (...)\u001b[0m\n\u001b[1;32m   1317\u001b[0m \u001b[39m        Fitted estimator.\u001b[39;00m\n\u001b[1;32m   1318\u001b[0m \u001b[39m    \"\"\"\u001b[39;00m\n\u001b[0;32m-> 1320\u001b[0m     \u001b[39msuper\u001b[39;49m()\u001b[39m.\u001b[39;49m_fit(\n\u001b[1;32m   1321\u001b[0m         X,\n\u001b[1;32m   1322\u001b[0m         y,\n\u001b[1;32m   1323\u001b[0m         sample_weight\u001b[39m=\u001b[39;49msample_weight,\n\u001b[1;32m   1324\u001b[0m         check_input\u001b[39m=\u001b[39;49mcheck_input,\n\u001b[1;32m   1325\u001b[0m     )\n\u001b[1;32m   1326\u001b[0m     \u001b[39mreturn\u001b[39;00m \u001b[39mself\u001b[39m\n",
      "File \u001b[0;32m~/miniforge3/envs/tf/lib/python3.9/site-packages/sklearn/tree/_classes.py:443\u001b[0m, in \u001b[0;36mBaseDecisionTree._fit\u001b[0;34m(self, X, y, sample_weight, check_input, missing_values_in_feature_mask)\u001b[0m\n\u001b[1;32m    432\u001b[0m \u001b[39melse\u001b[39;00m:\n\u001b[1;32m    433\u001b[0m     builder \u001b[39m=\u001b[39m BestFirstTreeBuilder(\n\u001b[1;32m    434\u001b[0m         splitter,\n\u001b[1;32m    435\u001b[0m         min_samples_split,\n\u001b[0;32m   (...)\u001b[0m\n\u001b[1;32m    440\u001b[0m         \u001b[39mself\u001b[39m\u001b[39m.\u001b[39mmin_impurity_decrease,\n\u001b[1;32m    441\u001b[0m     )\n\u001b[0;32m--> 443\u001b[0m builder\u001b[39m.\u001b[39;49mbuild(\u001b[39mself\u001b[39;49m\u001b[39m.\u001b[39;49mtree_, X, y, sample_weight, missing_values_in_feature_mask)\n\u001b[1;32m    445\u001b[0m \u001b[39mif\u001b[39;00m \u001b[39mself\u001b[39m\u001b[39m.\u001b[39mn_outputs_ \u001b[39m==\u001b[39m \u001b[39m1\u001b[39m \u001b[39mand\u001b[39;00m is_classifier(\u001b[39mself\u001b[39m):\n\u001b[1;32m    446\u001b[0m     \u001b[39mself\u001b[39m\u001b[39m.\u001b[39mn_classes_ \u001b[39m=\u001b[39m \u001b[39mself\u001b[39m\u001b[39m.\u001b[39mn_classes_[\u001b[39m0\u001b[39m]\n",
      "\u001b[0;31mKeyboardInterrupt\u001b[0m: "
     ]
    }
   ],
   "source": [
    "all_combos = []\n",
    "\n",
    "for n_estimators in [5, 10, 15, 20, 25, 50, 100, 200, 300]:\n",
    "    for min_samples_leaf in [5, 10, 15, 20, 25, 50]:\n",
    "        for max_depth in [3, 4, 5, 6, 7, 8, 9, 10, 15, 20]:\n",
    "            for min_samples_split in [2, 3, 4, 5, 10, 15]:\n",
    "                for learning_rate in [0.01, 0.1, 0.2]:\n",
    "                    for loss in ['squared_error', 'absolute_error', 'huber', 'quantile']:\n",
    "                        all_combos.append((n_estimators, min_samples_leaf, max_depth, min_samples_split, learning_rate, loss))\n",
    "\n",
    "percentage_to_try = 0.0025\n",
    "n_runs = int(percentage_to_try * len(all_combos))\n",
    "combos_to_try = random.sample(all_combos, n_runs)\n",
    "print(f'Num runs: {n_runs}')\n",
    "\n",
    "best_test_mse, cost_gb_model = np.inf, None\n",
    "\n",
    "for n_estimators, min_samples_leaf, max_depth, min_samples_split, learning_rate, loss in combos_to_try:\n",
    "    curr_model = GradientBoostingRegressor(n_estimators=n_estimators, min_samples_leaf=min_samples_leaf, max_depth=max_depth, min_samples_split=min_samples_split, learning_rate=learning_rate, loss=loss)\n",
    "    curr_model.fit(cost_x_train, cost_y_train)\n",
    "\n",
    "    cost_y_train_pred = curr_model.predict(cost_x_train)\n",
    "    cost_y_test_pred = curr_model.predict(cost_x_test)\n",
    "\n",
    "    train_mse = mean_squared_error(cost_y_train, cost_y_train_pred)\n",
    "    test_mse = mean_squared_error(cost_y_test, cost_y_test_pred)\n",
    "\n",
    "    if test_mse < best_test_mse:\n",
    "        best_test_mse, cost_gb_model = test_mse, curr_model\n",
    "        print(f'Best results so far: train = {train_mse}, test = {test_mse}')\n",
    "\n",
    "        # Early stopping\n",
    "        if best_test_mse == 0.0:\n",
    "            break\n",
    "\n",
    "    n_runs -= 1\n",
    "    print(f'Remaining runs: {n_runs}')\n",
    "\n",
    "print(best_test_mse)\n",
    "print(cost_gb_model.get_params())"
   ]
  },
  {
   "cell_type": "code",
   "execution_count": 234,
   "metadata": {},
   "outputs": [
    {
     "name": "stdout",
     "output_type": "stream",
     "text": [
      "5870.798021028221\n",
      "0.5\n",
      "57895.58456 57860.79501276612\n",
      "0.0 -1468.5819008075314\n",
      "0.0 -1.9167687408209941\n",
      "163.04808373789712 164.6966241572499\n"
     ]
    },
    {
     "data": {
      "image/png": "[encoded data removed]",
      "text/plain": [
       "<Figure size 640x480 with 1 Axes>"
      ]
     },
     "metadata": {},
     "output_type": "display_data"
    }
   ],
   "source": [
    "original_cost_gb_pred = cost_gb_model.predict(original_cost_x)\n",
    "\n",
    "print(mean_squared_error(original_cost_y, original_cost_gb_pred))\n",
    "print(calculate_normalized_gini_regression(original_cost_y, original_cost_gb_pred))\n",
    "print(original_cost_y.max(), original_cost_gb_pred.max())\n",
    "print(original_cost_y.min(), original_cost_gb_pred.min())\n",
    "print(np.median(original_cost_y), np.median(original_cost_gb_pred))\n",
    "print(original_cost_y.mean(), original_cost_gb_pred.mean())\n",
    "\n",
    "plt.hist(original_cost_y, bins=50)\n",
    "plt.hist(original_cost_gb_pred, bins=50)\n",
    "plt.show()"
   ]
  },
  {
   "cell_type": "code",
   "execution_count": 235,
   "metadata": {},
   "outputs": [],
   "source": [
    "cost_model = cost_gb_model"
   ]
  },
  {
   "cell_type": "markdown",
   "metadata": {},
   "source": [
    "##### Validation predictions"
   ]
  },
  {
   "cell_type": "code",
   "execution_count": 249,
   "metadata": {},
   "outputs": [
    {
     "data": {
      "text/html": [
       "<div>\n",
       "<style scoped>\n",
       "    .dataframe tbody tr th:only-of-type {\n",
       "        vertical-align: middle;\n",
       "    }\n",
       "\n",
       "    .dataframe tbody tr th {\n",
       "        vertical-align: top;\n",
       "    }\n",
       "\n",
       "    .dataframe thead th {\n",
       "        text-align: right;\n",
       "    }\n",
       "</style>\n",
       "<table border=\"1\" class=\"dataframe\">\n",
       "  <thead>\n",
       "    <tr style=\"text-align: right;\">\n",
       "      <th></th>\n",
       "      <th>veh_value</th>\n",
       "      <th>exposure</th>\n",
       "      <th>veh_body</th>\n",
       "      <th>veh_age</th>\n",
       "      <th>gender</th>\n",
       "      <th>area</th>\n",
       "      <th>agecat</th>\n",
       "      <th>engine_type</th>\n",
       "      <th>max_power</th>\n",
       "      <th>driving_history_score</th>\n",
       "      <th>veh_color</th>\n",
       "      <th>marital_status</th>\n",
       "      <th>e_bill</th>\n",
       "      <th>time_of_week_driven</th>\n",
       "      <th>time_driven</th>\n",
       "      <th>trm_len</th>\n",
       "      <th>credit_score</th>\n",
       "      <th>high_education_ind</th>\n",
       "    </tr>\n",
       "  </thead>\n",
       "  <tbody>\n",
       "    <tr>\n",
       "      <th>0</th>\n",
       "      <td>3.40</td>\n",
       "      <td>0.076279</td>\n",
       "      <td>STNWG</td>\n",
       "      <td>2</td>\n",
       "      <td>M</td>\n",
       "      <td>B</td>\n",
       "      <td>4</td>\n",
       "      <td>petrol</td>\n",
       "      <td>174</td>\n",
       "      <td>83</td>\n",
       "      <td>black</td>\n",
       "      <td>S</td>\n",
       "      <td>1</td>\n",
       "      <td>weekday</td>\n",
       "      <td>6pm - 12am</td>\n",
       "      <td>6</td>\n",
       "      <td>648.247594</td>\n",
       "      <td>0</td>\n",
       "    </tr>\n",
       "    <tr>\n",
       "      <th>1</th>\n",
       "      <td>2.55</td>\n",
       "      <td>0.093443</td>\n",
       "      <td>STNWG</td>\n",
       "      <td>2</td>\n",
       "      <td>F</td>\n",
       "      <td>A</td>\n",
       "      <td>3</td>\n",
       "      <td>petrol</td>\n",
       "      <td>181</td>\n",
       "      <td>65</td>\n",
       "      <td>yellow</td>\n",
       "      <td>M</td>\n",
       "      <td>0</td>\n",
       "      <td>weekday</td>\n",
       "      <td>12am - 6 am</td>\n",
       "      <td>12</td>\n",
       "      <td>637.752677</td>\n",
       "      <td>0</td>\n",
       "    </tr>\n",
       "    <tr>\n",
       "      <th>2</th>\n",
       "      <td>3.04</td>\n",
       "      <td>0.157762</td>\n",
       "      <td>STNWG</td>\n",
       "      <td>2</td>\n",
       "      <td>F</td>\n",
       "      <td>E</td>\n",
       "      <td>4</td>\n",
       "      <td>petrol</td>\n",
       "      <td>136</td>\n",
       "      <td>64</td>\n",
       "      <td>white</td>\n",
       "      <td>S</td>\n",
       "      <td>1</td>\n",
       "      <td>weekday</td>\n",
       "      <td>12pm - 6pm</td>\n",
       "      <td>12</td>\n",
       "      <td>661.483786</td>\n",
       "      <td>0</td>\n",
       "    </tr>\n",
       "    <tr>\n",
       "      <th>3</th>\n",
       "      <td>2.05</td>\n",
       "      <td>0.560735</td>\n",
       "      <td>MIBUS</td>\n",
       "      <td>4</td>\n",
       "      <td>M</td>\n",
       "      <td>C</td>\n",
       "      <td>6</td>\n",
       "      <td>dissel</td>\n",
       "      <td>164</td>\n",
       "      <td>82</td>\n",
       "      <td>gray</td>\n",
       "      <td>M</td>\n",
       "      <td>1</td>\n",
       "      <td>weekday</td>\n",
       "      <td>6am - 12pm</td>\n",
       "      <td>12</td>\n",
       "      <td>647.846365</td>\n",
       "      <td>0</td>\n",
       "    </tr>\n",
       "    <tr>\n",
       "      <th>4</th>\n",
       "      <td>1.93</td>\n",
       "      <td>0.258275</td>\n",
       "      <td>HBACK</td>\n",
       "      <td>2</td>\n",
       "      <td>M</td>\n",
       "      <td>C</td>\n",
       "      <td>4</td>\n",
       "      <td>dissel</td>\n",
       "      <td>89</td>\n",
       "      <td>48</td>\n",
       "      <td>black</td>\n",
       "      <td>S</td>\n",
       "      <td>0</td>\n",
       "      <td>weekday</td>\n",
       "      <td>6am - 12pm</td>\n",
       "      <td>12</td>\n",
       "      <td>640.257550</td>\n",
       "      <td>0</td>\n",
       "    </tr>\n",
       "  </tbody>\n",
       "</table>\n",
       "</div>"
      ],
      "text/plain": [
       "   veh_value  exposure veh_body  veh_age gender area  agecat engine_type  \\\n",
       "0       3.40  0.076279    STNWG        2      M    B       4      petrol   \n",
       "1       2.55  0.093443    STNWG        2      F    A       3      petrol   \n",
       "2       3.04  0.157762    STNWG        2      F    E       4      petrol   \n",
       "3       2.05  0.560735    MIBUS        4      M    C       6      dissel   \n",
       "4       1.93  0.258275    HBACK        2      M    C       4      dissel   \n",
       "\n",
       "   max_power  driving_history_score veh_color marital_status  e_bill  \\\n",
       "0        174                     83     black              S       1   \n",
       "1        181                     65    yellow              M       0   \n",
       "2        136                     64     white              S       1   \n",
       "3        164                     82      gray              M       1   \n",
       "4         89                     48     black              S       0   \n",
       "\n",
       "  time_of_week_driven  time_driven  trm_len  credit_score  high_education_ind  \n",
       "0             weekday   6pm - 12am        6    648.247594                   0  \n",
       "1             weekday  12am - 6 am       12    637.752677                   0  \n",
       "2             weekday   12pm - 6pm       12    661.483786                   0  \n",
       "3             weekday   6am - 12pm       12    647.846365                   0  \n",
       "4             weekday   6am - 12pm       12    640.257550                   0  "
      ]
     },
     "execution_count": 249,
     "metadata": {},
     "output_type": "execute_result"
    }
   ],
   "source": [
    "val_df = pd.read_csv('./data/InsNova_data_2023_vh.csv')\n",
    "ids = val_df['id']\n",
    "val_df.drop(['id'], axis=1, inplace=True)\n",
    "val_df.reset_index(drop=True, inplace=True)\n",
    "\n",
    "val_df.head()"
   ]
  },
  {
   "cell_type": "code",
   "execution_count": 250,
   "metadata": {},
   "outputs": [],
   "source": [
    "val_df_dummies = pd.get_dummies(val_df, columns=['veh_body', 'veh_age', 'gender', 'area', 'agecat', 'engine_type', 'veh_color', 'marital_status', 'e_bill', 'time_of_week_driven', 'time_driven', 'trm_len', 'high_education_ind'])\n",
    "val_df_dummies = val_df_dummies.rename(columns={'high_education_ind_0': 'high_education_ind_0.0', 'high_education_ind_1': 'high_education_ind_1.0'})"
   ]
  },
  {
   "cell_type": "code",
   "execution_count": 251,
   "metadata": {},
   "outputs": [
    {
     "data": {
      "text/plain": [
       "0    22520\n",
       "1      100\n",
       "Name: clm, dtype: int64"
      ]
     },
     "execution_count": 251,
     "metadata": {},
     "output_type": "execute_result"
    }
   ],
   "source": [
    "val_df_dummies['clm'] = clm_model.predict(val_df_dummies)\n",
    "val_df_dummies['clm'].value_counts()"
   ]
  },
  {
   "cell_type": "code",
   "execution_count": 252,
   "metadata": {},
   "outputs": [
    {
     "data": {
      "text/plain": [
       "0    22425\n",
       "1      171\n",
       "2       24\n",
       "Name: numclaims, dtype: int64"
      ]
     },
     "execution_count": 252,
     "metadata": {},
     "output_type": "execute_result"
    }
   ],
   "source": [
    "val_df_dummies['numclaims'] = num_claims_model.predict(val_df_dummies)\n",
    "val_df_dummies['numclaims'].value_counts()"
   ]
  },
  {
   "cell_type": "code",
   "execution_count": 254,
   "metadata": {},
   "outputs": [
    {
     "name": "stdout",
     "output_type": "stream",
     "text": [
      "-2232.4757033791993\n",
      "7595.848269865623\n",
      "-5.971073015983707\n",
      "17.555896192297272\n"
     ]
    },
    {
     "data": {
      "image/png": "[encoded data removed]",
      "text/plain": [
       "<Figure size 640x480 with 1 Axes>"
      ]
     },
     "metadata": {},
     "output_type": "display_data"
    }
   ],
   "source": [
    "predicted_costs = cost_model.predict(val_df_dummies)\n",
    "\n",
    "print(predicted_costs.min())\n",
    "print(predicted_costs.max())\n",
    "print(np.median(predicted_costs))\n",
    "print(predicted_costs.mean())\n",
    "\n",
    "plt.hist(predicted_costs, bins=50)\n",
    "plt.show()"
   ]
  },
  {
   "cell_type": "code",
   "execution_count": 258,
   "metadata": {},
   "outputs": [
    {
     "data": {
      "text/html": [
       "<div>\n",
       "<style scoped>\n",
       "    .dataframe tbody tr th:only-of-type {\n",
       "        vertical-align: middle;\n",
       "    }\n",
       "\n",
       "    .dataframe tbody tr th {\n",
       "        vertical-align: top;\n",
       "    }\n",
       "\n",
       "    .dataframe thead th {\n",
       "        text-align: right;\n",
       "    }\n",
       "</style>\n",
       "<table border=\"1\" class=\"dataframe\">\n",
       "  <thead>\n",
       "    <tr style=\"text-align: right;\">\n",
       "      <th></th>\n",
       "      <th>id</th>\n",
       "      <th>Predict</th>\n",
       "    </tr>\n",
       "  </thead>\n",
       "  <tbody>\n",
       "    <tr>\n",
       "      <th>0</th>\n",
       "      <td>1</td>\n",
       "      <td>-8.006779</td>\n",
       "    </tr>\n",
       "    <tr>\n",
       "      <th>1</th>\n",
       "      <td>2</td>\n",
       "      <td>48.543575</td>\n",
       "    </tr>\n",
       "    <tr>\n",
       "      <th>2</th>\n",
       "      <td>3</td>\n",
       "      <td>-18.078890</td>\n",
       "    </tr>\n",
       "    <tr>\n",
       "      <th>3</th>\n",
       "      <td>4</td>\n",
       "      <td>1.613493</td>\n",
       "    </tr>\n",
       "    <tr>\n",
       "      <th>4</th>\n",
       "      <td>5</td>\n",
       "      <td>12.377424</td>\n",
       "    </tr>\n",
       "  </tbody>\n",
       "</table>\n",
       "</div>"
      ],
      "text/plain": [
       "   id    Predict\n",
       "0   1  -8.006779\n",
       "1   2  48.543575\n",
       "2   3 -18.078890\n",
       "3   4   1.613493\n",
       "4   5  12.377424"
      ]
     },
     "execution_count": 258,
     "metadata": {},
     "output_type": "execute_result"
    }
   ],
   "source": [
    "submission_df = pd.DataFrame({'id': ids, 'Predict': predicted_costs})\n",
    "submission_df.head()"
   ]
  },
  {
   "cell_type": "code",
   "execution_count": 259,
   "metadata": {},
   "outputs": [],
   "source": [
    "submission_df.to_csv('./data/submission.csv', index=False)"
   ]
  },
  {
   "cell_type": "code",
   "execution_count": null,
   "metadata": {},
   "outputs": [],
   "source": []
  }
 ],
 "metadata": {
  "kernelspec": {
   "display_name": "tf",
   "language": "python",
   "name": "python3"
  },
  "language_info": {
   "codemirror_mode": {
    "name": "ipython",
    "version": 3
   },
   "file_extension": ".py",
   "mimetype": "text/x-python",
   "name": "python",
   "nbconvert_exporter": "python",
   "pygments_lexer": "ipython3",
   "version": "3.9.18"
  }
 },
 "nbformat": 4,
 "nbformat_minor": 2
}
