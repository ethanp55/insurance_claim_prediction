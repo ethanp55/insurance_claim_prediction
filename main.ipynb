{
 "cells": [
  {
   "cell_type": "code",
   "execution_count": 1,
   "metadata": {},
   "outputs": [],
   "source": [
    "import matplotlib.pyplot as plt\n",
    "import numpy as np\n",
    "import pandas as pd"
   ]
  },
  {
   "cell_type": "code",
   "execution_count": 2,
   "metadata": {},
   "outputs": [
    {
     "data": {
      "text/html": [
       "<div>\n",
       "<style scoped>\n",
       "    .dataframe tbody tr th:only-of-type {\n",
       "        vertical-align: middle;\n",
       "    }\n",
       "\n",
       "    .dataframe tbody tr th {\n",
       "        vertical-align: top;\n",
       "    }\n",
       "\n",
       "    .dataframe thead th {\n",
       "        text-align: right;\n",
       "    }\n",
       "</style>\n",
       "<table border=\"1\" class=\"dataframe\">\n",
       "  <thead>\n",
       "    <tr style=\"text-align: right;\">\n",
       "      <th></th>\n",
       "      <th>id</th>\n",
       "      <th>veh_value</th>\n",
       "      <th>exposure</th>\n",
       "      <th>veh_body</th>\n",
       "      <th>veh_age</th>\n",
       "      <th>gender</th>\n",
       "      <th>area</th>\n",
       "      <th>agecat</th>\n",
       "      <th>engine_type</th>\n",
       "      <th>max_power</th>\n",
       "      <th>...</th>\n",
       "      <th>marital_status</th>\n",
       "      <th>e_bill</th>\n",
       "      <th>time_of_week_driven</th>\n",
       "      <th>time_driven</th>\n",
       "      <th>trm_len</th>\n",
       "      <th>credit_score</th>\n",
       "      <th>high_education_ind</th>\n",
       "      <th>clm</th>\n",
       "      <th>numclaims</th>\n",
       "      <th>claimcst0</th>\n",
       "    </tr>\n",
       "  </thead>\n",
       "  <tbody>\n",
       "    <tr>\n",
       "      <th>0</th>\n",
       "      <td>1</td>\n",
       "      <td>0.77</td>\n",
       "      <td>0.444504</td>\n",
       "      <td>SEDAN</td>\n",
       "      <td>4</td>\n",
       "      <td>M</td>\n",
       "      <td>D</td>\n",
       "      <td>3</td>\n",
       "      <td>petrol</td>\n",
       "      <td>147</td>\n",
       "      <td>...</td>\n",
       "      <td>S</td>\n",
       "      <td>1</td>\n",
       "      <td>weekday</td>\n",
       "      <td>6pm - 12am</td>\n",
       "      <td>6</td>\n",
       "      <td>640.448137</td>\n",
       "      <td>1.0</td>\n",
       "      <td>0</td>\n",
       "      <td>0</td>\n",
       "      <td>0.0</td>\n",
       "    </tr>\n",
       "    <tr>\n",
       "      <th>1</th>\n",
       "      <td>2</td>\n",
       "      <td>4.45</td>\n",
       "      <td>0.562183</td>\n",
       "      <td>STNWG</td>\n",
       "      <td>1</td>\n",
       "      <td>M</td>\n",
       "      <td>A</td>\n",
       "      <td>3</td>\n",
       "      <td>petrol</td>\n",
       "      <td>158</td>\n",
       "      <td>...</td>\n",
       "      <td>S</td>\n",
       "      <td>1</td>\n",
       "      <td>weekday</td>\n",
       "      <td>6am - 12pm</td>\n",
       "      <td>12</td>\n",
       "      <td>683.749691</td>\n",
       "      <td>0.0</td>\n",
       "      <td>0</td>\n",
       "      <td>0</td>\n",
       "      <td>0.0</td>\n",
       "    </tr>\n",
       "    <tr>\n",
       "      <th>2</th>\n",
       "      <td>3</td>\n",
       "      <td>4.90</td>\n",
       "      <td>0.465244</td>\n",
       "      <td>STNWG</td>\n",
       "      <td>1</td>\n",
       "      <td>F</td>\n",
       "      <td>A</td>\n",
       "      <td>3</td>\n",
       "      <td>petrol</td>\n",
       "      <td>159</td>\n",
       "      <td>...</td>\n",
       "      <td>M</td>\n",
       "      <td>1</td>\n",
       "      <td>weekday</td>\n",
       "      <td>6pm - 12am</td>\n",
       "      <td>6</td>\n",
       "      <td>653.656117</td>\n",
       "      <td>1.0</td>\n",
       "      <td>0</td>\n",
       "      <td>0</td>\n",
       "      <td>0.0</td>\n",
       "    </tr>\n",
       "    <tr>\n",
       "      <th>3</th>\n",
       "      <td>4</td>\n",
       "      <td>0.48</td>\n",
       "      <td>0.271039</td>\n",
       "      <td>PANVN</td>\n",
       "      <td>4</td>\n",
       "      <td>M</td>\n",
       "      <td>A</td>\n",
       "      <td>4</td>\n",
       "      <td>petrol</td>\n",
       "      <td>80</td>\n",
       "      <td>...</td>\n",
       "      <td>S</td>\n",
       "      <td>1</td>\n",
       "      <td>weekday</td>\n",
       "      <td>12pm - 6pm</td>\n",
       "      <td>12</td>\n",
       "      <td>642.574671</td>\n",
       "      <td>0.0</td>\n",
       "      <td>0</td>\n",
       "      <td>0</td>\n",
       "      <td>0.0</td>\n",
       "    </tr>\n",
       "    <tr>\n",
       "      <th>4</th>\n",
       "      <td>5</td>\n",
       "      <td>0.85</td>\n",
       "      <td>0.141624</td>\n",
       "      <td>SEDAN</td>\n",
       "      <td>4</td>\n",
       "      <td>F</td>\n",
       "      <td>A</td>\n",
       "      <td>5</td>\n",
       "      <td>petrol</td>\n",
       "      <td>126</td>\n",
       "      <td>...</td>\n",
       "      <td>S</td>\n",
       "      <td>0</td>\n",
       "      <td>weekday</td>\n",
       "      <td>6am - 12pm</td>\n",
       "      <td>6</td>\n",
       "      <td>647.175035</td>\n",
       "      <td>0.0</td>\n",
       "      <td>0</td>\n",
       "      <td>0</td>\n",
       "      <td>0.0</td>\n",
       "    </tr>\n",
       "  </tbody>\n",
       "</table>\n",
       "<p>5 rows × 22 columns</p>\n",
       "</div>"
      ],
      "text/plain": [
       "   id  veh_value  exposure veh_body  veh_age gender area  agecat engine_type  \\\n",
       "0   1       0.77  0.444504    SEDAN        4      M    D       3      petrol   \n",
       "1   2       4.45  0.562183    STNWG        1      M    A       3      petrol   \n",
       "2   3       4.90  0.465244    STNWG        1      F    A       3      petrol   \n",
       "3   4       0.48  0.271039    PANVN        4      M    A       4      petrol   \n",
       "4   5       0.85  0.141624    SEDAN        4      F    A       5      petrol   \n",
       "\n",
       "   max_power  ...  marital_status e_bill time_of_week_driven  time_driven  \\\n",
       "0        147  ...               S      1             weekday   6pm - 12am   \n",
       "1        158  ...               S      1             weekday   6am - 12pm   \n",
       "2        159  ...               M      1             weekday   6pm - 12am   \n",
       "3         80  ...               S      1             weekday   12pm - 6pm   \n",
       "4        126  ...               S      0             weekday   6am - 12pm   \n",
       "\n",
       "  trm_len credit_score  high_education_ind  clm  numclaims  claimcst0  \n",
       "0       6   640.448137                 1.0    0          0        0.0  \n",
       "1      12   683.749691                 0.0    0          0        0.0  \n",
       "2       6   653.656117                 1.0    0          0        0.0  \n",
       "3      12   642.574671                 0.0    0          0        0.0  \n",
       "4       6   647.175035                 0.0    0          0        0.0  \n",
       "\n",
       "[5 rows x 22 columns]"
      ]
     },
     "execution_count": 2,
     "metadata": {},
     "output_type": "execute_result"
    }
   ],
   "source": [
    "df = pd.read_csv('./data/InsNova_data_2023_train.csv')\n",
    "df.head()"
   ]
  },
  {
   "cell_type": "code",
   "execution_count": 3,
   "metadata": {},
   "outputs": [
    {
     "data": {
      "text/plain": [
       "(22619, 22)"
      ]
     },
     "execution_count": 3,
     "metadata": {},
     "output_type": "execute_result"
    }
   ],
   "source": [
    "df.shape"
   ]
  },
  {
   "cell_type": "code",
   "execution_count": 4,
   "metadata": {},
   "outputs": [
    {
     "data": {
      "text/plain": [
       "id                       0\n",
       "veh_value                0\n",
       "exposure                 0\n",
       "veh_body                 0\n",
       "veh_age                  0\n",
       "gender                   0\n",
       "area                     0\n",
       "agecat                   0\n",
       "engine_type              0\n",
       "max_power                0\n",
       "driving_history_score    0\n",
       "veh_color                0\n",
       "marital_status           0\n",
       "e_bill                   0\n",
       "time_of_week_driven      0\n",
       "time_driven              0\n",
       "trm_len                  0\n",
       "credit_score             0\n",
       "high_education_ind       0\n",
       "clm                      0\n",
       "numclaims                0\n",
       "claimcst0                0\n",
       "dtype: int64"
      ]
     },
     "execution_count": 4,
     "metadata": {},
     "output_type": "execute_result"
    }
   ],
   "source": [
    "df.isnull().sum()"
   ]
  },
  {
   "cell_type": "code",
   "execution_count": 5,
   "metadata": {},
   "outputs": [
    {
     "data": {
      "text/plain": [
       "Index(['id', 'veh_value', 'exposure', 'veh_body', 'veh_age', 'gender', 'area',\n",
       "       'agecat', 'engine_type', 'max_power', 'driving_history_score',\n",
       "       'veh_color', 'marital_status', 'e_bill', 'time_of_week_driven',\n",
       "       'time_driven', 'trm_len', 'credit_score', 'high_education_ind', 'clm',\n",
       "       'numclaims', 'claimcst0'],\n",
       "      dtype='object')"
      ]
     },
     "execution_count": 5,
     "metadata": {},
     "output_type": "execute_result"
    }
   ],
   "source": [
    "df.columns"
   ]
  },
  {
   "cell_type": "code",
   "execution_count": 6,
   "metadata": {},
   "outputs": [
    {
     "data": {
      "text/html": [
       "<div>\n",
       "<style scoped>\n",
       "    .dataframe tbody tr th:only-of-type {\n",
       "        vertical-align: middle;\n",
       "    }\n",
       "\n",
       "    .dataframe tbody tr th {\n",
       "        vertical-align: top;\n",
       "    }\n",
       "\n",
       "    .dataframe thead th {\n",
       "        text-align: right;\n",
       "    }\n",
       "</style>\n",
       "<table border=\"1\" class=\"dataframe\">\n",
       "  <thead>\n",
       "    <tr style=\"text-align: right;\">\n",
       "      <th></th>\n",
       "      <th>veh_value</th>\n",
       "      <th>exposure</th>\n",
       "      <th>veh_body</th>\n",
       "      <th>veh_age</th>\n",
       "      <th>gender</th>\n",
       "      <th>area</th>\n",
       "      <th>agecat</th>\n",
       "      <th>engine_type</th>\n",
       "      <th>max_power</th>\n",
       "      <th>driving_history_score</th>\n",
       "      <th>...</th>\n",
       "      <th>marital_status</th>\n",
       "      <th>e_bill</th>\n",
       "      <th>time_of_week_driven</th>\n",
       "      <th>time_driven</th>\n",
       "      <th>trm_len</th>\n",
       "      <th>credit_score</th>\n",
       "      <th>high_education_ind</th>\n",
       "      <th>clm</th>\n",
       "      <th>numclaims</th>\n",
       "      <th>claimcst0</th>\n",
       "    </tr>\n",
       "  </thead>\n",
       "  <tbody>\n",
       "    <tr>\n",
       "      <th>0</th>\n",
       "      <td>0.77</td>\n",
       "      <td>0.444504</td>\n",
       "      <td>SEDAN</td>\n",
       "      <td>4</td>\n",
       "      <td>M</td>\n",
       "      <td>D</td>\n",
       "      <td>3</td>\n",
       "      <td>petrol</td>\n",
       "      <td>147</td>\n",
       "      <td>67.0</td>\n",
       "      <td>...</td>\n",
       "      <td>S</td>\n",
       "      <td>1</td>\n",
       "      <td>weekday</td>\n",
       "      <td>6pm - 12am</td>\n",
       "      <td>6</td>\n",
       "      <td>640.448137</td>\n",
       "      <td>1.0</td>\n",
       "      <td>0</td>\n",
       "      <td>0</td>\n",
       "      <td>0.0</td>\n",
       "    </tr>\n",
       "    <tr>\n",
       "      <th>1</th>\n",
       "      <td>4.45</td>\n",
       "      <td>0.562183</td>\n",
       "      <td>STNWG</td>\n",
       "      <td>1</td>\n",
       "      <td>M</td>\n",
       "      <td>A</td>\n",
       "      <td>3</td>\n",
       "      <td>petrol</td>\n",
       "      <td>158</td>\n",
       "      <td>76.0</td>\n",
       "      <td>...</td>\n",
       "      <td>S</td>\n",
       "      <td>1</td>\n",
       "      <td>weekday</td>\n",
       "      <td>6am - 12pm</td>\n",
       "      <td>12</td>\n",
       "      <td>683.749691</td>\n",
       "      <td>0.0</td>\n",
       "      <td>0</td>\n",
       "      <td>0</td>\n",
       "      <td>0.0</td>\n",
       "    </tr>\n",
       "    <tr>\n",
       "      <th>2</th>\n",
       "      <td>4.90</td>\n",
       "      <td>0.465244</td>\n",
       "      <td>STNWG</td>\n",
       "      <td>1</td>\n",
       "      <td>F</td>\n",
       "      <td>A</td>\n",
       "      <td>3</td>\n",
       "      <td>petrol</td>\n",
       "      <td>159</td>\n",
       "      <td>58.0</td>\n",
       "      <td>...</td>\n",
       "      <td>M</td>\n",
       "      <td>1</td>\n",
       "      <td>weekday</td>\n",
       "      <td>6pm - 12am</td>\n",
       "      <td>6</td>\n",
       "      <td>653.656117</td>\n",
       "      <td>1.0</td>\n",
       "      <td>0</td>\n",
       "      <td>0</td>\n",
       "      <td>0.0</td>\n",
       "    </tr>\n",
       "    <tr>\n",
       "      <th>3</th>\n",
       "      <td>0.48</td>\n",
       "      <td>0.271039</td>\n",
       "      <td>PANVN</td>\n",
       "      <td>4</td>\n",
       "      <td>M</td>\n",
       "      <td>A</td>\n",
       "      <td>4</td>\n",
       "      <td>petrol</td>\n",
       "      <td>80</td>\n",
       "      <td>72.0</td>\n",
       "      <td>...</td>\n",
       "      <td>S</td>\n",
       "      <td>1</td>\n",
       "      <td>weekday</td>\n",
       "      <td>12pm - 6pm</td>\n",
       "      <td>12</td>\n",
       "      <td>642.574671</td>\n",
       "      <td>0.0</td>\n",
       "      <td>0</td>\n",
       "      <td>0</td>\n",
       "      <td>0.0</td>\n",
       "    </tr>\n",
       "    <tr>\n",
       "      <th>4</th>\n",
       "      <td>0.85</td>\n",
       "      <td>0.141624</td>\n",
       "      <td>SEDAN</td>\n",
       "      <td>4</td>\n",
       "      <td>F</td>\n",
       "      <td>A</td>\n",
       "      <td>5</td>\n",
       "      <td>petrol</td>\n",
       "      <td>126</td>\n",
       "      <td>91.0</td>\n",
       "      <td>...</td>\n",
       "      <td>S</td>\n",
       "      <td>0</td>\n",
       "      <td>weekday</td>\n",
       "      <td>6am - 12pm</td>\n",
       "      <td>6</td>\n",
       "      <td>647.175035</td>\n",
       "      <td>0.0</td>\n",
       "      <td>0</td>\n",
       "      <td>0</td>\n",
       "      <td>0.0</td>\n",
       "    </tr>\n",
       "  </tbody>\n",
       "</table>\n",
       "<p>5 rows × 21 columns</p>\n",
       "</div>"
      ],
      "text/plain": [
       "   veh_value  exposure veh_body  veh_age gender area  agecat engine_type  \\\n",
       "0       0.77  0.444504    SEDAN        4      M    D       3      petrol   \n",
       "1       4.45  0.562183    STNWG        1      M    A       3      petrol   \n",
       "2       4.90  0.465244    STNWG        1      F    A       3      petrol   \n",
       "3       0.48  0.271039    PANVN        4      M    A       4      petrol   \n",
       "4       0.85  0.141624    SEDAN        4      F    A       5      petrol   \n",
       "\n",
       "   max_power  driving_history_score  ... marital_status e_bill  \\\n",
       "0        147                   67.0  ...              S      1   \n",
       "1        158                   76.0  ...              S      1   \n",
       "2        159                   58.0  ...              M      1   \n",
       "3         80                   72.0  ...              S      1   \n",
       "4        126                   91.0  ...              S      0   \n",
       "\n",
       "   time_of_week_driven time_driven trm_len  credit_score  high_education_ind  \\\n",
       "0              weekday  6pm - 12am       6    640.448137                 1.0   \n",
       "1              weekday  6am - 12pm      12    683.749691                 0.0   \n",
       "2              weekday  6pm - 12am       6    653.656117                 1.0   \n",
       "3              weekday  12pm - 6pm      12    642.574671                 0.0   \n",
       "4              weekday  6am - 12pm       6    647.175035                 0.0   \n",
       "\n",
       "   clm  numclaims  claimcst0  \n",
       "0    0          0        0.0  \n",
       "1    0          0        0.0  \n",
       "2    0          0        0.0  \n",
       "3    0          0        0.0  \n",
       "4    0          0        0.0  \n",
       "\n",
       "[5 rows x 21 columns]"
      ]
     },
     "execution_count": 6,
     "metadata": {},
     "output_type": "execute_result"
    }
   ],
   "source": [
    "df.drop(['id'], axis=1, inplace=True)\n",
    "df.head()"
   ]
  },
  {
   "cell_type": "code",
   "execution_count": 7,
   "metadata": {},
   "outputs": [
    {
     "name": "stdout",
     "output_type": "stream",
     "text": [
      "<class 'pandas.core.frame.DataFrame'>\n",
      "RangeIndex: 22619 entries, 0 to 22618\n",
      "Data columns (total 21 columns):\n",
      " #   Column                 Non-Null Count  Dtype  \n",
      "---  ------                 --------------  -----  \n",
      " 0   veh_value              22619 non-null  float64\n",
      " 1   exposure               22619 non-null  float64\n",
      " 2   veh_body               22619 non-null  object \n",
      " 3   veh_age                22619 non-null  int64  \n",
      " 4   gender                 22619 non-null  object \n",
      " 5   area                   22619 non-null  object \n",
      " 6   agecat                 22619 non-null  int64  \n",
      " 7   engine_type            22619 non-null  object \n",
      " 8   max_power              22619 non-null  int64  \n",
      " 9   driving_history_score  22619 non-null  float64\n",
      " 10  veh_color              22619 non-null  object \n",
      " 11  marital_status         22619 non-null  object \n",
      " 12  e_bill                 22619 non-null  int64  \n",
      " 13  time_of_week_driven    22619 non-null  object \n",
      " 14  time_driven            22619 non-null  object \n",
      " 15  trm_len                22619 non-null  int64  \n",
      " 16  credit_score           22619 non-null  float64\n",
      " 17  high_education_ind     22619 non-null  float64\n",
      " 18  clm                    22619 non-null  int64  \n",
      " 19  numclaims              22619 non-null  int64  \n",
      " 20  claimcst0              22619 non-null  float64\n",
      "dtypes: float64(6), int64(7), object(8)\n",
      "memory usage: 3.6+ MB\n"
     ]
    }
   ],
   "source": [
    "df.info()"
   ]
  },
  {
   "cell_type": "code",
   "execution_count": 14,
   "metadata": {},
   "outputs": [
    {
     "data": {
      "text/plain": [
       "count    22619.000000\n",
       "mean         1.868948\n",
       "std          1.278588\n",
       "min          0.000000\n",
       "25%          1.070000\n",
       "50%          1.570000\n",
       "75%          2.260000\n",
       "max         24.510000\n",
       "Name: veh_value, dtype: float64"
      ]
     },
     "execution_count": 14,
     "metadata": {},
     "output_type": "execute_result"
    }
   ],
   "source": [
    "df['veh_value'].describe()"
   ]
  },
  {
   "cell_type": "code",
   "execution_count": 27,
   "metadata": {},
   "outputs": [
    {
     "data": {
      "image/png": "[encoded data removed]",
      "text/plain": [
       "<Figure size 640x480 with 1 Axes>"
      ]
     },
     "metadata": {},
     "output_type": "display_data"
    }
   ],
   "source": [
    "plt.hist(df['veh_value'], bins=50)\n",
    "plt.show()"
   ]
  },
  {
   "cell_type": "code",
   "execution_count": 20,
   "metadata": {},
   "outputs": [
    {
     "data": {
      "text/plain": [
       "count    22619.000000\n",
       "mean         0.433038\n",
       "std          0.272899\n",
       "min          0.001754\n",
       "25%          0.203696\n",
       "50%          0.384313\n",
       "75%          0.643316\n",
       "max          0.999378\n",
       "Name: exposure, dtype: float64"
      ]
     },
     "execution_count": 20,
     "metadata": {},
     "output_type": "execute_result"
    }
   ],
   "source": [
    "df['exposure'].describe()"
   ]
  },
  {
   "cell_type": "code",
   "execution_count": 28,
   "metadata": {},
   "outputs": [
    {
     "data": {
      "image/png": "[encoded data removed]",
      "text/plain": [
       "<Figure size 640x480 with 1 Axes>"
      ]
     },
     "metadata": {},
     "output_type": "display_data"
    }
   ],
   "source": [
    "plt.hist(df['exposure'], bins=50)\n",
    "plt.show()"
   ]
  },
  {
   "cell_type": "code",
   "execution_count": 29,
   "metadata": {},
   "outputs": [
    {
     "data": {
      "text/plain": [
       "SEDAN    7376\n",
       "HBACK    6305\n",
       "STNWG    5436\n",
       "UTE      1530\n",
       "TRUCK     586\n",
       "HDTOP     510\n",
       "COUPE     279\n",
       "MIBUS     253\n",
       "PANVN     248\n",
       "MCARA      40\n",
       "CONVT      28\n",
       "BUS        19\n",
       "RDSTR       9\n",
       "Name: veh_body, dtype: int64"
      ]
     },
     "execution_count": 29,
     "metadata": {},
     "output_type": "execute_result"
    }
   ],
   "source": [
    "df['veh_body'].value_counts()"
   ]
  },
  {
   "cell_type": "code",
   "execution_count": 11,
   "metadata": {},
   "outputs": [],
   "source": [
    "veh_bodies, counts = [], []\n",
    "value_counts = df['veh_body'].value_counts()\n",
    "\n",
    "for body in value_counts.keys():\n",
    "    veh_bodies.append(body)\n",
    "    counts.append(value_counts[body])"
   ]
  },
  {
   "cell_type": "code",
   "execution_count": 12,
   "metadata": {},
   "outputs": [
    {
     "data": {
      "image/png": "[encoded data removed]",
      "text/plain": [
       "<Figure size 640x480 with 1 Axes>"
      ]
     },
     "metadata": {},
     "output_type": "display_data"
    }
   ],
   "source": [
    "plt.bar(veh_bodies, counts)\n",
    "plt.show()"
   ]
  },
  {
   "cell_type": "code",
   "execution_count": 8,
   "metadata": {},
   "outputs": [
    {
     "data": {
      "text/plain": [
       "3    6694\n",
       "4    6285\n",
       "2    5474\n",
       "1    4166\n",
       "Name: veh_age, dtype: int64"
      ]
     },
     "execution_count": 8,
     "metadata": {},
     "output_type": "execute_result"
    }
   ],
   "source": [
    "df['veh_age'].value_counts()"
   ]
  },
  {
   "cell_type": "code",
   "execution_count": 15,
   "metadata": {},
   "outputs": [],
   "source": [
    "veh_ages, counts = [], []\n",
    "value_counts = df['veh_age'].value_counts()\n",
    "\n",
    "for body in value_counts.keys():\n",
    "    veh_ages.append(body)\n",
    "    counts.append(value_counts[body])"
   ]
  },
  {
   "cell_type": "code",
   "execution_count": 16,
   "metadata": {},
   "outputs": [
    {
     "data": {
      "image/png": "[encoded data removed]",
      "text/plain": [
       "<Figure size 640x480 with 1 Axes>"
      ]
     },
     "metadata": {},
     "output_type": "display_data"
    }
   ],
   "source": [
    "plt.bar(veh_ages, counts)\n",
    "plt.show()"
   ]
  },
  {
   "cell_type": "code",
   "execution_count": 17,
   "metadata": {},
   "outputs": [
    {
     "data": {
      "text/plain": [
       "F    12853\n",
       "M     9766\n",
       "Name: gender, dtype: int64"
      ]
     },
     "execution_count": 17,
     "metadata": {},
     "output_type": "execute_result"
    }
   ],
   "source": [
    "df['gender'].value_counts()"
   ]
  },
  {
   "cell_type": "code",
   "execution_count": 18,
   "metadata": {},
   "outputs": [
    {
     "data": {
      "text/plain": [
       "C    6944\n",
       "A    5450\n",
       "B    4466\n",
       "D    2620\n",
       "E    1951\n",
       "F    1188\n",
       "Name: area, dtype: int64"
      ]
     },
     "execution_count": 18,
     "metadata": {},
     "output_type": "execute_result"
    }
   ],
   "source": [
    "df['area'].value_counts()"
   ]
  },
  {
   "cell_type": "code",
   "execution_count": 19,
   "metadata": {},
   "outputs": [
    {
     "data": {
      "text/plain": [
       "4    5383\n",
       "3    5304\n",
       "2    4360\n",
       "5    3544\n",
       "6    2168\n",
       "1    1860\n",
       "Name: agecat, dtype: int64"
      ]
     },
     "execution_count": 19,
     "metadata": {},
     "output_type": "execute_result"
    }
   ],
   "source": [
    "df['agecat'].value_counts()"
   ]
  },
  {
   "cell_type": "code",
   "execution_count": 20,
   "metadata": {},
   "outputs": [
    {
     "data": {
      "text/plain": [
       "petrol      14146\n",
       "dissel       4603\n",
       "hybrid       2107\n",
       "electric     1763\n",
       "Name: engine_type, dtype: int64"
      ]
     },
     "execution_count": 20,
     "metadata": {},
     "output_type": "execute_result"
    }
   ],
   "source": [
    "df['engine_type'].value_counts()"
   ]
  },
  {
   "cell_type": "code",
   "execution_count": 22,
   "metadata": {},
   "outputs": [
    {
     "data": {
      "image/png": "[encoded data removed]",
      "text/plain": [
       "<Figure size 640x480 with 1 Axes>"
      ]
     },
     "metadata": {},
     "output_type": "display_data"
    }
   ],
   "source": [
    "plt.hist(df['max_power'], bins=50)\n",
    "plt.show()"
   ]
  },
  {
   "cell_type": "code",
   "execution_count": 27,
   "metadata": {},
   "outputs": [
    {
     "data": {
      "image/png": "[encoded data removed]",
      "text/plain": [
       "<Figure size 640x480 with 1 Axes>"
      ]
     },
     "metadata": {},
     "output_type": "display_data"
    }
   ],
   "source": [
    "plt.hist(df['driving_history_score'], bins=50)\n",
    "plt.show()"
   ]
  },
  {
   "cell_type": "code",
   "execution_count": 28,
   "metadata": {},
   "outputs": [
    {
     "data": {
      "text/plain": [
       "white     4873\n",
       "gray      4766\n",
       "black     4359\n",
       "blue      2002\n",
       "silver    1818\n",
       "red       1360\n",
       "green     1316\n",
       "brown     1142\n",
       "yellow     983\n",
       "Name: veh_color, dtype: int64"
      ]
     },
     "execution_count": 28,
     "metadata": {},
     "output_type": "execute_result"
    }
   ],
   "source": [
    "df['veh_color'].value_counts()"
   ]
  },
  {
   "cell_type": "code",
   "execution_count": 29,
   "metadata": {},
   "outputs": [
    {
     "data": {
      "text/plain": [
       "M    12401\n",
       "S    10218\n",
       "Name: marital_status, dtype: int64"
      ]
     },
     "execution_count": 29,
     "metadata": {},
     "output_type": "execute_result"
    }
   ],
   "source": [
    "df['marital_status'].value_counts()"
   ]
  },
  {
   "cell_type": "code",
   "execution_count": 30,
   "metadata": {},
   "outputs": [
    {
     "data": {
      "text/plain": [
       "1    14404\n",
       "0     8215\n",
       "Name: e_bill, dtype: int64"
      ]
     },
     "execution_count": 30,
     "metadata": {},
     "output_type": "execute_result"
    }
   ],
   "source": [
    "df['e_bill'].value_counts()"
   ]
  },
  {
   "cell_type": "code",
   "execution_count": 31,
   "metadata": {},
   "outputs": [
    {
     "data": {
      "text/plain": [
       "weekday    18105\n",
       "weekend     4514\n",
       "Name: time_of_week_driven, dtype: int64"
      ]
     },
     "execution_count": 31,
     "metadata": {},
     "output_type": "execute_result"
    }
   ],
   "source": [
    "df['time_of_week_driven'].value_counts()"
   ]
  },
  {
   "cell_type": "code",
   "execution_count": 32,
   "metadata": {},
   "outputs": [
    {
     "data": {
      "text/plain": [
       "12pm - 6pm     9102\n",
       "6am - 12pm     9000\n",
       "6pm - 12am     3385\n",
       "12am - 6 am    1132\n",
       "Name: time_driven, dtype: int64"
      ]
     },
     "execution_count": 32,
     "metadata": {},
     "output_type": "execute_result"
    }
   ],
   "source": [
    "df['time_driven'].value_counts()"
   ]
  },
  {
   "cell_type": "code",
   "execution_count": 33,
   "metadata": {},
   "outputs": [
    {
     "data": {
      "text/plain": [
       "12    16941\n",
       "6      5678\n",
       "Name: trm_len, dtype: int64"
      ]
     },
     "execution_count": 33,
     "metadata": {},
     "output_type": "execute_result"
    }
   ],
   "source": [
    "df['trm_len'].value_counts()"
   ]
  },
  {
   "cell_type": "code",
   "execution_count": 34,
   "metadata": {},
   "outputs": [
    {
     "data": {
      "image/png": "[encoded data removed]",
      "text/plain": [
       "<Figure size 640x480 with 1 Axes>"
      ]
     },
     "metadata": {},
     "output_type": "display_data"
    }
   ],
   "source": [
    "plt.hist(df['credit_score'], bins=50)\n",
    "plt.show()"
   ]
  },
  {
   "cell_type": "code",
   "execution_count": 35,
   "metadata": {},
   "outputs": [
    {
     "data": {
      "text/plain": [
       "0.0    19970\n",
       "1.0     2649\n",
       "Name: high_education_ind, dtype: int64"
      ]
     },
     "execution_count": 35,
     "metadata": {},
     "output_type": "execute_result"
    }
   ],
   "source": [
    "df['high_education_ind'].value_counts()"
   ]
  },
  {
   "cell_type": "code",
   "execution_count": 36,
   "metadata": {},
   "outputs": [
    {
     "data": {
      "text/plain": [
       "0    21077\n",
       "1     1542\n",
       "Name: clm, dtype: int64"
      ]
     },
     "execution_count": 36,
     "metadata": {},
     "output_type": "execute_result"
    }
   ],
   "source": [
    "df['clm'].value_counts()"
   ]
  },
  {
   "cell_type": "code",
   "execution_count": 37,
   "metadata": {},
   "outputs": [
    {
     "data": {
      "text/plain": [
       "0    21077\n",
       "1     1439\n",
       "2       94\n",
       "3        9\n",
       "Name: numclaims, dtype: int64"
      ]
     },
     "execution_count": 37,
     "metadata": {},
     "output_type": "execute_result"
    }
   ],
   "source": [
    "df['numclaims'].value_counts()"
   ]
  },
  {
   "cell_type": "code",
   "execution_count": 49,
   "metadata": {},
   "outputs": [
    {
     "data": {
      "text/html": [
       "<div>\n",
       "<style scoped>\n",
       "    .dataframe tbody tr th:only-of-type {\n",
       "        vertical-align: middle;\n",
       "    }\n",
       "\n",
       "    .dataframe tbody tr th {\n",
       "        vertical-align: top;\n",
       "    }\n",
       "\n",
       "    .dataframe thead th {\n",
       "        text-align: right;\n",
       "    }\n",
       "</style>\n",
       "<table border=\"1\" class=\"dataframe\">\n",
       "  <thead>\n",
       "    <tr style=\"text-align: right;\">\n",
       "      <th></th>\n",
       "      <th>veh_value</th>\n",
       "      <th>exposure</th>\n",
       "      <th>veh_age</th>\n",
       "      <th>agecat</th>\n",
       "      <th>max_power</th>\n",
       "      <th>driving_history_score</th>\n",
       "      <th>e_bill</th>\n",
       "      <th>trm_len</th>\n",
       "      <th>credit_score</th>\n",
       "      <th>high_education_ind</th>\n",
       "      <th>clm</th>\n",
       "      <th>numclaims</th>\n",
       "      <th>claimcst0</th>\n",
       "    </tr>\n",
       "  </thead>\n",
       "  <tbody>\n",
       "    <tr>\n",
       "      <th>veh_value</th>\n",
       "      <td>1.000000</td>\n",
       "      <td>-0.000279</td>\n",
       "      <td>-0.539635</td>\n",
       "      <td>-0.066263</td>\n",
       "      <td>0.190229</td>\n",
       "      <td>0.010630</td>\n",
       "      <td>0.126045</td>\n",
       "      <td>-0.000240</td>\n",
       "      <td>-0.002800</td>\n",
       "      <td>-0.008438</td>\n",
       "      <td>0.005282</td>\n",
       "      <td>0.002191</td>\n",
       "      <td>0.002859</td>\n",
       "    </tr>\n",
       "    <tr>\n",
       "      <th>exposure</th>\n",
       "      <td>-0.000279</td>\n",
       "      <td>1.000000</td>\n",
       "      <td>0.038373</td>\n",
       "      <td>0.027080</td>\n",
       "      <td>-0.001208</td>\n",
       "      <td>-0.005429</td>\n",
       "      <td>-0.000743</td>\n",
       "      <td>0.402730</td>\n",
       "      <td>-0.081266</td>\n",
       "      <td>0.527214</td>\n",
       "      <td>0.116118</td>\n",
       "      <td>0.117565</td>\n",
       "      <td>0.039957</td>\n",
       "    </tr>\n",
       "    <tr>\n",
       "      <th>veh_age</th>\n",
       "      <td>-0.539635</td>\n",
       "      <td>0.038373</td>\n",
       "      <td>1.000000</td>\n",
       "      <td>0.028051</td>\n",
       "      <td>0.059412</td>\n",
       "      <td>-0.004086</td>\n",
       "      <td>-0.162433</td>\n",
       "      <td>0.016479</td>\n",
       "      <td>0.001467</td>\n",
       "      <td>0.030029</td>\n",
       "      <td>0.001758</td>\n",
       "      <td>0.004123</td>\n",
       "      <td>0.007544</td>\n",
       "    </tr>\n",
       "    <tr>\n",
       "      <th>agecat</th>\n",
       "      <td>-0.066263</td>\n",
       "      <td>0.027080</td>\n",
       "      <td>0.028051</td>\n",
       "      <td>1.000000</td>\n",
       "      <td>-0.049019</td>\n",
       "      <td>0.000759</td>\n",
       "      <td>-0.017738</td>\n",
       "      <td>-0.000865</td>\n",
       "      <td>0.000132</td>\n",
       "      <td>0.021883</td>\n",
       "      <td>-0.030845</td>\n",
       "      <td>-0.029969</td>\n",
       "      <td>-0.021520</td>\n",
       "    </tr>\n",
       "    <tr>\n",
       "      <th>max_power</th>\n",
       "      <td>0.190229</td>\n",
       "      <td>-0.001208</td>\n",
       "      <td>0.059412</td>\n",
       "      <td>-0.049019</td>\n",
       "      <td>1.000000</td>\n",
       "      <td>0.002779</td>\n",
       "      <td>0.004979</td>\n",
       "      <td>0.001494</td>\n",
       "      <td>0.002260</td>\n",
       "      <td>0.002135</td>\n",
       "      <td>-0.003863</td>\n",
       "      <td>0.000056</td>\n",
       "      <td>0.008413</td>\n",
       "    </tr>\n",
       "    <tr>\n",
       "      <th>driving_history_score</th>\n",
       "      <td>0.010630</td>\n",
       "      <td>-0.005429</td>\n",
       "      <td>-0.004086</td>\n",
       "      <td>0.000759</td>\n",
       "      <td>0.002779</td>\n",
       "      <td>1.000000</td>\n",
       "      <td>-0.004984</td>\n",
       "      <td>-0.001114</td>\n",
       "      <td>-0.003909</td>\n",
       "      <td>-0.003035</td>\n",
       "      <td>0.008172</td>\n",
       "      <td>0.008004</td>\n",
       "      <td>0.012507</td>\n",
       "    </tr>\n",
       "    <tr>\n",
       "      <th>e_bill</th>\n",
       "      <td>0.126045</td>\n",
       "      <td>-0.000743</td>\n",
       "      <td>-0.162433</td>\n",
       "      <td>-0.017738</td>\n",
       "      <td>0.004979</td>\n",
       "      <td>-0.004984</td>\n",
       "      <td>1.000000</td>\n",
       "      <td>-0.012550</td>\n",
       "      <td>0.017685</td>\n",
       "      <td>-0.006264</td>\n",
       "      <td>0.002568</td>\n",
       "      <td>0.000235</td>\n",
       "      <td>-0.001108</td>\n",
       "    </tr>\n",
       "    <tr>\n",
       "      <th>trm_len</th>\n",
       "      <td>-0.000240</td>\n",
       "      <td>0.402730</td>\n",
       "      <td>0.016479</td>\n",
       "      <td>-0.000865</td>\n",
       "      <td>0.001494</td>\n",
       "      <td>-0.001114</td>\n",
       "      <td>-0.012550</td>\n",
       "      <td>1.000000</td>\n",
       "      <td>-0.007846</td>\n",
       "      <td>0.005382</td>\n",
       "      <td>-0.007247</td>\n",
       "      <td>-0.006479</td>\n",
       "      <td>-0.000671</td>\n",
       "    </tr>\n",
       "    <tr>\n",
       "      <th>credit_score</th>\n",
       "      <td>-0.002800</td>\n",
       "      <td>-0.081266</td>\n",
       "      <td>0.001467</td>\n",
       "      <td>0.000132</td>\n",
       "      <td>0.002260</td>\n",
       "      <td>-0.003909</td>\n",
       "      <td>0.017685</td>\n",
       "      <td>-0.007846</td>\n",
       "      <td>1.000000</td>\n",
       "      <td>-0.046448</td>\n",
       "      <td>-0.013757</td>\n",
       "      <td>-0.013117</td>\n",
       "      <td>-0.006191</td>\n",
       "    </tr>\n",
       "    <tr>\n",
       "      <th>high_education_ind</th>\n",
       "      <td>-0.008438</td>\n",
       "      <td>0.527214</td>\n",
       "      <td>0.030029</td>\n",
       "      <td>0.021883</td>\n",
       "      <td>0.002135</td>\n",
       "      <td>-0.003035</td>\n",
       "      <td>-0.006264</td>\n",
       "      <td>0.005382</td>\n",
       "      <td>-0.046448</td>\n",
       "      <td>1.000000</td>\n",
       "      <td>0.080958</td>\n",
       "      <td>0.082107</td>\n",
       "      <td>0.024714</td>\n",
       "    </tr>\n",
       "    <tr>\n",
       "      <th>clm</th>\n",
       "      <td>0.005282</td>\n",
       "      <td>0.116118</td>\n",
       "      <td>0.001758</td>\n",
       "      <td>-0.030845</td>\n",
       "      <td>-0.003863</td>\n",
       "      <td>0.008172</td>\n",
       "      <td>0.002568</td>\n",
       "      <td>-0.007247</td>\n",
       "      <td>-0.013757</td>\n",
       "      <td>0.080958</td>\n",
       "      <td>1.000000</td>\n",
       "      <td>0.965062</td>\n",
       "      <td>0.473932</td>\n",
       "    </tr>\n",
       "    <tr>\n",
       "      <th>numclaims</th>\n",
       "      <td>0.002191</td>\n",
       "      <td>0.117565</td>\n",
       "      <td>0.004123</td>\n",
       "      <td>-0.029969</td>\n",
       "      <td>0.000056</td>\n",
       "      <td>0.008004</td>\n",
       "      <td>0.000235</td>\n",
       "      <td>-0.006479</td>\n",
       "      <td>-0.013117</td>\n",
       "      <td>0.082107</td>\n",
       "      <td>0.965062</td>\n",
       "      <td>1.000000</td>\n",
       "      <td>0.476412</td>\n",
       "    </tr>\n",
       "    <tr>\n",
       "      <th>claimcst0</th>\n",
       "      <td>0.002859</td>\n",
       "      <td>0.039957</td>\n",
       "      <td>0.007544</td>\n",
       "      <td>-0.021520</td>\n",
       "      <td>0.008413</td>\n",
       "      <td>0.012507</td>\n",
       "      <td>-0.001108</td>\n",
       "      <td>-0.000671</td>\n",
       "      <td>-0.006191</td>\n",
       "      <td>0.024714</td>\n",
       "      <td>0.473932</td>\n",
       "      <td>0.476412</td>\n",
       "      <td>1.000000</td>\n",
       "    </tr>\n",
       "  </tbody>\n",
       "</table>\n",
       "</div>"
      ],
      "text/plain": [
       "                       veh_value  exposure   veh_age    agecat  max_power  \\\n",
       "veh_value               1.000000 -0.000279 -0.539635 -0.066263   0.190229   \n",
       "exposure               -0.000279  1.000000  0.038373  0.027080  -0.001208   \n",
       "veh_age                -0.539635  0.038373  1.000000  0.028051   0.059412   \n",
       "agecat                 -0.066263  0.027080  0.028051  1.000000  -0.049019   \n",
       "max_power               0.190229 -0.001208  0.059412 -0.049019   1.000000   \n",
       "driving_history_score   0.010630 -0.005429 -0.004086  0.000759   0.002779   \n",
       "e_bill                  0.126045 -0.000743 -0.162433 -0.017738   0.004979   \n",
       "trm_len                -0.000240  0.402730  0.016479 -0.000865   0.001494   \n",
       "credit_score           -0.002800 -0.081266  0.001467  0.000132   0.002260   \n",
       "high_education_ind     -0.008438  0.527214  0.030029  0.021883   0.002135   \n",
       "clm                     0.005282  0.116118  0.001758 -0.030845  -0.003863   \n",
       "numclaims               0.002191  0.117565  0.004123 -0.029969   0.000056   \n",
       "claimcst0               0.002859  0.039957  0.007544 -0.021520   0.008413   \n",
       "\n",
       "                       driving_history_score    e_bill   trm_len  \\\n",
       "veh_value                           0.010630  0.126045 -0.000240   \n",
       "exposure                           -0.005429 -0.000743  0.402730   \n",
       "veh_age                            -0.004086 -0.162433  0.016479   \n",
       "agecat                              0.000759 -0.017738 -0.000865   \n",
       "max_power                           0.002779  0.004979  0.001494   \n",
       "driving_history_score               1.000000 -0.004984 -0.001114   \n",
       "e_bill                             -0.004984  1.000000 -0.012550   \n",
       "trm_len                            -0.001114 -0.012550  1.000000   \n",
       "credit_score                       -0.003909  0.017685 -0.007846   \n",
       "high_education_ind                 -0.003035 -0.006264  0.005382   \n",
       "clm                                 0.008172  0.002568 -0.007247   \n",
       "numclaims                           0.008004  0.000235 -0.006479   \n",
       "claimcst0                           0.012507 -0.001108 -0.000671   \n",
       "\n",
       "                       credit_score  high_education_ind       clm  numclaims  \\\n",
       "veh_value                 -0.002800           -0.008438  0.005282   0.002191   \n",
       "exposure                  -0.081266            0.527214  0.116118   0.117565   \n",
       "veh_age                    0.001467            0.030029  0.001758   0.004123   \n",
       "agecat                     0.000132            0.021883 -0.030845  -0.029969   \n",
       "max_power                  0.002260            0.002135 -0.003863   0.000056   \n",
       "driving_history_score     -0.003909           -0.003035  0.008172   0.008004   \n",
       "e_bill                     0.017685           -0.006264  0.002568   0.000235   \n",
       "trm_len                   -0.007846            0.005382 -0.007247  -0.006479   \n",
       "credit_score               1.000000           -0.046448 -0.013757  -0.013117   \n",
       "high_education_ind        -0.046448            1.000000  0.080958   0.082107   \n",
       "clm                       -0.013757            0.080958  1.000000   0.965062   \n",
       "numclaims                 -0.013117            0.082107  0.965062   1.000000   \n",
       "claimcst0                 -0.006191            0.024714  0.473932   0.476412   \n",
       "\n",
       "                       claimcst0  \n",
       "veh_value               0.002859  \n",
       "exposure                0.039957  \n",
       "veh_age                 0.007544  \n",
       "agecat                 -0.021520  \n",
       "max_power               0.008413  \n",
       "driving_history_score   0.012507  \n",
       "e_bill                 -0.001108  \n",
       "trm_len                -0.000671  \n",
       "credit_score           -0.006191  \n",
       "high_education_ind      0.024714  \n",
       "clm                     0.473932  \n",
       "numclaims               0.476412  \n",
       "claimcst0               1.000000  "
      ]
     },
     "execution_count": 49,
     "metadata": {},
     "output_type": "execute_result"
    }
   ],
   "source": [
    "df.corr()"
   ]
  },
  {
   "cell_type": "code",
   "execution_count": null,
   "metadata": {},
   "outputs": [],
   "source": [
    "# MAIN MODEL METRIC (between -1 and 1, 1 is perfect, 0 is like random guessing): \n",
    "def calculate_normalized_gini_regression(true_values, predicted_values):\n",
    "    combined_data = list(zip(true_values, predicted_values))\n",
    "    combined_data.sort(key=lambda x: x[1])\n",
    "    \n",
    "    n = len(combined_data)\n",
    "    \n",
    "    cumulative_true = [0]\n",
    "    cumulative_pred = [0]\n",
    "\n",
    "    for i in range(n):\n",
    "        cumulative_true.append(cumulative_true[i] + combined_data[i][0])\n",
    "        cumulative_pred.append(cumulative_pred[i] + combined_data[i][1])\n",
    "    \n",
    "    total_area_perfect_equality = cumulative_true[-1] * cumulative_pred[-1]\n",
    "    auc = (total_area_perfect_equality - 0.5 * (cumulative_true[n] * cumulative_pred[n])) / total_area_perfect_equality\n",
    "    \n",
    "    return auc\n",
    "\n",
    "# Create model that uses all variables to predict claimcst0 - Monday\n",
    "# Create model that predicts clm - Monday\n",
    "# Create model that uses predictions from clm model to predict numclaims (since clm and numclaims are highly correlated) - Tuesday"
   ]
  }
 ],
 "metadata": {
  "kernelspec": {
   "display_name": "tf",
   "language": "python",
   "name": "python3"
  },
  "language_info": {
   "codemirror_mode": {
    "name": "ipython",
    "version": 3
   },
   "file_extension": ".py",
   "mimetype": "text/x-python",
   "name": "python",
   "nbconvert_exporter": "python",
   "pygments_lexer": "ipython3",
   "version": "3.9.18"
  }
 },
 "nbformat": 4,
 "nbformat_minor": 2
}
