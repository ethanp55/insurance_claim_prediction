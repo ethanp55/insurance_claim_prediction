{
 "cells": [
  {
   "cell_type": "code",
   "execution_count": 10,
   "metadata": {},
   "outputs": [],
   "source": [
    "from hyperopt import hp, fmin, tpe, Trials, STATUS_OK\n",
    "import matplotlib.pyplot as plt\n",
    "import numpy as np\n",
    "import pandas as pd\n",
    "import random\n",
    "from sklearn.ensemble import GradientBoostingClassifier\n",
    "from sklearn.metrics import accuracy_score, mean_squared_error, mean_squared_log_error\n",
    "from sklearn.model_selection import train_test_split\n",
    "from sklearn.utils import resample\n",
    "import warnings\n",
    "warnings.filterwarnings('ignore')\n",
    "import xgboost as xgb"
   ]
  },
  {
   "cell_type": "code",
   "execution_count": 2,
   "metadata": {},
   "outputs": [
    {
     "data": {
      "text/html": [
       "<div>\n",
       "<style scoped>\n",
       "    .dataframe tbody tr th:only-of-type {\n",
       "        vertical-align: middle;\n",
       "    }\n",
       "\n",
       "    .dataframe tbody tr th {\n",
       "        vertical-align: top;\n",
       "    }\n",
       "\n",
       "    .dataframe thead th {\n",
       "        text-align: right;\n",
       "    }\n",
       "</style>\n",
       "<table border=\"1\" class=\"dataframe\">\n",
       "  <thead>\n",
       "    <tr style=\"text-align: right;\">\n",
       "      <th></th>\n",
       "      <th>veh_value</th>\n",
       "      <th>exposure</th>\n",
       "      <th>veh_body</th>\n",
       "      <th>veh_age</th>\n",
       "      <th>gender</th>\n",
       "      <th>area</th>\n",
       "      <th>agecat</th>\n",
       "      <th>engine_type</th>\n",
       "      <th>max_power</th>\n",
       "      <th>driving_history_score</th>\n",
       "      <th>...</th>\n",
       "      <th>marital_status</th>\n",
       "      <th>e_bill</th>\n",
       "      <th>time_of_week_driven</th>\n",
       "      <th>time_driven</th>\n",
       "      <th>trm_len</th>\n",
       "      <th>credit_score</th>\n",
       "      <th>high_education_ind</th>\n",
       "      <th>clm</th>\n",
       "      <th>numclaims</th>\n",
       "      <th>claimcst0</th>\n",
       "    </tr>\n",
       "  </thead>\n",
       "  <tbody>\n",
       "    <tr>\n",
       "      <th>0</th>\n",
       "      <td>0.77</td>\n",
       "      <td>0.444504</td>\n",
       "      <td>SEDAN</td>\n",
       "      <td>4</td>\n",
       "      <td>M</td>\n",
       "      <td>D</td>\n",
       "      <td>3</td>\n",
       "      <td>petrol</td>\n",
       "      <td>147</td>\n",
       "      <td>67.0</td>\n",
       "      <td>...</td>\n",
       "      <td>S</td>\n",
       "      <td>1</td>\n",
       "      <td>weekday</td>\n",
       "      <td>6pm - 12am</td>\n",
       "      <td>6</td>\n",
       "      <td>640.448137</td>\n",
       "      <td>1.0</td>\n",
       "      <td>0</td>\n",
       "      <td>0</td>\n",
       "      <td>0.0</td>\n",
       "    </tr>\n",
       "    <tr>\n",
       "      <th>1</th>\n",
       "      <td>4.45</td>\n",
       "      <td>0.562183</td>\n",
       "      <td>STNWG</td>\n",
       "      <td>1</td>\n",
       "      <td>M</td>\n",
       "      <td>A</td>\n",
       "      <td>3</td>\n",
       "      <td>petrol</td>\n",
       "      <td>158</td>\n",
       "      <td>76.0</td>\n",
       "      <td>...</td>\n",
       "      <td>S</td>\n",
       "      <td>1</td>\n",
       "      <td>weekday</td>\n",
       "      <td>6am - 12pm</td>\n",
       "      <td>12</td>\n",
       "      <td>683.749691</td>\n",
       "      <td>0.0</td>\n",
       "      <td>0</td>\n",
       "      <td>0</td>\n",
       "      <td>0.0</td>\n",
       "    </tr>\n",
       "    <tr>\n",
       "      <th>2</th>\n",
       "      <td>4.90</td>\n",
       "      <td>0.465244</td>\n",
       "      <td>STNWG</td>\n",
       "      <td>1</td>\n",
       "      <td>F</td>\n",
       "      <td>A</td>\n",
       "      <td>3</td>\n",
       "      <td>petrol</td>\n",
       "      <td>159</td>\n",
       "      <td>58.0</td>\n",
       "      <td>...</td>\n",
       "      <td>M</td>\n",
       "      <td>1</td>\n",
       "      <td>weekday</td>\n",
       "      <td>6pm - 12am</td>\n",
       "      <td>6</td>\n",
       "      <td>653.656117</td>\n",
       "      <td>1.0</td>\n",
       "      <td>0</td>\n",
       "      <td>0</td>\n",
       "      <td>0.0</td>\n",
       "    </tr>\n",
       "    <tr>\n",
       "      <th>3</th>\n",
       "      <td>0.48</td>\n",
       "      <td>0.271039</td>\n",
       "      <td>PANVN</td>\n",
       "      <td>4</td>\n",
       "      <td>M</td>\n",
       "      <td>A</td>\n",
       "      <td>4</td>\n",
       "      <td>petrol</td>\n",
       "      <td>80</td>\n",
       "      <td>72.0</td>\n",
       "      <td>...</td>\n",
       "      <td>S</td>\n",
       "      <td>1</td>\n",
       "      <td>weekday</td>\n",
       "      <td>12pm - 6pm</td>\n",
       "      <td>12</td>\n",
       "      <td>642.574671</td>\n",
       "      <td>0.0</td>\n",
       "      <td>0</td>\n",
       "      <td>0</td>\n",
       "      <td>0.0</td>\n",
       "    </tr>\n",
       "    <tr>\n",
       "      <th>4</th>\n",
       "      <td>0.85</td>\n",
       "      <td>0.141624</td>\n",
       "      <td>SEDAN</td>\n",
       "      <td>4</td>\n",
       "      <td>F</td>\n",
       "      <td>A</td>\n",
       "      <td>5</td>\n",
       "      <td>petrol</td>\n",
       "      <td>126</td>\n",
       "      <td>91.0</td>\n",
       "      <td>...</td>\n",
       "      <td>S</td>\n",
       "      <td>0</td>\n",
       "      <td>weekday</td>\n",
       "      <td>6am - 12pm</td>\n",
       "      <td>6</td>\n",
       "      <td>647.175035</td>\n",
       "      <td>0.0</td>\n",
       "      <td>0</td>\n",
       "      <td>0</td>\n",
       "      <td>0.0</td>\n",
       "    </tr>\n",
       "  </tbody>\n",
       "</table>\n",
       "<p>5 rows × 21 columns</p>\n",
       "</div>"
      ],
      "text/plain": [
       "   veh_value  exposure veh_body  veh_age gender area  agecat engine_type  \\\n",
       "0       0.77  0.444504    SEDAN        4      M    D       3      petrol   \n",
       "1       4.45  0.562183    STNWG        1      M    A       3      petrol   \n",
       "2       4.90  0.465244    STNWG        1      F    A       3      petrol   \n",
       "3       0.48  0.271039    PANVN        4      M    A       4      petrol   \n",
       "4       0.85  0.141624    SEDAN        4      F    A       5      petrol   \n",
       "\n",
       "   max_power  driving_history_score  ... marital_status e_bill  \\\n",
       "0        147                   67.0  ...              S      1   \n",
       "1        158                   76.0  ...              S      1   \n",
       "2        159                   58.0  ...              M      1   \n",
       "3         80                   72.0  ...              S      1   \n",
       "4        126                   91.0  ...              S      0   \n",
       "\n",
       "   time_of_week_driven time_driven trm_len  credit_score  high_education_ind  \\\n",
       "0              weekday  6pm - 12am       6    640.448137                 1.0   \n",
       "1              weekday  6am - 12pm      12    683.749691                 0.0   \n",
       "2              weekday  6pm - 12am       6    653.656117                 1.0   \n",
       "3              weekday  12pm - 6pm      12    642.574671                 0.0   \n",
       "4              weekday  6am - 12pm       6    647.175035                 0.0   \n",
       "\n",
       "   clm  numclaims  claimcst0  \n",
       "0    0          0        0.0  \n",
       "1    0          0        0.0  \n",
       "2    0          0        0.0  \n",
       "3    0          0        0.0  \n",
       "4    0          0        0.0  \n",
       "\n",
       "[5 rows x 21 columns]"
      ]
     },
     "execution_count": 2,
     "metadata": {},
     "output_type": "execute_result"
    }
   ],
   "source": [
    "df = pd.read_csv('./data/InsNova_data_2023_train.csv')\n",
    "df.drop(['id'], axis=1, inplace=True)\n",
    "df.reset_index(drop=True, inplace=True)\n",
    "\n",
    "df.head()"
   ]
  },
  {
   "cell_type": "code",
   "execution_count": 3,
   "metadata": {},
   "outputs": [],
   "source": [
    "df_dummies = pd.get_dummies(df, columns=['veh_body', 'veh_age', 'gender', 'area', 'agecat', 'engine_type', 'veh_color', 'marital_status', 'e_bill', 'time_of_week_driven', 'time_driven', 'trm_len', 'high_education_ind'])"
   ]
  },
  {
   "cell_type": "markdown",
   "metadata": {},
   "source": [
    "##### clm Model"
   ]
  },
  {
   "cell_type": "code",
   "execution_count": 4,
   "metadata": {},
   "outputs": [
    {
     "name": "stdout",
     "output_type": "stream",
     "text": [
      "clm\n",
      "0    21077\n",
      "1     1542\n",
      "Name: count, dtype: int64\n"
     ]
    }
   ],
   "source": [
    "clm_df = df_dummies.drop(columns=['numclaims', 'claimcst0'])\n",
    "\n",
    "print(clm_df['clm'].value_counts())"
   ]
  },
  {
   "cell_type": "code",
   "execution_count": 5,
   "metadata": {},
   "outputs": [
    {
     "name": "stdout",
     "output_type": "stream",
     "text": [
      "(21077, 64)\n",
      "(1542, 64)\n"
     ]
    }
   ],
   "source": [
    "majority_class = clm_df[clm_df['clm'] == 0]\n",
    "minority_class = clm_df[clm_df['clm'] == 1]\n",
    "\n",
    "print(majority_class.shape)\n",
    "print(minority_class.shape)"
   ]
  },
  {
   "cell_type": "code",
   "execution_count": 6,
   "metadata": {},
   "outputs": [
    {
     "data": {
      "text/plain": [
       "(21077, 64)"
      ]
     },
     "execution_count": 6,
     "metadata": {},
     "output_type": "execute_result"
    }
   ],
   "source": [
    "oversampled_minority = resample(minority_class, replace=True, n_samples=len(majority_class))\n",
    "\n",
    "oversampled_minority.shape"
   ]
  },
  {
   "cell_type": "code",
   "execution_count": 7,
   "metadata": {},
   "outputs": [],
   "source": [
    "clm_balanced_df = pd.concat([majority_class, oversampled_minority])\n",
    "clm_balanced_df = clm_balanced_df.sample(frac=1)\n",
    "clm_balanced_df.reset_index(drop=True, inplace=True)"
   ]
  },
  {
   "cell_type": "code",
   "execution_count": 8,
   "metadata": {},
   "outputs": [
    {
     "name": "stdout",
     "output_type": "stream",
     "text": [
      "(42154, 63) (42154,)\n"
     ]
    }
   ],
   "source": [
    "clm_x, clm_y = clm_balanced_df.drop(columns=['clm']), clm_balanced_df['clm']\n",
    "\n",
    "print(clm_x.shape, clm_y.shape)"
   ]
  },
  {
   "cell_type": "code",
   "execution_count": 12,
   "metadata": {},
   "outputs": [
    {
     "name": "stdout",
     "output_type": "stream",
     "text": [
      "(18734, 63) (9368, 63) (14052, 63) (18734,) (9368,) (14052,)\n"
     ]
    }
   ],
   "source": [
    "clm_x_train, clm_x_test, clm_y_train, clm_y_test = train_test_split(clm_x, clm_y, test_size=1 / 3)\n",
    "clm_x_train, clm_x_val, clm_y_train, clm_y_val = train_test_split(clm_x_train, clm_y_train, test_size=1 / 3)\n",
    "\n",
    "print(clm_x_train.shape, clm_x_val.shape, clm_x_test.shape, clm_y_train.shape, clm_y_val.shape, clm_y_test.shape)"
   ]
  },
  {
   "cell_type": "code",
   "execution_count": 11,
   "metadata": {},
   "outputs": [
    {
     "name": "stdout",
     "output_type": "stream",
     "text": [
      "Num runs: 97\n",
      "Best results so far: train = 0.7824276716131099, test = 0.7481497295758611\n",
      "Remaining runs: 96\n",
      "Remaining runs: 95\n",
      "Remaining runs: 94\n",
      "Remaining runs: 93\n",
      "Remaining runs: 92\n",
      "Best results so far: train = 0.999786484466745, test = 0.967904924565898\n",
      "Remaining runs: 91\n",
      "Remaining runs: 90\n"
     ]
    },
    {
     "ename": "KeyboardInterrupt",
     "evalue": "",
     "output_type": "error",
     "traceback": [
      "\u001b[0;31m---------------------------------------------------------------------------\u001b[0m",
      "\u001b[0;31mKeyboardInterrupt\u001b[0m                         Traceback (most recent call last)",
      "\u001b[1;32m/Users/mymac/travelers/xgboost_hurdle.ipynb Cell 11\u001b[0m line \u001b[0;36m1\n\u001b[1;32m     <a href='vscode-notebook-cell:/Users/mymac/travelers/xgboost_hurdle.ipynb#X21sZmlsZQ%3D%3D?line=16'>17</a>\u001b[0m \u001b[39mfor\u001b[39;00m n_estimators, min_samples_leaf, max_depth, min_samples_split, learning_rate \u001b[39min\u001b[39;00m combos_to_try:\n\u001b[1;32m     <a href='vscode-notebook-cell:/Users/mymac/travelers/xgboost_hurdle.ipynb#X21sZmlsZQ%3D%3D?line=17'>18</a>\u001b[0m     curr_model \u001b[39m=\u001b[39m GradientBoostingClassifier(n_estimators\u001b[39m=\u001b[39mn_estimators, min_samples_leaf\u001b[39m=\u001b[39mmin_samples_leaf, max_depth\u001b[39m=\u001b[39mmax_depth, min_samples_split\u001b[39m=\u001b[39mmin_samples_split, learning_rate\u001b[39m=\u001b[39mlearning_rate)\n\u001b[0;32m---> <a href='vscode-notebook-cell:/Users/mymac/travelers/xgboost_hurdle.ipynb#X21sZmlsZQ%3D%3D?line=18'>19</a>\u001b[0m     curr_model\u001b[39m.\u001b[39;49mfit(clm_x_train, clm_y_train)\n\u001b[1;32m     <a href='vscode-notebook-cell:/Users/mymac/travelers/xgboost_hurdle.ipynb#X21sZmlsZQ%3D%3D?line=20'>21</a>\u001b[0m     clm_y_train_pred \u001b[39m=\u001b[39m curr_model\u001b[39m.\u001b[39mpredict(clm_x_train)\n\u001b[1;32m     <a href='vscode-notebook-cell:/Users/mymac/travelers/xgboost_hurdle.ipynb#X21sZmlsZQ%3D%3D?line=21'>22</a>\u001b[0m     clm_y_test_pred \u001b[39m=\u001b[39m curr_model\u001b[39m.\u001b[39mpredict(clm_x_test)\n",
      "File \u001b[0;32m~/miniforge3/envs/travelers/lib/python3.11/site-packages/sklearn/ensemble/_gb.py:538\u001b[0m, in \u001b[0;36mBaseGradientBoosting.fit\u001b[0;34m(self, X, y, sample_weight, monitor)\u001b[0m\n\u001b[1;32m    535\u001b[0m     \u001b[39mself\u001b[39m\u001b[39m.\u001b[39m_resize_state()\n\u001b[1;32m    537\u001b[0m \u001b[39m# fit the boosting stages\u001b[39;00m\n\u001b[0;32m--> 538\u001b[0m n_stages \u001b[39m=\u001b[39m \u001b[39mself\u001b[39;49m\u001b[39m.\u001b[39;49m_fit_stages(\n\u001b[1;32m    539\u001b[0m     X,\n\u001b[1;32m    540\u001b[0m     y,\n\u001b[1;32m    541\u001b[0m     raw_predictions,\n\u001b[1;32m    542\u001b[0m     sample_weight,\n\u001b[1;32m    543\u001b[0m     \u001b[39mself\u001b[39;49m\u001b[39m.\u001b[39;49m_rng,\n\u001b[1;32m    544\u001b[0m     X_val,\n\u001b[1;32m    545\u001b[0m     y_val,\n\u001b[1;32m    546\u001b[0m     sample_weight_val,\n\u001b[1;32m    547\u001b[0m     begin_at_stage,\n\u001b[1;32m    548\u001b[0m     monitor,\n\u001b[1;32m    549\u001b[0m )\n\u001b[1;32m    551\u001b[0m \u001b[39m# change shape of arrays after fit (early-stopping or additional ests)\u001b[39;00m\n\u001b[1;32m    552\u001b[0m \u001b[39mif\u001b[39;00m n_stages \u001b[39m!=\u001b[39m \u001b[39mself\u001b[39m\u001b[39m.\u001b[39mestimators_\u001b[39m.\u001b[39mshape[\u001b[39m0\u001b[39m]:\n",
      "File \u001b[0;32m~/miniforge3/envs/travelers/lib/python3.11/site-packages/sklearn/ensemble/_gb.py:615\u001b[0m, in \u001b[0;36mBaseGradientBoosting._fit_stages\u001b[0;34m(self, X, y, raw_predictions, sample_weight, random_state, X_val, y_val, sample_weight_val, begin_at_stage, monitor)\u001b[0m\n\u001b[1;32m    608\u001b[0m     old_oob_score \u001b[39m=\u001b[39m loss_(\n\u001b[1;32m    609\u001b[0m         y[\u001b[39m~\u001b[39msample_mask],\n\u001b[1;32m    610\u001b[0m         raw_predictions[\u001b[39m~\u001b[39msample_mask],\n\u001b[1;32m    611\u001b[0m         sample_weight[\u001b[39m~\u001b[39msample_mask],\n\u001b[1;32m    612\u001b[0m     )\n\u001b[1;32m    614\u001b[0m \u001b[39m# fit next stage of trees\u001b[39;00m\n\u001b[0;32m--> 615\u001b[0m raw_predictions \u001b[39m=\u001b[39m \u001b[39mself\u001b[39;49m\u001b[39m.\u001b[39;49m_fit_stage(\n\u001b[1;32m    616\u001b[0m     i,\n\u001b[1;32m    617\u001b[0m     X,\n\u001b[1;32m    618\u001b[0m     y,\n\u001b[1;32m    619\u001b[0m     raw_predictions,\n\u001b[1;32m    620\u001b[0m     sample_weight,\n\u001b[1;32m    621\u001b[0m     sample_mask,\n\u001b[1;32m    622\u001b[0m     random_state,\n\u001b[1;32m    623\u001b[0m     X_csc,\n\u001b[1;32m    624\u001b[0m     X_csr,\n\u001b[1;32m    625\u001b[0m )\n\u001b[1;32m    627\u001b[0m \u001b[39m# track deviance (= loss)\u001b[39;00m\n\u001b[1;32m    628\u001b[0m \u001b[39mif\u001b[39;00m do_oob:\n",
      "File \u001b[0;32m~/miniforge3/envs/travelers/lib/python3.11/site-packages/sklearn/ensemble/_gb.py:257\u001b[0m, in \u001b[0;36mBaseGradientBoosting._fit_stage\u001b[0;34m(self, i, X, y, raw_predictions, sample_weight, sample_mask, random_state, X_csc, X_csr)\u001b[0m\n\u001b[1;32m    254\u001b[0m     sample_weight \u001b[39m=\u001b[39m sample_weight \u001b[39m*\u001b[39m sample_mask\u001b[39m.\u001b[39mastype(np\u001b[39m.\u001b[39mfloat64)\n\u001b[1;32m    256\u001b[0m X \u001b[39m=\u001b[39m X_csr \u001b[39mif\u001b[39;00m X_csr \u001b[39mis\u001b[39;00m \u001b[39mnot\u001b[39;00m \u001b[39mNone\u001b[39;00m \u001b[39melse\u001b[39;00m X\n\u001b[0;32m--> 257\u001b[0m tree\u001b[39m.\u001b[39;49mfit(X, residual, sample_weight\u001b[39m=\u001b[39;49msample_weight, check_input\u001b[39m=\u001b[39;49m\u001b[39mFalse\u001b[39;49;00m)\n\u001b[1;32m    259\u001b[0m \u001b[39m# update tree leaves\u001b[39;00m\n\u001b[1;32m    260\u001b[0m loss\u001b[39m.\u001b[39mupdate_terminal_regions(\n\u001b[1;32m    261\u001b[0m     tree\u001b[39m.\u001b[39mtree_,\n\u001b[1;32m    262\u001b[0m     X,\n\u001b[0;32m   (...)\u001b[0m\n\u001b[1;32m    269\u001b[0m     k\u001b[39m=\u001b[39mk,\n\u001b[1;32m    270\u001b[0m )\n",
      "File \u001b[0;32m~/miniforge3/envs/travelers/lib/python3.11/site-packages/sklearn/tree/_classes.py:1247\u001b[0m, in \u001b[0;36mDecisionTreeRegressor.fit\u001b[0;34m(self, X, y, sample_weight, check_input)\u001b[0m\n\u001b[1;32m   1218\u001b[0m \u001b[39mdef\u001b[39;00m \u001b[39mfit\u001b[39m(\u001b[39mself\u001b[39m, X, y, sample_weight\u001b[39m=\u001b[39m\u001b[39mNone\u001b[39;00m, check_input\u001b[39m=\u001b[39m\u001b[39mTrue\u001b[39;00m):\n\u001b[1;32m   1219\u001b[0m \u001b[39m    \u001b[39m\u001b[39m\"\"\"Build a decision tree regressor from the training set (X, y).\u001b[39;00m\n\u001b[1;32m   1220\u001b[0m \n\u001b[1;32m   1221\u001b[0m \u001b[39m    Parameters\u001b[39;00m\n\u001b[0;32m   (...)\u001b[0m\n\u001b[1;32m   1244\u001b[0m \u001b[39m        Fitted estimator.\u001b[39;00m\n\u001b[1;32m   1245\u001b[0m \u001b[39m    \"\"\"\u001b[39;00m\n\u001b[0;32m-> 1247\u001b[0m     \u001b[39msuper\u001b[39;49m()\u001b[39m.\u001b[39;49mfit(\n\u001b[1;32m   1248\u001b[0m         X,\n\u001b[1;32m   1249\u001b[0m         y,\n\u001b[1;32m   1250\u001b[0m         sample_weight\u001b[39m=\u001b[39;49msample_weight,\n\u001b[1;32m   1251\u001b[0m         check_input\u001b[39m=\u001b[39;49mcheck_input,\n\u001b[1;32m   1252\u001b[0m     )\n\u001b[1;32m   1253\u001b[0m     \u001b[39mreturn\u001b[39;00m \u001b[39mself\u001b[39m\n",
      "File \u001b[0;32m~/miniforge3/envs/travelers/lib/python3.11/site-packages/sklearn/tree/_classes.py:379\u001b[0m, in \u001b[0;36mBaseDecisionTree.fit\u001b[0;34m(self, X, y, sample_weight, check_input)\u001b[0m\n\u001b[1;32m    368\u001b[0m \u001b[39melse\u001b[39;00m:\n\u001b[1;32m    369\u001b[0m     builder \u001b[39m=\u001b[39m BestFirstTreeBuilder(\n\u001b[1;32m    370\u001b[0m         splitter,\n\u001b[1;32m    371\u001b[0m         min_samples_split,\n\u001b[0;32m   (...)\u001b[0m\n\u001b[1;32m    376\u001b[0m         \u001b[39mself\u001b[39m\u001b[39m.\u001b[39mmin_impurity_decrease,\n\u001b[1;32m    377\u001b[0m     )\n\u001b[0;32m--> 379\u001b[0m builder\u001b[39m.\u001b[39;49mbuild(\u001b[39mself\u001b[39;49m\u001b[39m.\u001b[39;49mtree_, X, y, sample_weight)\n\u001b[1;32m    381\u001b[0m \u001b[39mif\u001b[39;00m \u001b[39mself\u001b[39m\u001b[39m.\u001b[39mn_outputs_ \u001b[39m==\u001b[39m \u001b[39m1\u001b[39m \u001b[39mand\u001b[39;00m is_classifier(\u001b[39mself\u001b[39m):\n\u001b[1;32m    382\u001b[0m     \u001b[39mself\u001b[39m\u001b[39m.\u001b[39mn_classes_ \u001b[39m=\u001b[39m \u001b[39mself\u001b[39m\u001b[39m.\u001b[39mn_classes_[\u001b[39m0\u001b[39m]\n",
      "\u001b[0;31mKeyboardInterrupt\u001b[0m: "
     ]
    }
   ],
   "source": [
    "all_combos = []\n",
    "\n",
    "for n_estimators in [5, 10, 15, 20, 25, 50, 100, 200, 300]:\n",
    "    for min_samples_leaf in [5, 10, 15, 20, 25, 50]:\n",
    "        for max_depth in [3, 4, 5, 6, 7, 8, 9, 10, 15, 20]:\n",
    "            for min_samples_split in [2, 3, 4, 5, 10, 15]:\n",
    "                for learning_rate in [0.01, 0.1, 0.2]:\n",
    "                    all_combos.append((n_estimators, min_samples_leaf, max_depth, min_samples_split, learning_rate))\n",
    "\n",
    "percentage_to_try = 0.01\n",
    "n_runs = int(percentage_to_try * len(all_combos))\n",
    "combos_to_try = random.sample(all_combos, n_runs)\n",
    "print(f'Num runs: {n_runs}')\n",
    "\n",
    "best_test_accuracy, clm_model = -np.inf, None\n",
    "\n",
    "for n_estimators, min_samples_leaf, max_depth, min_samples_split, learning_rate in combos_to_try:\n",
    "    curr_model = GradientBoostingClassifier(n_estimators=n_estimators, min_samples_leaf=min_samples_leaf, max_depth=max_depth, min_samples_split=min_samples_split, learning_rate=learning_rate)\n",
    "    curr_model.fit(clm_x_train, clm_y_train)\n",
    "\n",
    "    clm_y_train_pred = curr_model.predict(clm_x_train)\n",
    "    clm_y_test_pred = curr_model.predict(clm_x_test)\n",
    "\n",
    "    train_accuracy = accuracy_score(clm_y_train, clm_y_train_pred)\n",
    "    test_accuracy = accuracy_score(clm_y_test, clm_y_test_pred)\n",
    "\n",
    "    if test_accuracy > best_test_accuracy:\n",
    "        best_test_accuracy, clm_model = test_accuracy, curr_model\n",
    "        print(f'Best results so far: train = {train_accuracy}, test = {test_accuracy}')\n",
    "\n",
    "        # Early stopping\n",
    "        if best_test_accuracy >= 0.99:\n",
    "            break\n",
    "\n",
    "    n_runs -= 1\n",
    "    print(f'Remaining runs: {n_runs}')\n",
    "\n",
    "print(best_test_accuracy)\n",
    "print(clm_model.get_params())"
   ]
  },
  {
   "cell_type": "code",
   "execution_count": 13,
   "metadata": {},
   "outputs": [
    {
     "name": "stdout",
     "output_type": "stream",
     "text": [
      "  0%|          | 0/100 [00:00<?, ?trial/s, best loss=?]"
     ]
    },
    {
     "name": "stdout",
     "output_type": "stream",
     "text": [
      "Test loss: 0.6073868488471392                          \n",
      "Test loss: 0.6008397381155708                                                     \n",
      "Test loss: 0.6040421292342727                                                     \n",
      "Test loss: 0.6083831483062909                                                     \n",
      "Test loss: 0.6126530031312268                                                     \n",
      "Test loss: 0.6069598633646456                                                     \n",
      "Test loss: 0.6058212354113294                                                     \n",
      "Test loss: 0.622046683746086                                                      \n",
      "Test loss: 0.6040421292342727                                                     \n",
      "Test loss: 0.6058212354113294                                                    \n",
      "Test loss: 0.6083831483062909                                                     \n",
      "Test loss: 0.6058212354113294                                                     \n",
      "Test loss: 0.6213350412752633                                                     \n",
      "Test loss: 0.6040421292342727                                                     \n",
      "Test loss: 0.6206945630515229                                                     \n",
      "Test loss: 0.604397950469684                                                      \n",
      "Test loss: 0.6106604042129234                                                     \n",
      "Test loss: 0.6066040421292342                                                     \n",
      "Test loss: 0.6208368915456874                                                     \n",
      "Test loss: 0.6058212354113294                                                     \n",
      "Test loss: 0.6224025049814973                                                     \n",
      "Test loss: 0.6206233988044406                                                      \n",
      "Test loss: 0.6197694278394534                                                      \n",
      "Test loss: 0.6191289496157131                                                      \n",
      "Test loss: 0.6094506120125249                                                      \n",
      "Test loss: 0.6169228579561629                                                      \n",
      "Test loss: 0.6162823797324224                                                      \n",
      "Test loss: 0.5219185881013378                                                      \n",
      "Test loss: 0.6238257899231426                                                      \n",
      "Test loss: 0.62311414745232                                                        \n",
      "Test loss: 0.6263165385710219                                                      \n",
      "Test loss: 0.6216908625106746                                                      \n",
      "Test loss: 0.6253914033589525                                                      \n",
      "Test loss: 0.6250355821235412                                                      \n",
      "Test loss: 0.6058212354113294                                                      \n",
      "Test loss: 0.6185596356390549                                                      \n",
      "Test loss: 0.6116567036720751                                                      \n",
      "Test loss: 0.6074580130942214                                                      \n",
      "Test loss: 0.6113008824366638                                                      \n",
      "Test loss: 0.6165670367207515                                                      \n",
      "Test loss: 0.6004839168801595                                                      \n",
      "Test loss: 0.6169228579561629                                                      \n",
      "Test loss: 0.6263877028181042                                                      \n",
      "Test loss: 0.6063193851409052                                                      \n",
      "Test loss: 0.6216196982635924                                                      \n",
      "Test loss: 0.6053230856817535                                                      \n",
      "Test loss: 0.6104469114716766                                                      \n",
      "Test loss: 0.6058212354113294                                                      \n",
      "Test loss: 0.6215485340165101                                                      \n",
      "Test loss: 0.604397950469684                                                       \n",
      "Test loss: 0.49843438656419015                                                     \n",
      "Test loss: 0.6147879305436948                                                      \n",
      "Test loss: 0.609735269000854                                                       \n",
      "Test loss: 0.6280244805009964                                                      \n",
      "Test loss: 0.6216196982635924                                                      \n",
      "Test loss: 0.616709365214916                                                       \n",
      "Test loss: 0.6069598633646456                                                      \n",
      "Test loss: 0.6211215485340165                                                      \n",
      "Test loss: 0.6179903216623968                                                      \n",
      "Test loss: 0.6004839168801595                                                      \n",
      "Test loss: 0.6106604042129234                                                      \n",
      "Test loss: 0.6178479931682322                                                      \n",
      "Test loss: 0.6229718189581555                                                      \n",
      "Test loss: 0.6004839168801595                                                      \n",
      "Test loss: 0.6154284087674352                                                      \n",
      "Test loss: 0.6246797608881298                                                      \n",
      "Test loss: 0.6208368915456874                                                      \n",
      "Test loss: 0.6287361229718189                                                      \n",
      "Test loss: 0.6201252490748648                                                      \n",
      "Test loss: 0.6253914033589525                                                      \n",
      "Test loss: 0.6201252490748648                                                      \n",
      "Test loss: 0.6261742100768574                                                      \n",
      "Test loss: 0.6192001138627954                                                      \n",
      "Test loss: 0.6198405920865357                                                      \n",
      "Test loss: 0.6271705095360091                                                      \n",
      "Test loss: 0.6163535439795047                                                      \n",
      " 76%|███████▌  | 76/100 [00:42<00:13,  1.78trial/s, best loss: -0.6287361229718189]\n"
     ]
    },
    {
     "ename": "KeyboardInterrupt",
     "evalue": "",
     "output_type": "error",
     "traceback": [
      "\u001b[0;31m---------------------------------------------------------------------------\u001b[0m",
      "\u001b[0;31mKeyboardInterrupt\u001b[0m                         Traceback (most recent call last)",
      "\u001b[1;32m/Users/mymac/travelers/xgboost_hurdle.ipynb Cell 12\u001b[0m line \u001b[0;36m4\n\u001b[1;32m     <a href='vscode-notebook-cell:/Users/mymac/travelers/xgboost_hurdle.ipynb#X13sZmlsZQ%3D%3D?line=35'>36</a>\u001b[0m         \u001b[39mreturn\u001b[39;00m {\u001b[39m'\u001b[39m\u001b[39mloss\u001b[39m\u001b[39m'\u001b[39m: np\u001b[39m.\u001b[39minf, \u001b[39m'\u001b[39m\u001b[39mstatus\u001b[39m\u001b[39m'\u001b[39m: STATUS_OK }\n\u001b[1;32m     <a href='vscode-notebook-cell:/Users/mymac/travelers/xgboost_hurdle.ipynb#X13sZmlsZQ%3D%3D?line=37'>38</a>\u001b[0m trials \u001b[39m=\u001b[39m Trials()\n\u001b[0;32m---> <a href='vscode-notebook-cell:/Users/mymac/travelers/xgboost_hurdle.ipynb#X13sZmlsZQ%3D%3D?line=39'>40</a>\u001b[0m best_hyperparams \u001b[39m=\u001b[39m fmin(fn\u001b[39m=\u001b[39;49mobjective,\n\u001b[1;32m     <a href='vscode-notebook-cell:/Users/mymac/travelers/xgboost_hurdle.ipynb#X13sZmlsZQ%3D%3D?line=40'>41</a>\u001b[0m                         space\u001b[39m=\u001b[39;49mspace,\n\u001b[1;32m     <a href='vscode-notebook-cell:/Users/mymac/travelers/xgboost_hurdle.ipynb#X13sZmlsZQ%3D%3D?line=41'>42</a>\u001b[0m                         algo\u001b[39m=\u001b[39;49mtpe\u001b[39m.\u001b[39;49msuggest,\n\u001b[1;32m     <a href='vscode-notebook-cell:/Users/mymac/travelers/xgboost_hurdle.ipynb#X13sZmlsZQ%3D%3D?line=42'>43</a>\u001b[0m                         max_evals\u001b[39m=\u001b[39;49m\u001b[39m100\u001b[39;49m,\n\u001b[1;32m     <a href='vscode-notebook-cell:/Users/mymac/travelers/xgboost_hurdle.ipynb#X13sZmlsZQ%3D%3D?line=43'>44</a>\u001b[0m                         trials\u001b[39m=\u001b[39;49mtrials)\n\u001b[1;32m     <a href='vscode-notebook-cell:/Users/mymac/travelers/xgboost_hurdle.ipynb#X13sZmlsZQ%3D%3D?line=45'>46</a>\u001b[0m \u001b[39mprint\u001b[39m(\u001b[39mf\u001b[39m\u001b[39m'\u001b[39m\u001b[39mBest hyperparameters: \u001b[39m\u001b[39m\\n\u001b[39;00m\u001b[39m{\u001b[39;00mbest_hyperparams\u001b[39m}\u001b[39;00m\u001b[39m'\u001b[39m)\n",
      "File \u001b[0;32m~/miniforge3/envs/travelers/lib/python3.11/site-packages/hyperopt/fmin.py:540\u001b[0m, in \u001b[0;36mfmin\u001b[0;34m(fn, space, algo, max_evals, timeout, loss_threshold, trials, rstate, allow_trials_fmin, pass_expr_memo_ctrl, catch_eval_exceptions, verbose, return_argmin, points_to_evaluate, max_queue_len, show_progressbar, early_stop_fn, trials_save_file)\u001b[0m\n\u001b[1;32m    537\u001b[0m     fn \u001b[39m=\u001b[39m __objective_fmin_wrapper(fn)\n\u001b[1;32m    539\u001b[0m \u001b[39mif\u001b[39;00m allow_trials_fmin \u001b[39mand\u001b[39;00m \u001b[39mhasattr\u001b[39m(trials, \u001b[39m\"\u001b[39m\u001b[39mfmin\u001b[39m\u001b[39m\"\u001b[39m):\n\u001b[0;32m--> 540\u001b[0m     \u001b[39mreturn\u001b[39;00m trials\u001b[39m.\u001b[39;49mfmin(\n\u001b[1;32m    541\u001b[0m         fn,\n\u001b[1;32m    542\u001b[0m         space,\n\u001b[1;32m    543\u001b[0m         algo\u001b[39m=\u001b[39;49malgo,\n\u001b[1;32m    544\u001b[0m         max_evals\u001b[39m=\u001b[39;49mmax_evals,\n\u001b[1;32m    545\u001b[0m         timeout\u001b[39m=\u001b[39;49mtimeout,\n\u001b[1;32m    546\u001b[0m         loss_threshold\u001b[39m=\u001b[39;49mloss_threshold,\n\u001b[1;32m    547\u001b[0m         max_queue_len\u001b[39m=\u001b[39;49mmax_queue_len,\n\u001b[1;32m    548\u001b[0m         rstate\u001b[39m=\u001b[39;49mrstate,\n\u001b[1;32m    549\u001b[0m         pass_expr_memo_ctrl\u001b[39m=\u001b[39;49mpass_expr_memo_ctrl,\n\u001b[1;32m    550\u001b[0m         verbose\u001b[39m=\u001b[39;49mverbose,\n\u001b[1;32m    551\u001b[0m         catch_eval_exceptions\u001b[39m=\u001b[39;49mcatch_eval_exceptions,\n\u001b[1;32m    552\u001b[0m         return_argmin\u001b[39m=\u001b[39;49mreturn_argmin,\n\u001b[1;32m    553\u001b[0m         show_progressbar\u001b[39m=\u001b[39;49mshow_progressbar,\n\u001b[1;32m    554\u001b[0m         early_stop_fn\u001b[39m=\u001b[39;49mearly_stop_fn,\n\u001b[1;32m    555\u001b[0m         trials_save_file\u001b[39m=\u001b[39;49mtrials_save_file,\n\u001b[1;32m    556\u001b[0m     )\n\u001b[1;32m    558\u001b[0m \u001b[39mif\u001b[39;00m trials \u001b[39mis\u001b[39;00m \u001b[39mNone\u001b[39;00m:\n\u001b[1;32m    559\u001b[0m     \u001b[39mif\u001b[39;00m os\u001b[39m.\u001b[39mpath\u001b[39m.\u001b[39mexists(trials_save_file):\n",
      "File \u001b[0;32m~/miniforge3/envs/travelers/lib/python3.11/site-packages/hyperopt/base.py:671\u001b[0m, in \u001b[0;36mTrials.fmin\u001b[0;34m(self, fn, space, algo, max_evals, timeout, loss_threshold, max_queue_len, rstate, verbose, pass_expr_memo_ctrl, catch_eval_exceptions, return_argmin, show_progressbar, early_stop_fn, trials_save_file)\u001b[0m\n\u001b[1;32m    666\u001b[0m \u001b[39m# -- Stop-gap implementation!\u001b[39;00m\n\u001b[1;32m    667\u001b[0m \u001b[39m#    fmin should have been a Trials method in the first place\u001b[39;00m\n\u001b[1;32m    668\u001b[0m \u001b[39m#    but for now it's still sitting in another file.\u001b[39;00m\n\u001b[1;32m    669\u001b[0m \u001b[39mfrom\u001b[39;00m \u001b[39m.\u001b[39;00m\u001b[39mfmin\u001b[39;00m \u001b[39mimport\u001b[39;00m fmin\n\u001b[0;32m--> 671\u001b[0m \u001b[39mreturn\u001b[39;00m fmin(\n\u001b[1;32m    672\u001b[0m     fn,\n\u001b[1;32m    673\u001b[0m     space,\n\u001b[1;32m    674\u001b[0m     algo\u001b[39m=\u001b[39;49malgo,\n\u001b[1;32m    675\u001b[0m     max_evals\u001b[39m=\u001b[39;49mmax_evals,\n\u001b[1;32m    676\u001b[0m     timeout\u001b[39m=\u001b[39;49mtimeout,\n\u001b[1;32m    677\u001b[0m     loss_threshold\u001b[39m=\u001b[39;49mloss_threshold,\n\u001b[1;32m    678\u001b[0m     trials\u001b[39m=\u001b[39;49m\u001b[39mself\u001b[39;49m,\n\u001b[1;32m    679\u001b[0m     rstate\u001b[39m=\u001b[39;49mrstate,\n\u001b[1;32m    680\u001b[0m     verbose\u001b[39m=\u001b[39;49mverbose,\n\u001b[1;32m    681\u001b[0m     max_queue_len\u001b[39m=\u001b[39;49mmax_queue_len,\n\u001b[1;32m    682\u001b[0m     allow_trials_fmin\u001b[39m=\u001b[39;49m\u001b[39mFalse\u001b[39;49;00m,  \u001b[39m# -- prevent recursion\u001b[39;49;00m\n\u001b[1;32m    683\u001b[0m     pass_expr_memo_ctrl\u001b[39m=\u001b[39;49mpass_expr_memo_ctrl,\n\u001b[1;32m    684\u001b[0m     catch_eval_exceptions\u001b[39m=\u001b[39;49mcatch_eval_exceptions,\n\u001b[1;32m    685\u001b[0m     return_argmin\u001b[39m=\u001b[39;49mreturn_argmin,\n\u001b[1;32m    686\u001b[0m     show_progressbar\u001b[39m=\u001b[39;49mshow_progressbar,\n\u001b[1;32m    687\u001b[0m     early_stop_fn\u001b[39m=\u001b[39;49mearly_stop_fn,\n\u001b[1;32m    688\u001b[0m     trials_save_file\u001b[39m=\u001b[39;49mtrials_save_file,\n\u001b[1;32m    689\u001b[0m )\n",
      "File \u001b[0;32m~/miniforge3/envs/travelers/lib/python3.11/site-packages/hyperopt/fmin.py:586\u001b[0m, in \u001b[0;36mfmin\u001b[0;34m(fn, space, algo, max_evals, timeout, loss_threshold, trials, rstate, allow_trials_fmin, pass_expr_memo_ctrl, catch_eval_exceptions, verbose, return_argmin, points_to_evaluate, max_queue_len, show_progressbar, early_stop_fn, trials_save_file)\u001b[0m\n\u001b[1;32m    583\u001b[0m rval\u001b[39m.\u001b[39mcatch_eval_exceptions \u001b[39m=\u001b[39m catch_eval_exceptions\n\u001b[1;32m    585\u001b[0m \u001b[39m# next line is where the fmin is actually executed\u001b[39;00m\n\u001b[0;32m--> 586\u001b[0m rval\u001b[39m.\u001b[39;49mexhaust()\n\u001b[1;32m    588\u001b[0m \u001b[39mif\u001b[39;00m return_argmin:\n\u001b[1;32m    589\u001b[0m     \u001b[39mif\u001b[39;00m \u001b[39mlen\u001b[39m(trials\u001b[39m.\u001b[39mtrials) \u001b[39m==\u001b[39m \u001b[39m0\u001b[39m:\n",
      "File \u001b[0;32m~/miniforge3/envs/travelers/lib/python3.11/site-packages/hyperopt/fmin.py:364\u001b[0m, in \u001b[0;36mFMinIter.exhaust\u001b[0;34m(self)\u001b[0m\n\u001b[1;32m    362\u001b[0m \u001b[39mdef\u001b[39;00m \u001b[39mexhaust\u001b[39m(\u001b[39mself\u001b[39m):\n\u001b[1;32m    363\u001b[0m     n_done \u001b[39m=\u001b[39m \u001b[39mlen\u001b[39m(\u001b[39mself\u001b[39m\u001b[39m.\u001b[39mtrials)\n\u001b[0;32m--> 364\u001b[0m     \u001b[39mself\u001b[39;49m\u001b[39m.\u001b[39;49mrun(\u001b[39mself\u001b[39;49m\u001b[39m.\u001b[39;49mmax_evals \u001b[39m-\u001b[39;49m n_done, block_until_done\u001b[39m=\u001b[39;49m\u001b[39mself\u001b[39;49m\u001b[39m.\u001b[39;49masynchronous)\n\u001b[1;32m    365\u001b[0m     \u001b[39mself\u001b[39m\u001b[39m.\u001b[39mtrials\u001b[39m.\u001b[39mrefresh()\n\u001b[1;32m    366\u001b[0m     \u001b[39mreturn\u001b[39;00m \u001b[39mself\u001b[39m\n",
      "File \u001b[0;32m~/miniforge3/envs/travelers/lib/python3.11/site-packages/hyperopt/fmin.py:300\u001b[0m, in \u001b[0;36mFMinIter.run\u001b[0;34m(self, N, block_until_done)\u001b[0m\n\u001b[1;32m    297\u001b[0m     time\u001b[39m.\u001b[39msleep(\u001b[39mself\u001b[39m\u001b[39m.\u001b[39mpoll_interval_secs)\n\u001b[1;32m    298\u001b[0m \u001b[39melse\u001b[39;00m:\n\u001b[1;32m    299\u001b[0m     \u001b[39m# -- loop over trials and do the jobs directly\u001b[39;00m\n\u001b[0;32m--> 300\u001b[0m     \u001b[39mself\u001b[39;49m\u001b[39m.\u001b[39;49mserial_evaluate()\n\u001b[1;32m    302\u001b[0m \u001b[39mself\u001b[39m\u001b[39m.\u001b[39mtrials\u001b[39m.\u001b[39mrefresh()\n\u001b[1;32m    303\u001b[0m \u001b[39mif\u001b[39;00m \u001b[39mself\u001b[39m\u001b[39m.\u001b[39mtrials_save_file \u001b[39m!=\u001b[39m \u001b[39m\"\u001b[39m\u001b[39m\"\u001b[39m:\n",
      "File \u001b[0;32m~/miniforge3/envs/travelers/lib/python3.11/site-packages/hyperopt/fmin.py:178\u001b[0m, in \u001b[0;36mFMinIter.serial_evaluate\u001b[0;34m(self, N)\u001b[0m\n\u001b[1;32m    176\u001b[0m ctrl \u001b[39m=\u001b[39m base\u001b[39m.\u001b[39mCtrl(\u001b[39mself\u001b[39m\u001b[39m.\u001b[39mtrials, current_trial\u001b[39m=\u001b[39mtrial)\n\u001b[1;32m    177\u001b[0m \u001b[39mtry\u001b[39;00m:\n\u001b[0;32m--> 178\u001b[0m     result \u001b[39m=\u001b[39m \u001b[39mself\u001b[39;49m\u001b[39m.\u001b[39;49mdomain\u001b[39m.\u001b[39;49mevaluate(spec, ctrl)\n\u001b[1;32m    179\u001b[0m \u001b[39mexcept\u001b[39;00m \u001b[39mException\u001b[39;00m \u001b[39mas\u001b[39;00m e:\n\u001b[1;32m    180\u001b[0m     logger\u001b[39m.\u001b[39merror(\u001b[39m\"\u001b[39m\u001b[39mjob exception: \u001b[39m\u001b[39m%s\u001b[39;00m\u001b[39m\"\u001b[39m \u001b[39m%\u001b[39m \u001b[39mstr\u001b[39m(e))\n",
      "File \u001b[0;32m~/miniforge3/envs/travelers/lib/python3.11/site-packages/hyperopt/base.py:892\u001b[0m, in \u001b[0;36mDomain.evaluate\u001b[0;34m(self, config, ctrl, attach_attachments)\u001b[0m\n\u001b[1;32m    883\u001b[0m \u001b[39melse\u001b[39;00m:\n\u001b[1;32m    884\u001b[0m     \u001b[39m# -- the \"work\" of evaluating `config` can be written\u001b[39;00m\n\u001b[1;32m    885\u001b[0m     \u001b[39m#    either into the pyll part (self.expr)\u001b[39;00m\n\u001b[1;32m    886\u001b[0m     \u001b[39m#    or the normal Python part (self.fn)\u001b[39;00m\n\u001b[1;32m    887\u001b[0m     pyll_rval \u001b[39m=\u001b[39m pyll\u001b[39m.\u001b[39mrec_eval(\n\u001b[1;32m    888\u001b[0m         \u001b[39mself\u001b[39m\u001b[39m.\u001b[39mexpr,\n\u001b[1;32m    889\u001b[0m         memo\u001b[39m=\u001b[39mmemo,\n\u001b[1;32m    890\u001b[0m         print_node_on_error\u001b[39m=\u001b[39m\u001b[39mself\u001b[39m\u001b[39m.\u001b[39mrec_eval_print_node_on_error,\n\u001b[1;32m    891\u001b[0m     )\n\u001b[0;32m--> 892\u001b[0m     rval \u001b[39m=\u001b[39m \u001b[39mself\u001b[39;49m\u001b[39m.\u001b[39;49mfn(pyll_rval)\n\u001b[1;32m    894\u001b[0m \u001b[39mif\u001b[39;00m \u001b[39misinstance\u001b[39m(rval, (\u001b[39mfloat\u001b[39m, \u001b[39mint\u001b[39m, np\u001b[39m.\u001b[39mnumber)):\n\u001b[1;32m    895\u001b[0m     dict_rval \u001b[39m=\u001b[39m {\u001b[39m\"\u001b[39m\u001b[39mloss\u001b[39m\u001b[39m\"\u001b[39m: \u001b[39mfloat\u001b[39m(rval), \u001b[39m\"\u001b[39m\u001b[39mstatus\u001b[39m\u001b[39m\"\u001b[39m: STATUS_OK}\n",
      "\u001b[1;32m/Users/mymac/travelers/xgboost_hurdle.ipynb Cell 12\u001b[0m line \u001b[0;36m1\n\u001b[1;32m     <a href='vscode-notebook-cell:/Users/mymac/travelers/xgboost_hurdle.ipynb#X13sZmlsZQ%3D%3D?line=10'>11</a>\u001b[0m clf \u001b[39m=\u001b[39m xgb\u001b[39m.\u001b[39mXGBRegressor(n_estimators\u001b[39m=\u001b[39m\u001b[39mint\u001b[39m(space[\u001b[39m'\u001b[39m\u001b[39mn_estimators\u001b[39m\u001b[39m'\u001b[39m]), max_depth\u001b[39m=\u001b[39m\u001b[39mint\u001b[39m(space[\u001b[39m'\u001b[39m\u001b[39mmax_depth\u001b[39m\u001b[39m'\u001b[39m]), gamma\u001b[39m=\u001b[39mspace[\u001b[39m'\u001b[39m\u001b[39mgamma\u001b[39m\u001b[39m'\u001b[39m],\n\u001b[1;32m     <a href='vscode-notebook-cell:/Users/mymac/travelers/xgboost_hurdle.ipynb#X13sZmlsZQ%3D%3D?line=11'>12</a>\u001b[0m                        reg_alpha\u001b[39m=\u001b[39m\u001b[39mint\u001b[39m(space[\u001b[39m'\u001b[39m\u001b[39mreg_alpha\u001b[39m\u001b[39m'\u001b[39m]), min_child_weight\u001b[39m=\u001b[39m\u001b[39mint\u001b[39m(space[\u001b[39m'\u001b[39m\u001b[39mmin_child_weight\u001b[39m\u001b[39m'\u001b[39m]),\n\u001b[1;32m     <a href='vscode-notebook-cell:/Users/mymac/travelers/xgboost_hurdle.ipynb#X13sZmlsZQ%3D%3D?line=12'>13</a>\u001b[0m                        colsample_bytree\u001b[39m=\u001b[39m\u001b[39mint\u001b[39m(space[\u001b[39m'\u001b[39m\u001b[39mcolsample_bytree\u001b[39m\u001b[39m'\u001b[39m]), objective\u001b[39m=\u001b[39m\u001b[39m'\u001b[39m\u001b[39mreg:logistic\u001b[39m\u001b[39m'\u001b[39m)\n\u001b[1;32m     <a href='vscode-notebook-cell:/Users/mymac/travelers/xgboost_hurdle.ipynb#X13sZmlsZQ%3D%3D?line=14'>15</a>\u001b[0m evaluation \u001b[39m=\u001b[39m [(clm_x_val, clm_y_val)]\n\u001b[0;32m---> <a href='vscode-notebook-cell:/Users/mymac/travelers/xgboost_hurdle.ipynb#X13sZmlsZQ%3D%3D?line=16'>17</a>\u001b[0m clf\u001b[39m.\u001b[39;49mfit(clm_x_train, clm_y_train, eval_set\u001b[39m=\u001b[39;49mevaluation, early_stopping_rounds\u001b[39m=\u001b[39;49m\u001b[39m100\u001b[39;49m, verbose\u001b[39m=\u001b[39;49m\u001b[39mFalse\u001b[39;49;00m)\n\u001b[1;32m     <a href='vscode-notebook-cell:/Users/mymac/travelers/xgboost_hurdle.ipynb#X13sZmlsZQ%3D%3D?line=18'>19</a>\u001b[0m pred \u001b[39m=\u001b[39m clf\u001b[39m.\u001b[39mpredict(clm_x_test) \u001b[39m>\u001b[39m\u001b[39m=\u001b[39m \u001b[39m0.5\u001b[39m\n\u001b[1;32m     <a href='vscode-notebook-cell:/Users/mymac/travelers/xgboost_hurdle.ipynb#X13sZmlsZQ%3D%3D?line=20'>21</a>\u001b[0m \u001b[39m# loss = accuracy_score(clm_y_test, pred)\u001b[39;00m\n\u001b[1;32m     <a href='vscode-notebook-cell:/Users/mymac/travelers/xgboost_hurdle.ipynb#X13sZmlsZQ%3D%3D?line=21'>22</a>\u001b[0m \n\u001b[1;32m     <a href='vscode-notebook-cell:/Users/mymac/travelers/xgboost_hurdle.ipynb#X13sZmlsZQ%3D%3D?line=22'>23</a>\u001b[0m \u001b[39m# print(f'Test loss: {loss}')\u001b[39;00m\n\u001b[1;32m     <a href='vscode-notebook-cell:/Users/mymac/travelers/xgboost_hurdle.ipynb#X13sZmlsZQ%3D%3D?line=23'>24</a>\u001b[0m \n\u001b[1;32m     <a href='vscode-notebook-cell:/Users/mymac/travelers/xgboost_hurdle.ipynb#X13sZmlsZQ%3D%3D?line=24'>25</a>\u001b[0m \u001b[39m# return {'loss': -loss, 'status': STATUS_OK }\u001b[39;00m\n",
      "File \u001b[0;32m~/miniforge3/envs/travelers/lib/python3.11/site-packages/xgboost/core.py:620\u001b[0m, in \u001b[0;36mrequire_keyword_args.<locals>.throw_if.<locals>.inner_f\u001b[0;34m(*args, **kwargs)\u001b[0m\n\u001b[1;32m    618\u001b[0m \u001b[39mfor\u001b[39;00m k, arg \u001b[39min\u001b[39;00m \u001b[39mzip\u001b[39m(sig\u001b[39m.\u001b[39mparameters, args):\n\u001b[1;32m    619\u001b[0m     kwargs[k] \u001b[39m=\u001b[39m arg\n\u001b[0;32m--> 620\u001b[0m \u001b[39mreturn\u001b[39;00m func(\u001b[39m*\u001b[39;49m\u001b[39m*\u001b[39;49mkwargs)\n",
      "File \u001b[0;32m~/miniforge3/envs/travelers/lib/python3.11/site-packages/xgboost/sklearn.py:1025\u001b[0m, in \u001b[0;36mXGBModel.fit\u001b[0;34m(self, X, y, sample_weight, base_margin, eval_set, eval_metric, early_stopping_rounds, verbose, xgb_model, sample_weight_eval_set, base_margin_eval_set, feature_weights, callbacks)\u001b[0m\n\u001b[1;32m   1014\u001b[0m     obj \u001b[39m=\u001b[39m \u001b[39mNone\u001b[39;00m\n\u001b[1;32m   1016\u001b[0m (\n\u001b[1;32m   1017\u001b[0m     model,\n\u001b[1;32m   1018\u001b[0m     metric,\n\u001b[0;32m   (...)\u001b[0m\n\u001b[1;32m   1023\u001b[0m     xgb_model, eval_metric, params, early_stopping_rounds, callbacks\n\u001b[1;32m   1024\u001b[0m )\n\u001b[0;32m-> 1025\u001b[0m \u001b[39mself\u001b[39m\u001b[39m.\u001b[39m_Booster \u001b[39m=\u001b[39m train(\n\u001b[1;32m   1026\u001b[0m     params,\n\u001b[1;32m   1027\u001b[0m     train_dmatrix,\n\u001b[1;32m   1028\u001b[0m     \u001b[39mself\u001b[39;49m\u001b[39m.\u001b[39;49mget_num_boosting_rounds(),\n\u001b[1;32m   1029\u001b[0m     evals\u001b[39m=\u001b[39;49mevals,\n\u001b[1;32m   1030\u001b[0m     early_stopping_rounds\u001b[39m=\u001b[39;49mearly_stopping_rounds,\n\u001b[1;32m   1031\u001b[0m     evals_result\u001b[39m=\u001b[39;49mevals_result,\n\u001b[1;32m   1032\u001b[0m     obj\u001b[39m=\u001b[39;49mobj,\n\u001b[1;32m   1033\u001b[0m     custom_metric\u001b[39m=\u001b[39;49mmetric,\n\u001b[1;32m   1034\u001b[0m     verbose_eval\u001b[39m=\u001b[39;49mverbose,\n\u001b[1;32m   1035\u001b[0m     xgb_model\u001b[39m=\u001b[39;49mmodel,\n\u001b[1;32m   1036\u001b[0m     callbacks\u001b[39m=\u001b[39;49mcallbacks,\n\u001b[1;32m   1037\u001b[0m )\n\u001b[1;32m   1039\u001b[0m \u001b[39mself\u001b[39m\u001b[39m.\u001b[39m_set_evaluation_result(evals_result)\n\u001b[1;32m   1040\u001b[0m \u001b[39mreturn\u001b[39;00m \u001b[39mself\u001b[39m\n",
      "File \u001b[0;32m~/miniforge3/envs/travelers/lib/python3.11/site-packages/xgboost/core.py:620\u001b[0m, in \u001b[0;36mrequire_keyword_args.<locals>.throw_if.<locals>.inner_f\u001b[0;34m(*args, **kwargs)\u001b[0m\n\u001b[1;32m    618\u001b[0m \u001b[39mfor\u001b[39;00m k, arg \u001b[39min\u001b[39;00m \u001b[39mzip\u001b[39m(sig\u001b[39m.\u001b[39mparameters, args):\n\u001b[1;32m    619\u001b[0m     kwargs[k] \u001b[39m=\u001b[39m arg\n\u001b[0;32m--> 620\u001b[0m \u001b[39mreturn\u001b[39;00m func(\u001b[39m*\u001b[39;49m\u001b[39m*\u001b[39;49mkwargs)\n",
      "File \u001b[0;32m~/miniforge3/envs/travelers/lib/python3.11/site-packages/xgboost/training.py:186\u001b[0m, in \u001b[0;36mtrain\u001b[0;34m(params, dtrain, num_boost_round, evals, obj, feval, maximize, early_stopping_rounds, evals_result, verbose_eval, xgb_model, callbacks, custom_metric)\u001b[0m\n\u001b[1;32m    184\u001b[0m         \u001b[39mbreak\u001b[39;00m\n\u001b[1;32m    185\u001b[0m     bst\u001b[39m.\u001b[39mupdate(dtrain, i, obj)\n\u001b[0;32m--> 186\u001b[0m     \u001b[39mif\u001b[39;00m cb_container\u001b[39m.\u001b[39;49mafter_iteration(bst, i, dtrain, evals):\n\u001b[1;32m    187\u001b[0m         \u001b[39mbreak\u001b[39;00m\n\u001b[1;32m    189\u001b[0m bst \u001b[39m=\u001b[39m cb_container\u001b[39m.\u001b[39mafter_training(bst)\n",
      "File \u001b[0;32m~/miniforge3/envs/travelers/lib/python3.11/site-packages/xgboost/callback.py:247\u001b[0m, in \u001b[0;36mCallbackContainer.after_iteration\u001b[0;34m(self, model, epoch, dtrain, evals)\u001b[0m\n\u001b[1;32m    245\u001b[0m     metric_score \u001b[39m=\u001b[39m [(n, \u001b[39mfloat\u001b[39m(s)) \u001b[39mfor\u001b[39;00m n, s \u001b[39min\u001b[39;00m metric_score_str]\n\u001b[1;32m    246\u001b[0m     \u001b[39mself\u001b[39m\u001b[39m.\u001b[39m_update_history(metric_score, epoch)\n\u001b[0;32m--> 247\u001b[0m ret \u001b[39m=\u001b[39m \u001b[39many\u001b[39m(c\u001b[39m.\u001b[39mafter_iteration(model, epoch, \u001b[39mself\u001b[39m\u001b[39m.\u001b[39mhistory)\n\u001b[1;32m    248\u001b[0m           \u001b[39mfor\u001b[39;00m c \u001b[39min\u001b[39;00m \u001b[39mself\u001b[39m\u001b[39m.\u001b[39mcallbacks)\n\u001b[1;32m    249\u001b[0m \u001b[39mreturn\u001b[39;00m ret\n",
      "File \u001b[0;32m~/miniforge3/envs/travelers/lib/python3.11/site-packages/xgboost/callback.py:247\u001b[0m, in \u001b[0;36m<genexpr>\u001b[0;34m(.0)\u001b[0m\n\u001b[1;32m    245\u001b[0m     metric_score \u001b[39m=\u001b[39m [(n, \u001b[39mfloat\u001b[39m(s)) \u001b[39mfor\u001b[39;00m n, s \u001b[39min\u001b[39;00m metric_score_str]\n\u001b[1;32m    246\u001b[0m     \u001b[39mself\u001b[39m\u001b[39m.\u001b[39m_update_history(metric_score, epoch)\n\u001b[0;32m--> 247\u001b[0m ret \u001b[39m=\u001b[39m \u001b[39many\u001b[39m(c\u001b[39m.\u001b[39;49mafter_iteration(model, epoch, \u001b[39mself\u001b[39;49m\u001b[39m.\u001b[39;49mhistory)\n\u001b[1;32m    248\u001b[0m           \u001b[39mfor\u001b[39;00m c \u001b[39min\u001b[39;00m \u001b[39mself\u001b[39m\u001b[39m.\u001b[39mcallbacks)\n\u001b[1;32m    249\u001b[0m \u001b[39mreturn\u001b[39;00m ret\n",
      "File \u001b[0;32m~/miniforge3/envs/travelers/lib/python3.11/site-packages/xgboost/callback.py:408\u001b[0m, in \u001b[0;36mEarlyStopping.after_iteration\u001b[0;34m(self, model, epoch, evals_log)\u001b[0m\n\u001b[1;32m    405\u001b[0m         \u001b[39mreturn\u001b[39;00m \u001b[39mTrue\u001b[39;00m\n\u001b[1;32m    406\u001b[0m     \u001b[39mreturn\u001b[39;00m \u001b[39mFalse\u001b[39;00m\n\u001b[0;32m--> 408\u001b[0m \u001b[39mdef\u001b[39;00m \u001b[39mafter_iteration\u001b[39m(\u001b[39mself\u001b[39m, model: _Model, epoch: \u001b[39mint\u001b[39m,\n\u001b[1;32m    409\u001b[0m                     evals_log: TrainingCallback\u001b[39m.\u001b[39mEvalsLog) \u001b[39m-\u001b[39m\u001b[39m>\u001b[39m \u001b[39mbool\u001b[39m:\n\u001b[1;32m    410\u001b[0m     epoch \u001b[39m+\u001b[39m\u001b[39m=\u001b[39m \u001b[39mself\u001b[39m\u001b[39m.\u001b[39mstarting_round  \u001b[39m# training continuation\u001b[39;00m\n\u001b[1;32m    411\u001b[0m     msg \u001b[39m=\u001b[39m \u001b[39m'\u001b[39m\u001b[39mMust have at least 1 validation dataset for early stopping.\u001b[39m\u001b[39m'\u001b[39m\n",
      "\u001b[0;31mKeyboardInterrupt\u001b[0m: "
     ]
    }
   ],
   "source": [
    "space = {'max_depth': hp.quniform('max_depth', 3, 18, 1),\n",
    "        'gamma': hp.uniform ('gamma', 1, 9),\n",
    "        'reg_alpha' : hp.quniform('reg_alpha', 40, 180, 1),\n",
    "        'reg_lambda' : hp.uniform('reg_lambda', 0, 1),\n",
    "        'colsample_bytree' : hp.uniform('colsample_bytree', 0.5, 1),\n",
    "        'min_child_weight' : hp.quniform('min_child_weight', 0, 10, 1),\n",
    "        'n_estimators': hp.uniform('n_estimators', 5, 500)\n",
    "        }\n",
    "\n",
    "def objective(space):\n",
    "    clf = xgb.XGBRegressor(n_estimators=int(space['n_estimators']), max_depth=int(space['max_depth']), gamma=space['gamma'],\n",
    "                           reg_alpha=int(space['reg_alpha']), min_child_weight=int(space['min_child_weight']),\n",
    "                           colsample_bytree=int(space['colsample_bytree']), objective='reg:logistic')\n",
    "    \n",
    "    evaluation = [(clm_x_val, clm_y_val)]\n",
    "    \n",
    "    clf.fit(clm_x_train, clm_y_train, eval_set=evaluation, early_stopping_rounds=100, verbose=False)\n",
    "    \n",
    "    pred = clf.predict(clm_x_test) >= 0.5\n",
    "\n",
    "    # loss = accuracy_score(clm_y_test, pred)\n",
    "\n",
    "    # print(f'Test loss: {loss}')\n",
    "\n",
    "    # return {'loss': -loss, 'status': STATUS_OK }\n",
    "\n",
    "    try:\n",
    "        loss = accuracy_score(clm_y_test, pred)\n",
    "\n",
    "        print(f'Test loss: {loss}')\n",
    "\n",
    "        return {'loss': -loss, 'status': STATUS_OK }\n",
    "    \n",
    "    except:\n",
    "        print('here')\n",
    "        return {'loss': np.inf, 'status': STATUS_OK }\n",
    "\n",
    "trials = Trials()\n",
    "\n",
    "best_hyperparams = fmin(fn=objective,\n",
    "                        space=space,\n",
    "                        algo=tpe.suggest,\n",
    "                        max_evals=100,\n",
    "                        trials=trials)\n",
    "\n",
    "print(f'Best hyperparameters: \\n{best_hyperparams}')"
   ]
  },
  {
   "cell_type": "code",
   "execution_count": 27,
   "metadata": {},
   "outputs": [
    {
     "data": {
      "text/html": [
       "<style>#sk-container-id-1 {color: black;background-color: white;}#sk-container-id-1 pre{padding: 0;}#sk-container-id-1 div.sk-toggleable {background-color: white;}#sk-container-id-1 label.sk-toggleable__label {cursor: pointer;display: block;width: 100%;margin-bottom: 0;padding: 0.3em;box-sizing: border-box;text-align: center;}#sk-container-id-1 label.sk-toggleable__label-arrow:before {content: \"▸\";float: left;margin-right: 0.25em;color: #696969;}#sk-container-id-1 label.sk-toggleable__label-arrow:hover:before {color: black;}#sk-container-id-1 div.sk-estimator:hover label.sk-toggleable__label-arrow:before {color: black;}#sk-container-id-1 div.sk-toggleable__content {max-height: 0;max-width: 0;overflow: hidden;text-align: left;background-color: #f0f8ff;}#sk-container-id-1 div.sk-toggleable__content pre {margin: 0.2em;color: black;border-radius: 0.25em;background-color: #f0f8ff;}#sk-container-id-1 input.sk-toggleable__control:checked~div.sk-toggleable__content {max-height: 200px;max-width: 100%;overflow: auto;}#sk-container-id-1 input.sk-toggleable__control:checked~label.sk-toggleable__label-arrow:before {content: \"▾\";}#sk-container-id-1 div.sk-estimator input.sk-toggleable__control:checked~label.sk-toggleable__label {background-color: #d4ebff;}#sk-container-id-1 div.sk-label input.sk-toggleable__control:checked~label.sk-toggleable__label {background-color: #d4ebff;}#sk-container-id-1 input.sk-hidden--visually {border: 0;clip: rect(1px 1px 1px 1px);clip: rect(1px, 1px, 1px, 1px);height: 1px;margin: -1px;overflow: hidden;padding: 0;position: absolute;width: 1px;}#sk-container-id-1 div.sk-estimator {font-family: monospace;background-color: #f0f8ff;border: 1px dotted black;border-radius: 0.25em;box-sizing: border-box;margin-bottom: 0.5em;}#sk-container-id-1 div.sk-estimator:hover {background-color: #d4ebff;}#sk-container-id-1 div.sk-parallel-item::after {content: \"\";width: 100%;border-bottom: 1px solid gray;flex-grow: 1;}#sk-container-id-1 div.sk-label:hover label.sk-toggleable__label {background-color: #d4ebff;}#sk-container-id-1 div.sk-serial::before {content: \"\";position: absolute;border-left: 1px solid gray;box-sizing: border-box;top: 0;bottom: 0;left: 50%;z-index: 0;}#sk-container-id-1 div.sk-serial {display: flex;flex-direction: column;align-items: center;background-color: white;padding-right: 0.2em;padding-left: 0.2em;position: relative;}#sk-container-id-1 div.sk-item {position: relative;z-index: 1;}#sk-container-id-1 div.sk-parallel {display: flex;align-items: stretch;justify-content: center;background-color: white;position: relative;}#sk-container-id-1 div.sk-item::before, #sk-container-id-1 div.sk-parallel-item::before {content: \"\";position: absolute;border-left: 1px solid gray;box-sizing: border-box;top: 0;bottom: 0;left: 50%;z-index: -1;}#sk-container-id-1 div.sk-parallel-item {display: flex;flex-direction: column;z-index: 1;position: relative;background-color: white;}#sk-container-id-1 div.sk-parallel-item:first-child::after {align-self: flex-end;width: 50%;}#sk-container-id-1 div.sk-parallel-item:last-child::after {align-self: flex-start;width: 50%;}#sk-container-id-1 div.sk-parallel-item:only-child::after {width: 0;}#sk-container-id-1 div.sk-dashed-wrapped {border: 1px dashed gray;margin: 0 0.4em 0.5em 0.4em;box-sizing: border-box;padding-bottom: 0.4em;background-color: white;}#sk-container-id-1 div.sk-label label {font-family: monospace;font-weight: bold;display: inline-block;line-height: 1.2em;}#sk-container-id-1 div.sk-label-container {text-align: center;}#sk-container-id-1 div.sk-container {/* jupyter's `normalize.less` sets `[hidden] { display: none; }` but bootstrap.min.css set `[hidden] { display: none !important; }` so we also need the `!important` here to be able to override the default hidden behavior on the sphinx rendered scikit-learn.org. See: https://github.com/scikit-learn/scikit-learn/issues/21755 */display: inline-block !important;position: relative;}#sk-container-id-1 div.sk-text-repr-fallback {display: none;}</style><div id=\"sk-container-id-1\" class=\"sk-top-container\"><div class=\"sk-text-repr-fallback\"><pre>XGBRegressor(base_score=None, booster=None, callbacks=None,\n",
       "             colsample_bylevel=None, colsample_bynode=None,\n",
       "             colsample_bytree=0.8180099505659084, early_stopping_rounds=None,\n",
       "             enable_categorical=False, eval_metric=None, feature_types=None,\n",
       "             gamma=1.0643130726713133, gpu_id=None, grow_policy=None,\n",
       "             importance_type=None, interaction_constraints=None,\n",
       "             learning_rate=None, max_bin=None, max_cat_threshold=None,\n",
       "             max_cat_to_onehot=None, max_delta_step=None, max_depth=16,\n",
       "             max_leaves=None, min_child_weight=9, missing=nan,\n",
       "             monotone_constraints=None, n_estimators=485, n_jobs=None,\n",
       "             num_parallel_tree=None, objective=&#x27;reg:logistic&#x27;, predictor=None, ...)</pre><b>In a Jupyter environment, please rerun this cell to show the HTML representation or trust the notebook. <br />On GitHub, the HTML representation is unable to render, please try loading this page with nbviewer.org.</b></div><div class=\"sk-container\" hidden><div class=\"sk-item\"><div class=\"sk-estimator sk-toggleable\"><input class=\"sk-toggleable__control sk-hidden--visually\" id=\"sk-estimator-id-1\" type=\"checkbox\" checked><label for=\"sk-estimator-id-1\" class=\"sk-toggleable__label sk-toggleable__label-arrow\">XGBRegressor</label><div class=\"sk-toggleable__content\"><pre>XGBRegressor(base_score=None, booster=None, callbacks=None,\n",
       "             colsample_bylevel=None, colsample_bynode=None,\n",
       "             colsample_bytree=0.8180099505659084, early_stopping_rounds=None,\n",
       "             enable_categorical=False, eval_metric=None, feature_types=None,\n",
       "             gamma=1.0643130726713133, gpu_id=None, grow_policy=None,\n",
       "             importance_type=None, interaction_constraints=None,\n",
       "             learning_rate=None, max_bin=None, max_cat_threshold=None,\n",
       "             max_cat_to_onehot=None, max_delta_step=None, max_depth=16,\n",
       "             max_leaves=None, min_child_weight=9, missing=nan,\n",
       "             monotone_constraints=None, n_estimators=485, n_jobs=None,\n",
       "             num_parallel_tree=None, objective=&#x27;reg:logistic&#x27;, predictor=None, ...)</pre></div></div></div></div></div>"
      ],
      "text/plain": [
       "XGBRegressor(base_score=None, booster=None, callbacks=None,\n",
       "             colsample_bylevel=None, colsample_bynode=None,\n",
       "             colsample_bytree=0.8180099505659084, early_stopping_rounds=None,\n",
       "             enable_categorical=False, eval_metric=None, feature_types=None,\n",
       "             gamma=1.0643130726713133, gpu_id=None, grow_policy=None,\n",
       "             importance_type=None, interaction_constraints=None,\n",
       "             learning_rate=None, max_bin=None, max_cat_threshold=None,\n",
       "             max_cat_to_onehot=None, max_delta_step=None, max_depth=16,\n",
       "             max_leaves=None, min_child_weight=9, missing=nan,\n",
       "             monotone_constraints=None, n_estimators=485, n_jobs=None,\n",
       "             num_parallel_tree=None, objective='reg:logistic', predictor=None, ...)"
      ]
     },
     "execution_count": 27,
     "metadata": {},
     "output_type": "execute_result"
    }
   ],
   "source": [
    "# params = {'colsample_bytree': 0.8180099505659084, 'gamma': 1.0643130726713133, 'max_depth': 16.0, 'min_child_weight': 9.0, 'n_estimators': 485.8553449406332, 'reg_alpha': 40.0, 'reg_lambda': 0.8070198480292471}\n",
    "# params['max_depth'] = int(params['max_depth'])\n",
    "# params['min_child_weight'] = int(params['min_child_weight'])\n",
    "# params['n_estimators'] = int(params['n_estimators'])\n",
    "# params['reg_alpha'] = int(params['reg_alpha'])\n",
    "# params['objective'] = 'reg:logistic'\n",
    "# clm_model = xgb.XGBRegressor(**params)\n",
    "# clm_model.fit(clm_x_train, clm_y_train)"
   ]
  },
  {
   "cell_type": "code",
   "execution_count": 29,
   "metadata": {},
   "outputs": [
    {
     "data": {
      "text/plain": [
       "0.7847281525761457"
      ]
     },
     "execution_count": 29,
     "metadata": {},
     "output_type": "execute_result"
    }
   ],
   "source": [
    "pred = clm_model.predict(clm_x_test) >= 0.5\n",
    "accuracy_score(clm_y_test, pred)"
   ]
  },
  {
   "cell_type": "code",
   "execution_count": 32,
   "metadata": {},
   "outputs": [
    {
     "name": "stdout",
     "output_type": "stream",
     "text": [
      "(array([False,  True]), array([16180,  6439]))\n",
      "clm\n",
      "0    21077\n",
      "1     1542\n",
      "Name: count, dtype: int64\n"
     ]
    }
   ],
   "source": [
    "all_preds = clm_model.predict(clm_df.drop(columns=['clm'])) >= 0.5\n",
    "\n",
    "print(np.unique(all_preds, return_counts=True))\n",
    "print(clm_df['clm'].value_counts())"
   ]
  },
  {
   "cell_type": "markdown",
   "metadata": {},
   "source": [
    "##### numclaims model"
   ]
  },
  {
   "cell_type": "code",
   "execution_count": 14,
   "metadata": {},
   "outputs": [
    {
     "data": {
      "text/plain": [
       "numclaims\n",
       "0    21077\n",
       "1     1439\n",
       "2       94\n",
       "3        9\n",
       "Name: count, dtype: int64"
      ]
     },
     "execution_count": 14,
     "metadata": {},
     "output_type": "execute_result"
    }
   ],
   "source": [
    "num_claims_df = df_dummies.drop(columns=['clm', 'claimcst0'])\n",
    "\n",
    "num_claims_df['numclaims'].value_counts()"
   ]
  },
  {
   "cell_type": "code",
   "execution_count": 15,
   "metadata": {},
   "outputs": [
    {
     "name": "stdout",
     "output_type": "stream",
     "text": [
      "(21077, 64)\n",
      "(1439, 64)\n",
      "(94, 64)\n",
      "(9, 64)\n"
     ]
    }
   ],
   "source": [
    "majority_class = num_claims_df[num_claims_df['numclaims'] == 0]\n",
    "minority_class_1 = num_claims_df[num_claims_df['numclaims'] == 1]\n",
    "minority_class_2 = num_claims_df[num_claims_df['numclaims'] == 2]\n",
    "minority_class_3 = num_claims_df[num_claims_df['numclaims'] == 3]\n",
    "\n",
    "print(majority_class.shape)\n",
    "print(minority_class_1.shape)\n",
    "print(minority_class_2.shape)\n",
    "print(minority_class_3.shape)"
   ]
  },
  {
   "cell_type": "code",
   "execution_count": 16,
   "metadata": {},
   "outputs": [
    {
     "name": "stdout",
     "output_type": "stream",
     "text": [
      "(21077, 64)\n",
      "(21077, 64)\n",
      "(21077, 64)\n"
     ]
    }
   ],
   "source": [
    "oversampled_minority_1 = resample(minority_class_1, replace=True, n_samples=len(majority_class))\n",
    "oversampled_minority_2 = resample(minority_class_2, replace=True, n_samples=len(majority_class))\n",
    "oversampled_minority_3 = resample(minority_class_3, replace=True, n_samples=len(majority_class))\n",
    "\n",
    "print(oversampled_minority_1.shape)\n",
    "print(oversampled_minority_2.shape)\n",
    "print(oversampled_minority_3.shape)"
   ]
  },
  {
   "cell_type": "code",
   "execution_count": 17,
   "metadata": {},
   "outputs": [
    {
     "data": {
      "text/plain": [
       "(84308, 64)"
      ]
     },
     "execution_count": 17,
     "metadata": {},
     "output_type": "execute_result"
    }
   ],
   "source": [
    "num_claims_balanced_df = pd.concat([majority_class, oversampled_minority_1, oversampled_minority_2, oversampled_minority_3])\n",
    "num_claims_balanced_df = num_claims_balanced_df.sample(frac=1)\n",
    "num_claims_balanced_df.reset_index(drop=True, inplace=True)\n",
    "\n",
    "num_claims_balanced_df.shape"
   ]
  },
  {
   "cell_type": "code",
   "execution_count": 18,
   "metadata": {},
   "outputs": [
    {
     "name": "stdout",
     "output_type": "stream",
     "text": [
      "(84308, 63) (84308,)\n"
     ]
    }
   ],
   "source": [
    "num_claims_x, num_claims_y = num_claims_balanced_df.drop(columns=['numclaims']), num_claims_balanced_df['numclaims']\n",
    "\n",
    "print(num_claims_x.shape, num_claims_y.shape)"
   ]
  },
  {
   "cell_type": "code",
   "execution_count": 19,
   "metadata": {},
   "outputs": [
    {
     "name": "stdout",
     "output_type": "stream",
     "text": [
      "(37470, 63) (18735, 63) (28103, 63) (37470,) (18735,) (28103,)\n"
     ]
    }
   ],
   "source": [
    "num_claims_x_train, num_claims_x_test, num_claims_y_train, num_claims_y_test = train_test_split(num_claims_x, num_claims_y, test_size=1 / 3)\n",
    "num_claims_x_train, num_claims_x_val, num_claims_y_train, num_claims_y_val = train_test_split(num_claims_x_train, num_claims_y_train, test_size=1 / 3)\n",
    "\n",
    "print(num_claims_x_train.shape, num_claims_x_val.shape, num_claims_x_test.shape, num_claims_y_train.shape, num_claims_y_val.shape, num_claims_y_test.shape)"
   ]
  },
  {
   "cell_type": "code",
   "execution_count": 20,
   "metadata": {},
   "outputs": [
    {
     "name": "stdout",
     "output_type": "stream",
     "text": [
      "Test loss: 0.10956342182033899                         \n",
      "Test loss: 0.11052146920544302                                                    \n",
      "Test loss: 0.13748135363514838                                                    \n",
      "Test loss: 0.10040556184421702                                                    \n",
      "Test loss: 0.13081125291720178                                                    \n",
      "Test loss: 0.0881548858106303                                                     \n",
      "Test loss: 0.1639894841113023                                                     \n",
      "Test loss: 0.11344351499730741                                                   \n",
      "Test loss: 0.12920616060158988                                                   \n",
      "Test loss: 0.11016853604392085                                                   \n",
      "Test loss: 0.10817553786503083                                                    \n",
      "Test loss: 0.10832634493197686                                                    \n",
      "Test loss: 0.11670937844549713                                                    \n",
      "Test loss: 0.08875255833655771                                                    \n",
      "Test loss: 0.11032159488036411                                                    \n",
      "Test loss: 0.0935092231107261                                                     \n",
      "Test loss: 0.09128392227892734                                                    \n",
      "Test loss: 0.10675886714499427                                                    \n",
      "Test loss: 0.12544361551367786                                                    \n",
      "Test loss: 0.101060535420764                                                      \n",
      "Test loss: 0.07529765750099651                                                    \n",
      "Test loss: 0.07572675555750252                                                     \n",
      "Test loss: 0.07833332822320668                                                     \n",
      "Test loss: 0.07442008282532207                                                     \n",
      "Test loss: 0.07649892748707954                                                     \n",
      "Test loss: 0.11223502165628886                                                     \n",
      "Test loss: 0.08164212099102437                                                     \n",
      "Test loss: 0.11463737214993971                                                     \n",
      "Test loss: 0.09853258263475503                                                     \n",
      "Test loss: 0.08771392631858033                                                     \n",
      "Test loss: 0.09024265969939779                                                     \n",
      "Test loss: 0.07637000865408025                                                     \n",
      "Test loss: 0.08786033200478251                                                     \n",
      "Test loss: 0.0829202584567849                                                      \n",
      "Test loss: 0.08055891556377995                                                     \n",
      "Test loss: 0.10046347008573088                                                     \n",
      "Test loss: 0.1115822967674532                                                      \n",
      "Test loss: 0.10041665569490497                                                     \n",
      "Test loss: 0.09827670391628136                                                     \n",
      "Test loss: 0.11462693910000364                                                     \n",
      "Test loss: 0.08357437819590419                                                     \n",
      "Test loss: 0.10136876541250134                                                     \n",
      "Test loss: 0.09275178893229982                                                     \n",
      "Test loss: 0.10402406834022002                                                     \n",
      "Test loss: 0.0850958772869983                                                      \n",
      "Test loss: 0.09563330050012135                                                     \n",
      "Test loss: 0.11452522947315412                                                     \n",
      "Test loss: 0.268341251124463                                                       \n",
      "Test loss: 0.10191293715060727                                                     \n",
      "Test loss: 0.09559441040376376                                                     \n",
      "Test loss: 0.07802369725484226                                                     \n",
      "Test loss: 0.09131621212287601                                                     \n",
      "Test loss: 0.11233621078402442                                                     \n",
      "Test loss: 0.10765862352307881                                                     \n",
      "Test loss: 0.08063700754694283                                                     \n",
      "Test loss: 0.10141206797656088                                                     \n",
      "Test loss: 0.11130522113815877                                                     \n",
      "Test loss: 0.12043229919723458                                                     \n",
      "Test loss: 0.07746936647665711                                                     \n",
      "Test loss: 0.10382374873684967                                                     \n",
      "Test loss: 0.08545824465556653                                                     \n",
      "Test loss: 0.11442926138596642                                                     \n",
      "Test loss: 0.0814067514135089                                                      \n",
      "Test loss: 0.08868609919580653                                                     \n",
      "Test loss: 0.10469887122211716                                                     \n",
      "Test loss: 0.07312019089692426                                                     \n",
      "Test loss: 0.07846819180373218                                                     \n",
      "Test loss: 0.07307143123917263                                                     \n",
      "Test loss: 0.07978504210740528                                                     \n",
      "Test loss: 0.07847312911037906                                                     \n",
      "Test loss: 0.07499519058957291                                                     \n",
      "Test loss: 0.08878834210066176                                                     \n",
      "Test loss: 0.07353253767827699                                                     \n",
      "Test loss: 0.0941855788897963                                                      \n",
      "Test loss: 0.07844727568183284                                                     \n",
      "Test loss: 0.08162995229739628                                                     \n",
      "Test loss: 0.09153019975289278                                                     \n",
      "Test loss: 0.08907249651705948                                                     \n",
      "Test loss: 0.0735125113599167                                                      \n",
      "Test loss: 0.08892550484515772                                                     \n",
      "Test loss: 0.10307097893193834                                                     \n",
      "Test loss: 0.0854868947214417                                                      \n",
      "Test loss: 0.10816247309182772                                                     \n",
      "Test loss: 0.10012761597395237                                                     \n",
      "Test loss: 0.11204099322392796                                                     \n",
      "Test loss: 0.07782433946288023                                                     \n",
      "Test loss: 0.12817024148913506                                                     \n",
      "Test loss: 0.08532585069731943                                                     \n",
      "Test loss: 0.08068324857600927                                                     \n",
      "Test loss: 0.10196304163780721                                                     \n",
      "Test loss: 0.10381845939099152                                                     \n",
      "Test loss: 0.09460571784775926                                                     \n",
      "Test loss: 0.0960169781665489                                                      \n",
      "Test loss: 0.08559600115271078                                                     \n",
      "Test loss: 0.0938634879976823                                                      \n",
      "Test loss: 0.09886340542982545                                                     \n",
      "Test loss: 0.07709762471163803                                                     \n",
      "Test loss: 0.10003948746326832                                                     \n",
      "Test loss: 0.07997686996007969                                                     \n",
      "Test loss: 0.11374742297694213                                                     \n",
      "100%|██████████| 100/100 [02:11<00:00,  1.31s/trial, best loss: 0.07307143123917263]\n",
      "Best hyperparameters: \n",
      "{'colsample_bytree': 0.9549427100408518, 'gamma': 1.531490222686555, 'max_depth': 17.0, 'min_child_weight': 2.0, 'n_estimators': 328.50293938973755, 'reg_alpha': 46.0, 'reg_lambda': 0.006139409044508717, 'tweedie_variance_power': 1.8646542717837375}\n"
     ]
    }
   ],
   "source": [
    "space = {'max_depth': hp.quniform('max_depth', 3, 18, 1),\n",
    "        'gamma': hp.uniform ('gamma', 1, 9),\n",
    "        'reg_alpha' : hp.quniform('reg_alpha', 40, 180, 1),\n",
    "        'reg_lambda' : hp.uniform('reg_lambda', 0, 1),\n",
    "        'colsample_bytree' : hp.uniform('colsample_bytree', 0.5, 1),\n",
    "        'min_child_weight' : hp.quniform('min_child_weight', 0, 10, 1),\n",
    "        'n_estimators': hp.uniform('n_estimators', 5, 500),\n",
    "        'tweedie_variance_power': hp.uniform('tweedie_variance_power', 1, 2)\n",
    "        }\n",
    "\n",
    "def objective(space):\n",
    "    power = space['tweedie_variance_power']\n",
    "\n",
    "    clf = xgb.XGBRegressor(n_estimators=int(space['n_estimators']), max_depth=int(space['max_depth']), gamma=space['gamma'],\n",
    "                           reg_alpha=int(space['reg_alpha']), min_child_weight=int(space['min_child_weight']),\n",
    "                           colsample_bytree=int(space['colsample_bytree']), objective='reg:tweedie', tweedie_variance_power=power)\n",
    "    \n",
    "    evaluation = [(num_claims_x_train, num_claims_y_train), (num_claims_x_val, num_claims_y_val)]\n",
    "    \n",
    "    clf.fit(num_claims_x_train, num_claims_y_train, eval_set=evaluation, early_stopping_rounds=100, verbose=False)\n",
    "    \n",
    "\n",
    "    pred = clf.predict(num_claims_x_test)\n",
    "\n",
    "    try:\n",
    "        # pred = np.clip(pred, a_min=0, a_max=None)\n",
    "        # loss = tweedie_loss(y_test, pred, power)\n",
    "        loss = mean_squared_error(num_claims_y_test, pred)\n",
    "\n",
    "        print(f'Test loss: {loss}')\n",
    "\n",
    "        return {'loss': loss, 'status': STATUS_OK }\n",
    "    \n",
    "    except:\n",
    "        return {'loss': np.inf, 'status': STATUS_OK }\n",
    "\n",
    "trials = Trials()\n",
    "\n",
    "best_hyperparams = fmin(fn=objective,\n",
    "                        space=space,\n",
    "                        algo=tpe.suggest,\n",
    "                        max_evals=100,\n",
    "                        trials=trials)\n",
    "\n",
    "print(f'Best hyperparameters: \\n{best_hyperparams}')"
   ]
  },
  {
   "cell_type": "code",
   "execution_count": 21,
   "metadata": {},
   "outputs": [
    {
     "data": {
      "text/html": [
       "<style>#sk-container-id-1 {color: black;background-color: white;}#sk-container-id-1 pre{padding: 0;}#sk-container-id-1 div.sk-toggleable {background-color: white;}#sk-container-id-1 label.sk-toggleable__label {cursor: pointer;display: block;width: 100%;margin-bottom: 0;padding: 0.3em;box-sizing: border-box;text-align: center;}#sk-container-id-1 label.sk-toggleable__label-arrow:before {content: \"▸\";float: left;margin-right: 0.25em;color: #696969;}#sk-container-id-1 label.sk-toggleable__label-arrow:hover:before {color: black;}#sk-container-id-1 div.sk-estimator:hover label.sk-toggleable__label-arrow:before {color: black;}#sk-container-id-1 div.sk-toggleable__content {max-height: 0;max-width: 0;overflow: hidden;text-align: left;background-color: #f0f8ff;}#sk-container-id-1 div.sk-toggleable__content pre {margin: 0.2em;color: black;border-radius: 0.25em;background-color: #f0f8ff;}#sk-container-id-1 input.sk-toggleable__control:checked~div.sk-toggleable__content {max-height: 200px;max-width: 100%;overflow: auto;}#sk-container-id-1 input.sk-toggleable__control:checked~label.sk-toggleable__label-arrow:before {content: \"▾\";}#sk-container-id-1 div.sk-estimator input.sk-toggleable__control:checked~label.sk-toggleable__label {background-color: #d4ebff;}#sk-container-id-1 div.sk-label input.sk-toggleable__control:checked~label.sk-toggleable__label {background-color: #d4ebff;}#sk-container-id-1 input.sk-hidden--visually {border: 0;clip: rect(1px 1px 1px 1px);clip: rect(1px, 1px, 1px, 1px);height: 1px;margin: -1px;overflow: hidden;padding: 0;position: absolute;width: 1px;}#sk-container-id-1 div.sk-estimator {font-family: monospace;background-color: #f0f8ff;border: 1px dotted black;border-radius: 0.25em;box-sizing: border-box;margin-bottom: 0.5em;}#sk-container-id-1 div.sk-estimator:hover {background-color: #d4ebff;}#sk-container-id-1 div.sk-parallel-item::after {content: \"\";width: 100%;border-bottom: 1px solid gray;flex-grow: 1;}#sk-container-id-1 div.sk-label:hover label.sk-toggleable__label {background-color: #d4ebff;}#sk-container-id-1 div.sk-serial::before {content: \"\";position: absolute;border-left: 1px solid gray;box-sizing: border-box;top: 0;bottom: 0;left: 50%;z-index: 0;}#sk-container-id-1 div.sk-serial {display: flex;flex-direction: column;align-items: center;background-color: white;padding-right: 0.2em;padding-left: 0.2em;position: relative;}#sk-container-id-1 div.sk-item {position: relative;z-index: 1;}#sk-container-id-1 div.sk-parallel {display: flex;align-items: stretch;justify-content: center;background-color: white;position: relative;}#sk-container-id-1 div.sk-item::before, #sk-container-id-1 div.sk-parallel-item::before {content: \"\";position: absolute;border-left: 1px solid gray;box-sizing: border-box;top: 0;bottom: 0;left: 50%;z-index: -1;}#sk-container-id-1 div.sk-parallel-item {display: flex;flex-direction: column;z-index: 1;position: relative;background-color: white;}#sk-container-id-1 div.sk-parallel-item:first-child::after {align-self: flex-end;width: 50%;}#sk-container-id-1 div.sk-parallel-item:last-child::after {align-self: flex-start;width: 50%;}#sk-container-id-1 div.sk-parallel-item:only-child::after {width: 0;}#sk-container-id-1 div.sk-dashed-wrapped {border: 1px dashed gray;margin: 0 0.4em 0.5em 0.4em;box-sizing: border-box;padding-bottom: 0.4em;background-color: white;}#sk-container-id-1 div.sk-label label {font-family: monospace;font-weight: bold;display: inline-block;line-height: 1.2em;}#sk-container-id-1 div.sk-label-container {text-align: center;}#sk-container-id-1 div.sk-container {/* jupyter's `normalize.less` sets `[hidden] { display: none; }` but bootstrap.min.css set `[hidden] { display: none !important; }` so we also need the `!important` here to be able to override the default hidden behavior on the sphinx rendered scikit-learn.org. See: https://github.com/scikit-learn/scikit-learn/issues/21755 */display: inline-block !important;position: relative;}#sk-container-id-1 div.sk-text-repr-fallback {display: none;}</style><div id=\"sk-container-id-1\" class=\"sk-top-container\"><div class=\"sk-text-repr-fallback\"><pre>XGBRegressor(base_score=None, booster=None, callbacks=None,\n",
       "             colsample_bylevel=None, colsample_bynode=None,\n",
       "             colsample_bytree=0.9549427100408518, early_stopping_rounds=None,\n",
       "             enable_categorical=False, eval_metric=None, feature_types=None,\n",
       "             gamma=1.531490222686555, gpu_id=None, grow_policy=None,\n",
       "             importance_type=None, interaction_constraints=None,\n",
       "             learning_rate=None, max_bin=None, max_cat_threshold=None,\n",
       "             max_cat_to_onehot=None, max_delta_step=None, max_depth=17,\n",
       "             max_leaves=None, min_child_weight=2, missing=nan,\n",
       "             monotone_constraints=None, n_estimators=328, n_jobs=None,\n",
       "             num_parallel_tree=None, objective=&#x27;reg:tweedie&#x27;, predictor=None, ...)</pre><b>In a Jupyter environment, please rerun this cell to show the HTML representation or trust the notebook. <br />On GitHub, the HTML representation is unable to render, please try loading this page with nbviewer.org.</b></div><div class=\"sk-container\" hidden><div class=\"sk-item\"><div class=\"sk-estimator sk-toggleable\"><input class=\"sk-toggleable__control sk-hidden--visually\" id=\"sk-estimator-id-1\" type=\"checkbox\" checked><label for=\"sk-estimator-id-1\" class=\"sk-toggleable__label sk-toggleable__label-arrow\">XGBRegressor</label><div class=\"sk-toggleable__content\"><pre>XGBRegressor(base_score=None, booster=None, callbacks=None,\n",
       "             colsample_bylevel=None, colsample_bynode=None,\n",
       "             colsample_bytree=0.9549427100408518, early_stopping_rounds=None,\n",
       "             enable_categorical=False, eval_metric=None, feature_types=None,\n",
       "             gamma=1.531490222686555, gpu_id=None, grow_policy=None,\n",
       "             importance_type=None, interaction_constraints=None,\n",
       "             learning_rate=None, max_bin=None, max_cat_threshold=None,\n",
       "             max_cat_to_onehot=None, max_delta_step=None, max_depth=17,\n",
       "             max_leaves=None, min_child_weight=2, missing=nan,\n",
       "             monotone_constraints=None, n_estimators=328, n_jobs=None,\n",
       "             num_parallel_tree=None, objective=&#x27;reg:tweedie&#x27;, predictor=None, ...)</pre></div></div></div></div></div>"
      ],
      "text/plain": [
       "XGBRegressor(base_score=None, booster=None, callbacks=None,\n",
       "             colsample_bylevel=None, colsample_bynode=None,\n",
       "             colsample_bytree=0.9549427100408518, early_stopping_rounds=None,\n",
       "             enable_categorical=False, eval_metric=None, feature_types=None,\n",
       "             gamma=1.531490222686555, gpu_id=None, grow_policy=None,\n",
       "             importance_type=None, interaction_constraints=None,\n",
       "             learning_rate=None, max_bin=None, max_cat_threshold=None,\n",
       "             max_cat_to_onehot=None, max_delta_step=None, max_depth=17,\n",
       "             max_leaves=None, min_child_weight=2, missing=nan,\n",
       "             monotone_constraints=None, n_estimators=328, n_jobs=None,\n",
       "             num_parallel_tree=None, objective='reg:tweedie', predictor=None, ...)"
      ]
     },
     "execution_count": 21,
     "metadata": {},
     "output_type": "execute_result"
    }
   ],
   "source": [
    "params = {'colsample_bytree': 0.9549427100408518, 'gamma': 1.531490222686555, 'max_depth': 17.0, 'min_child_weight': 2.0, 'n_estimators': 328.50293938973755, 'reg_alpha': 46.0, 'reg_lambda': 0.006139409044508717, 'tweedie_variance_power': 1.8646542717837375}\n",
    "params['max_depth'] = int(params['max_depth'])\n",
    "params['min_child_weight'] = int(params['min_child_weight'])\n",
    "params['n_estimators'] = int(params['n_estimators'])\n",
    "params['reg_alpha'] = int(params['reg_alpha'])\n",
    "params['objective'] = 'reg:tweedie'\n",
    "power = params['tweedie_variance_power']\n",
    "num_claims_model = xgb.XGBRegressor(**params)\n",
    "num_claims_model.fit(num_claims_x_train, num_claims_y_train)"
   ]
  },
  {
   "cell_type": "code",
   "execution_count": 22,
   "metadata": {},
   "outputs": [
    {
     "data": {
      "text/plain": [
       "0.01161597806028189"
      ]
     },
     "execution_count": 22,
     "metadata": {},
     "output_type": "execute_result"
    }
   ],
   "source": [
    "pred = num_claims_model.predict(num_claims_x_test)\n",
    "mean_squared_log_error(num_claims_y_test, pred)"
   ]
  },
  {
   "cell_type": "markdown",
   "metadata": {},
   "source": [
    "##### cost Model"
   ]
  },
  {
   "cell_type": "code",
   "execution_count": 31,
   "metadata": {},
   "outputs": [],
   "source": [
    "cost_df = df_dummies.drop(columns=['clm', 'numclaims'])"
   ]
  },
  {
   "cell_type": "code",
   "execution_count": 33,
   "metadata": {},
   "outputs": [],
   "source": [
    "# Learn on the impure num claims data\n",
    "num_claims_preds = num_claims_model.predict(cost_df.drop(columns=['claimcst0']))\n",
    "assert len(num_claims_preds) == len(cost_df)\n",
    "cost_df['numclaims'] = num_claims_preds"
   ]
  },
  {
   "cell_type": "code",
   "execution_count": 34,
   "metadata": {},
   "outputs": [
    {
     "name": "stdout",
     "output_type": "stream",
     "text": [
      "(21077, 65)\n",
      "(1542, 65)\n"
     ]
    }
   ],
   "source": [
    "majority_class = cost_df[cost_df['claimcst0'] == 0]\n",
    "minority_class = cost_df[cost_df['claimcst0'] != 0]\n",
    "\n",
    "print(majority_class.shape)\n",
    "print(minority_class.shape)"
   ]
  },
  {
   "cell_type": "code",
   "execution_count": 35,
   "metadata": {},
   "outputs": [
    {
     "data": {
      "text/plain": [
       "(21077, 65)"
      ]
     },
     "execution_count": 35,
     "metadata": {},
     "output_type": "execute_result"
    }
   ],
   "source": [
    "oversampled_minority = resample(minority_class, replace=True, n_samples=len(majority_class))\n",
    "\n",
    "oversampled_minority.shape"
   ]
  },
  {
   "cell_type": "code",
   "execution_count": 36,
   "metadata": {},
   "outputs": [
    {
     "data": {
      "text/plain": [
       "(21077, 65)"
      ]
     },
     "execution_count": 36,
     "metadata": {},
     "output_type": "execute_result"
    }
   ],
   "source": [
    "cost_balanced_df = pd.concat([majority_class, oversampled_minority])\n",
    "cost_balanced_df = cost_balanced_df.sample(frac=1)\n",
    "cost_balanced_df.reset_index(drop=True, inplace=True)\n",
    "\n",
    "cost_balanced_df[cost_balanced_df['claimcst0'] == 0].shape"
   ]
  },
  {
   "cell_type": "code",
   "execution_count": 37,
   "metadata": {},
   "outputs": [],
   "source": [
    "cost_x, cost_y = cost_balanced_df.drop(columns=['claimcst0']), cost_balanced_df['claimcst0']"
   ]
  },
  {
   "cell_type": "code",
   "execution_count": 38,
   "metadata": {},
   "outputs": [
    {
     "name": "stdout",
     "output_type": "stream",
     "text": [
      "(18734, 64) (18734,) (9368, 64) (9368,) (14052, 64) (14052,)\n"
     ]
    }
   ],
   "source": [
    "x_train, x_test, y_train, y_test = train_test_split(cost_x, cost_y, test_size=1 / 3)\n",
    "x_train, x_val, y_train, y_val = train_test_split(x_train, y_train, test_size=1 / 3)\n",
    "\n",
    "print(x_train.shape, y_train.shape, x_val.shape, y_val.shape, x_test.shape, y_test.shape)"
   ]
  },
  {
   "cell_type": "code",
   "execution_count": 39,
   "metadata": {},
   "outputs": [
    {
     "name": "stdout",
     "output_type": "stream",
     "text": [
      "Test loss: 3.121907530584813                           \n",
      "Test loss: 2.3903727713796434                                                   \n",
      "Test loss: 15.279686535868855                                                    \n",
      "Test loss: 1.580606209756158                                                     \n",
      "Test loss: 14.44633011795658                                                     \n",
      "Test loss: 5.133898179780475                                                    \n",
      "Test loss: 4.23363280074671                                                     \n",
      "Test loss: 9.1027925031824                                                      \n",
      "Test loss: 1.750025499282127                                                    \n",
      "Test loss: 14.653343969484354                                                   \n",
      "Test loss: 1.9649807200693572                                                    \n",
      "Test loss: 4.709625852000694                                                     \n",
      "Test loss: 6.868266042631986                                                     \n",
      "Test loss: 1.4786290415214194                                                    \n",
      "Test loss: 1.5636629925833971                                                     \n",
      "Test loss: 0.8042544491561809                                                     \n",
      "Test loss: 1.9636651330891806                                                     \n",
      "Test loss: 1.6432582915930485                                                     \n",
      "Test loss: 1.357597329187812                                                      \n",
      "Test loss: 10.860810436718783                                                     \n",
      "Test loss: 1.1742084145382428                                                     \n",
      "Test loss: 0.8907028475642583                                                     \n",
      "Test loss: 0.9869806819184395                                                     \n",
      "Test loss: 0.7307021037243656                                                     \n",
      "Test loss: 0.5832903030563115                                                     \n",
      "Test loss: 0.7666424679795806                                                     \n",
      "Test loss: 0.9238803120393214                                                     \n",
      "Test loss: 0.7018324219799102                                                     \n",
      "Test loss: 2.4844376346801695                                                     \n",
      "Test loss: 0.8909768885416499                                                     \n",
      "Test loss: 8.067467748966099                                                      \n",
      "Test loss: 0.6270193315946706                                                     \n",
      "Test loss: 2.5789115687408883                                                     \n",
      "Test loss: 9.831670810267505                                                      \n",
      "Test loss: 1.6214658334318341                                                     \n",
      "Test loss: 5.422525903460954                                                      \n",
      "Test loss: 5.19012358065778                                                       \n",
      "Test loss: 1.118518064656731                                                      \n",
      "Test loss: 1.5423875487971912                                                     \n",
      "Test loss: 2.5959897071487297                                                     \n",
      "Test loss: 2.0083703780063478                                                     \n",
      "Test loss: 1.0461539860052338                                                     \n",
      "Test loss: 4.187895306643708                                                      \n",
      "Test loss: 6.952381849124857                                                      \n",
      "Test loss: 5.0342805495441025                                                     \n",
      "Test loss: 10.08884222533978                                                      \n",
      "Test loss: 4.801225584101017                                                      \n",
      "Test loss: 1.120176110084006                                                      \n",
      "Test loss: 0.9905832403567731                                                     \n",
      "Test loss: 0.7671220470564482                                                     \n",
      "Test loss: 9.274997876324486                                                      \n",
      "Test loss: 3.322409792067526                                                      \n",
      "Test loss: 5.696234325953548                                                      \n",
      "Test loss: 0.9663709244868074                                                     \n",
      "Test loss: 1.3054137233351601                                                     \n",
      "Test loss: 0.78794848447964                                                       \n",
      "Test loss: 0.883055395228241                                                      \n",
      "Test loss: 1.1377475933969297                                                     \n",
      "Test loss: 5.283835899733731                                                      \n",
      "Test loss: 8.160364001643654                                                      \n",
      "Test loss: 0.7600241089156196                                                     \n",
      "Test loss: 4.0352866195102965                                                     \n",
      "Test loss: 4.245900137714256                                                      \n",
      "Test loss: 0.9502132698562784                                                     \n",
      "Test loss: 16.891006505606125                                                     \n",
      "Test loss: 1.7520594959337787                                                     \n",
      "Test loss: 0.6858170800568015                                                     \n",
      "Test loss: 2.282548457441294                                                      \n",
      "Test loss: 0.643242331120031                                                      \n",
      "Test loss: 3.2492426845009175                                                     \n",
      "Test loss: 0.6775179419378389                                                     \n",
      "Test loss: 1.9495299040392706                                                     \n",
      "Test loss: 0.61949301487424                                                       \n",
      "Test loss: 1.1087647083817331                                                     \n",
      "Test loss: 1.3967394495404848                                                     \n",
      "Test loss: 1.0382461712676803                                                     \n",
      "Test loss: 0.7101907444420802                                                     \n",
      "Test loss: 2.992866496266919                                                      \n",
      "Test loss: 1.268690139880942                                                      \n",
      "Test loss: 1.1263242544302083                                                     \n",
      "Test loss: 14.676919484428748                                                     \n",
      "Test loss: 5.031071106484717                                                      \n",
      "Test loss: 2.7868948450280344                                                     \n",
      "Test loss: 1.0791740456201286                                                     \n",
      "Test loss: 1.8211890507595845                                                     \n",
      "Test loss: 3.4311801545935885                                                     \n",
      "Test loss: 1.4255364927579044                                                     \n",
      "Test loss: 1.3017330319552791                                                     \n",
      "Test loss: 2.6328797150158296                                                     \n",
      "Test loss: 4.946333637218932                                                      \n",
      "Test loss: 12.709027666826822                                                     \n",
      "Test loss: 2.505166538629358                                                      \n",
      "Test loss: 0.9485128933033009                                                     \n",
      "Test loss: 3.975653270992458                                                      \n",
      "Test loss: 0.8315595706203296                                                     \n",
      "Test loss: 14.832871457526416                                                     \n",
      "100%|██████████| 100/100 [01:32<00:00,  1.08trial/s, best loss: 0.5832903030563115]\n",
      "Best hyperparameters: \n",
      "{'colsample_bytree': 0.805489057457027, 'gamma': 3.7512949147285575, 'max_depth': 14.0, 'min_child_weight': 2.0, 'n_estimators': 484.51694842102376, 'reg_alpha': 101.0, 'reg_lambda': 0.29574903970770366, 'tweedie_variance_power': 1.0127779031760553}\n"
     ]
    }
   ],
   "source": [
    "space = {'max_depth': hp.quniform('max_depth', 3, 18, 1),\n",
    "        'gamma': hp.uniform ('gamma', 1, 9),\n",
    "        'reg_alpha' : hp.quniform('reg_alpha', 40, 180, 1),\n",
    "        'reg_lambda' : hp.uniform('reg_lambda', 0, 1),\n",
    "        'colsample_bytree' : hp.uniform('colsample_bytree', 0.5, 1),\n",
    "        'min_child_weight' : hp.quniform('min_child_weight', 0, 10, 1),\n",
    "        'n_estimators': hp.uniform('n_estimators', 5, 500),\n",
    "        'tweedie_variance_power': hp.uniform('tweedie_variance_power', 1, 2)\n",
    "        }\n",
    "\n",
    "def objective(space):\n",
    "    power = space['tweedie_variance_power']\n",
    "\n",
    "    clf = xgb.XGBRegressor(n_estimators=int(space['n_estimators']), max_depth=int(space['max_depth']), gamma=space['gamma'],\n",
    "                           reg_alpha=int(space['reg_alpha']), min_child_weight=int(space['min_child_weight']),\n",
    "                           colsample_bytree=int(space['colsample_bytree']), objective='reg:tweedie', tweedie_variance_power=power)\n",
    "    \n",
    "    evaluation = [(x_train, y_train), (x_val, y_val)]\n",
    "    \n",
    "    clf.fit(x_train, y_train, eval_set=evaluation, early_stopping_rounds=100, verbose=False)\n",
    "    \n",
    "\n",
    "    pred = clf.predict(x_test)\n",
    "\n",
    "    try:\n",
    "        loss = mean_squared_log_error(y_test, pred)\n",
    "\n",
    "        print(f'Test loss: {loss}')\n",
    "\n",
    "        return {'loss': loss, 'status': STATUS_OK }\n",
    "    \n",
    "    except:\n",
    "        return {'loss': np.inf, 'status': STATUS_OK }\n",
    "\n",
    "trials = Trials()\n",
    "\n",
    "best_hyperparams = fmin(fn=objective,\n",
    "                        space=space,\n",
    "                        algo=tpe.suggest,\n",
    "                        max_evals=100,\n",
    "                        trials=trials)\n",
    "\n",
    "print(f'Best hyperparameters: \\n{best_hyperparams}')"
   ]
  },
  {
   "cell_type": "code",
   "execution_count": 40,
   "metadata": {},
   "outputs": [
    {
     "data": {
      "text/html": [
       "<style>#sk-container-id-2 {color: black;background-color: white;}#sk-container-id-2 pre{padding: 0;}#sk-container-id-2 div.sk-toggleable {background-color: white;}#sk-container-id-2 label.sk-toggleable__label {cursor: pointer;display: block;width: 100%;margin-bottom: 0;padding: 0.3em;box-sizing: border-box;text-align: center;}#sk-container-id-2 label.sk-toggleable__label-arrow:before {content: \"▸\";float: left;margin-right: 0.25em;color: #696969;}#sk-container-id-2 label.sk-toggleable__label-arrow:hover:before {color: black;}#sk-container-id-2 div.sk-estimator:hover label.sk-toggleable__label-arrow:before {color: black;}#sk-container-id-2 div.sk-toggleable__content {max-height: 0;max-width: 0;overflow: hidden;text-align: left;background-color: #f0f8ff;}#sk-container-id-2 div.sk-toggleable__content pre {margin: 0.2em;color: black;border-radius: 0.25em;background-color: #f0f8ff;}#sk-container-id-2 input.sk-toggleable__control:checked~div.sk-toggleable__content {max-height: 200px;max-width: 100%;overflow: auto;}#sk-container-id-2 input.sk-toggleable__control:checked~label.sk-toggleable__label-arrow:before {content: \"▾\";}#sk-container-id-2 div.sk-estimator input.sk-toggleable__control:checked~label.sk-toggleable__label {background-color: #d4ebff;}#sk-container-id-2 div.sk-label input.sk-toggleable__control:checked~label.sk-toggleable__label {background-color: #d4ebff;}#sk-container-id-2 input.sk-hidden--visually {border: 0;clip: rect(1px 1px 1px 1px);clip: rect(1px, 1px, 1px, 1px);height: 1px;margin: -1px;overflow: hidden;padding: 0;position: absolute;width: 1px;}#sk-container-id-2 div.sk-estimator {font-family: monospace;background-color: #f0f8ff;border: 1px dotted black;border-radius: 0.25em;box-sizing: border-box;margin-bottom: 0.5em;}#sk-container-id-2 div.sk-estimator:hover {background-color: #d4ebff;}#sk-container-id-2 div.sk-parallel-item::after {content: \"\";width: 100%;border-bottom: 1px solid gray;flex-grow: 1;}#sk-container-id-2 div.sk-label:hover label.sk-toggleable__label {background-color: #d4ebff;}#sk-container-id-2 div.sk-serial::before {content: \"\";position: absolute;border-left: 1px solid gray;box-sizing: border-box;top: 0;bottom: 0;left: 50%;z-index: 0;}#sk-container-id-2 div.sk-serial {display: flex;flex-direction: column;align-items: center;background-color: white;padding-right: 0.2em;padding-left: 0.2em;position: relative;}#sk-container-id-2 div.sk-item {position: relative;z-index: 1;}#sk-container-id-2 div.sk-parallel {display: flex;align-items: stretch;justify-content: center;background-color: white;position: relative;}#sk-container-id-2 div.sk-item::before, #sk-container-id-2 div.sk-parallel-item::before {content: \"\";position: absolute;border-left: 1px solid gray;box-sizing: border-box;top: 0;bottom: 0;left: 50%;z-index: -1;}#sk-container-id-2 div.sk-parallel-item {display: flex;flex-direction: column;z-index: 1;position: relative;background-color: white;}#sk-container-id-2 div.sk-parallel-item:first-child::after {align-self: flex-end;width: 50%;}#sk-container-id-2 div.sk-parallel-item:last-child::after {align-self: flex-start;width: 50%;}#sk-container-id-2 div.sk-parallel-item:only-child::after {width: 0;}#sk-container-id-2 div.sk-dashed-wrapped {border: 1px dashed gray;margin: 0 0.4em 0.5em 0.4em;box-sizing: border-box;padding-bottom: 0.4em;background-color: white;}#sk-container-id-2 div.sk-label label {font-family: monospace;font-weight: bold;display: inline-block;line-height: 1.2em;}#sk-container-id-2 div.sk-label-container {text-align: center;}#sk-container-id-2 div.sk-container {/* jupyter's `normalize.less` sets `[hidden] { display: none; }` but bootstrap.min.css set `[hidden] { display: none !important; }` so we also need the `!important` here to be able to override the default hidden behavior on the sphinx rendered scikit-learn.org. See: https://github.com/scikit-learn/scikit-learn/issues/21755 */display: inline-block !important;position: relative;}#sk-container-id-2 div.sk-text-repr-fallback {display: none;}</style><div id=\"sk-container-id-2\" class=\"sk-top-container\"><div class=\"sk-text-repr-fallback\"><pre>XGBRegressor(base_score=None, booster=None, callbacks=None,\n",
       "             colsample_bylevel=None, colsample_bynode=None,\n",
       "             colsample_bytree=0.805489057457027, early_stopping_rounds=None,\n",
       "             enable_categorical=False, eval_metric=None, feature_types=None,\n",
       "             gamma=3.7512949147285575, gpu_id=None, grow_policy=None,\n",
       "             importance_type=None, interaction_constraints=None,\n",
       "             learning_rate=None, max_bin=None, max_cat_threshold=None,\n",
       "             max_cat_to_onehot=None, max_delta_step=None, max_depth=14,\n",
       "             max_leaves=None, min_child_weight=2, missing=nan,\n",
       "             monotone_constraints=None, n_estimators=484, n_jobs=None,\n",
       "             num_parallel_tree=None, objective=&#x27;reg:tweedie&#x27;, predictor=None, ...)</pre><b>In a Jupyter environment, please rerun this cell to show the HTML representation or trust the notebook. <br />On GitHub, the HTML representation is unable to render, please try loading this page with nbviewer.org.</b></div><div class=\"sk-container\" hidden><div class=\"sk-item\"><div class=\"sk-estimator sk-toggleable\"><input class=\"sk-toggleable__control sk-hidden--visually\" id=\"sk-estimator-id-2\" type=\"checkbox\" checked><label for=\"sk-estimator-id-2\" class=\"sk-toggleable__label sk-toggleable__label-arrow\">XGBRegressor</label><div class=\"sk-toggleable__content\"><pre>XGBRegressor(base_score=None, booster=None, callbacks=None,\n",
       "             colsample_bylevel=None, colsample_bynode=None,\n",
       "             colsample_bytree=0.805489057457027, early_stopping_rounds=None,\n",
       "             enable_categorical=False, eval_metric=None, feature_types=None,\n",
       "             gamma=3.7512949147285575, gpu_id=None, grow_policy=None,\n",
       "             importance_type=None, interaction_constraints=None,\n",
       "             learning_rate=None, max_bin=None, max_cat_threshold=None,\n",
       "             max_cat_to_onehot=None, max_delta_step=None, max_depth=14,\n",
       "             max_leaves=None, min_child_weight=2, missing=nan,\n",
       "             monotone_constraints=None, n_estimators=484, n_jobs=None,\n",
       "             num_parallel_tree=None, objective=&#x27;reg:tweedie&#x27;, predictor=None, ...)</pre></div></div></div></div></div>"
      ],
      "text/plain": [
       "XGBRegressor(base_score=None, booster=None, callbacks=None,\n",
       "             colsample_bylevel=None, colsample_bynode=None,\n",
       "             colsample_bytree=0.805489057457027, early_stopping_rounds=None,\n",
       "             enable_categorical=False, eval_metric=None, feature_types=None,\n",
       "             gamma=3.7512949147285575, gpu_id=None, grow_policy=None,\n",
       "             importance_type=None, interaction_constraints=None,\n",
       "             learning_rate=None, max_bin=None, max_cat_threshold=None,\n",
       "             max_cat_to_onehot=None, max_delta_step=None, max_depth=14,\n",
       "             max_leaves=None, min_child_weight=2, missing=nan,\n",
       "             monotone_constraints=None, n_estimators=484, n_jobs=None,\n",
       "             num_parallel_tree=None, objective='reg:tweedie', predictor=None, ...)"
      ]
     },
     "execution_count": 40,
     "metadata": {},
     "output_type": "execute_result"
    }
   ],
   "source": [
    "params = {'colsample_bytree': 0.805489057457027, 'gamma': 3.7512949147285575, 'max_depth': 14.0, 'min_child_weight': 2.0, 'n_estimators': 484.51694842102376, 'reg_alpha': 101.0, 'reg_lambda': 0.29574903970770366, 'tweedie_variance_power': 1.0127779031760553}\n",
    "params['max_depth'] = int(params['max_depth'])\n",
    "params['min_child_weight'] = int(params['min_child_weight'])\n",
    "params['n_estimators'] = int(params['n_estimators'])\n",
    "params['reg_alpha'] = int(params['reg_alpha'])\n",
    "params['objective'] = 'reg:tweedie'\n",
    "power = params['tweedie_variance_power']\n",
    "cost_model = xgb.XGBRegressor(**params)\n",
    "cost_model.fit(x_train, y_train)"
   ]
  },
  {
   "cell_type": "code",
   "execution_count": 41,
   "metadata": {},
   "outputs": [
    {
     "data": {
      "text/plain": [
       "0.2633299709330187"
      ]
     },
     "execution_count": 41,
     "metadata": {},
     "output_type": "execute_result"
    }
   ],
   "source": [
    "pred = cost_model.predict(x_test)\n",
    "mean_squared_log_error(y_test, pred)"
   ]
  },
  {
   "cell_type": "code",
   "execution_count": 45,
   "metadata": {},
   "outputs": [
    {
     "data": {
      "image/png": "[encoded data removed]",
      "text/plain": [
       "<Figure size 640x480 with 1 Axes>"
      ]
     },
     "metadata": {},
     "output_type": "display_data"
    }
   ],
   "source": [
    "plt.hist(pred, bins=50)\n",
    "plt.show()"
   ]
  },
  {
   "cell_type": "markdown",
   "metadata": {},
   "source": [
    "##### Validation Predictons"
   ]
  },
  {
   "cell_type": "code",
   "execution_count": 46,
   "metadata": {},
   "outputs": [
    {
     "data": {
      "text/html": [
       "<div>\n",
       "<style scoped>\n",
       "    .dataframe tbody tr th:only-of-type {\n",
       "        vertical-align: middle;\n",
       "    }\n",
       "\n",
       "    .dataframe tbody tr th {\n",
       "        vertical-align: top;\n",
       "    }\n",
       "\n",
       "    .dataframe thead th {\n",
       "        text-align: right;\n",
       "    }\n",
       "</style>\n",
       "<table border=\"1\" class=\"dataframe\">\n",
       "  <thead>\n",
       "    <tr style=\"text-align: right;\">\n",
       "      <th></th>\n",
       "      <th>veh_value</th>\n",
       "      <th>exposure</th>\n",
       "      <th>veh_body</th>\n",
       "      <th>veh_age</th>\n",
       "      <th>gender</th>\n",
       "      <th>area</th>\n",
       "      <th>agecat</th>\n",
       "      <th>engine_type</th>\n",
       "      <th>max_power</th>\n",
       "      <th>driving_history_score</th>\n",
       "      <th>veh_color</th>\n",
       "      <th>marital_status</th>\n",
       "      <th>e_bill</th>\n",
       "      <th>time_of_week_driven</th>\n",
       "      <th>time_driven</th>\n",
       "      <th>trm_len</th>\n",
       "      <th>credit_score</th>\n",
       "      <th>high_education_ind</th>\n",
       "    </tr>\n",
       "  </thead>\n",
       "  <tbody>\n",
       "    <tr>\n",
       "      <th>0</th>\n",
       "      <td>3.40</td>\n",
       "      <td>0.076279</td>\n",
       "      <td>STNWG</td>\n",
       "      <td>2</td>\n",
       "      <td>M</td>\n",
       "      <td>B</td>\n",
       "      <td>4</td>\n",
       "      <td>petrol</td>\n",
       "      <td>174</td>\n",
       "      <td>83</td>\n",
       "      <td>black</td>\n",
       "      <td>S</td>\n",
       "      <td>1</td>\n",
       "      <td>weekday</td>\n",
       "      <td>6pm - 12am</td>\n",
       "      <td>6</td>\n",
       "      <td>648.247594</td>\n",
       "      <td>0</td>\n",
       "    </tr>\n",
       "    <tr>\n",
       "      <th>1</th>\n",
       "      <td>2.55</td>\n",
       "      <td>0.093443</td>\n",
       "      <td>STNWG</td>\n",
       "      <td>2</td>\n",
       "      <td>F</td>\n",
       "      <td>A</td>\n",
       "      <td>3</td>\n",
       "      <td>petrol</td>\n",
       "      <td>181</td>\n",
       "      <td>65</td>\n",
       "      <td>yellow</td>\n",
       "      <td>M</td>\n",
       "      <td>0</td>\n",
       "      <td>weekday</td>\n",
       "      <td>12am - 6 am</td>\n",
       "      <td>12</td>\n",
       "      <td>637.752677</td>\n",
       "      <td>0</td>\n",
       "    </tr>\n",
       "    <tr>\n",
       "      <th>2</th>\n",
       "      <td>3.04</td>\n",
       "      <td>0.157762</td>\n",
       "      <td>STNWG</td>\n",
       "      <td>2</td>\n",
       "      <td>F</td>\n",
       "      <td>E</td>\n",
       "      <td>4</td>\n",
       "      <td>petrol</td>\n",
       "      <td>136</td>\n",
       "      <td>64</td>\n",
       "      <td>white</td>\n",
       "      <td>S</td>\n",
       "      <td>1</td>\n",
       "      <td>weekday</td>\n",
       "      <td>12pm - 6pm</td>\n",
       "      <td>12</td>\n",
       "      <td>661.483786</td>\n",
       "      <td>0</td>\n",
       "    </tr>\n",
       "    <tr>\n",
       "      <th>3</th>\n",
       "      <td>2.05</td>\n",
       "      <td>0.560735</td>\n",
       "      <td>MIBUS</td>\n",
       "      <td>4</td>\n",
       "      <td>M</td>\n",
       "      <td>C</td>\n",
       "      <td>6</td>\n",
       "      <td>dissel</td>\n",
       "      <td>164</td>\n",
       "      <td>82</td>\n",
       "      <td>gray</td>\n",
       "      <td>M</td>\n",
       "      <td>1</td>\n",
       "      <td>weekday</td>\n",
       "      <td>6am - 12pm</td>\n",
       "      <td>12</td>\n",
       "      <td>647.846365</td>\n",
       "      <td>0</td>\n",
       "    </tr>\n",
       "    <tr>\n",
       "      <th>4</th>\n",
       "      <td>1.93</td>\n",
       "      <td>0.258275</td>\n",
       "      <td>HBACK</td>\n",
       "      <td>2</td>\n",
       "      <td>M</td>\n",
       "      <td>C</td>\n",
       "      <td>4</td>\n",
       "      <td>dissel</td>\n",
       "      <td>89</td>\n",
       "      <td>48</td>\n",
       "      <td>black</td>\n",
       "      <td>S</td>\n",
       "      <td>0</td>\n",
       "      <td>weekday</td>\n",
       "      <td>6am - 12pm</td>\n",
       "      <td>12</td>\n",
       "      <td>640.257550</td>\n",
       "      <td>0</td>\n",
       "    </tr>\n",
       "  </tbody>\n",
       "</table>\n",
       "</div>"
      ],
      "text/plain": [
       "   veh_value  exposure veh_body  veh_age gender area  agecat engine_type  \\\n",
       "0       3.40  0.076279    STNWG        2      M    B       4      petrol   \n",
       "1       2.55  0.093443    STNWG        2      F    A       3      petrol   \n",
       "2       3.04  0.157762    STNWG        2      F    E       4      petrol   \n",
       "3       2.05  0.560735    MIBUS        4      M    C       6      dissel   \n",
       "4       1.93  0.258275    HBACK        2      M    C       4      dissel   \n",
       "\n",
       "   max_power  driving_history_score veh_color marital_status  e_bill  \\\n",
       "0        174                     83     black              S       1   \n",
       "1        181                     65    yellow              M       0   \n",
       "2        136                     64     white              S       1   \n",
       "3        164                     82      gray              M       1   \n",
       "4         89                     48     black              S       0   \n",
       "\n",
       "  time_of_week_driven  time_driven  trm_len  credit_score  high_education_ind  \n",
       "0             weekday   6pm - 12am        6    648.247594                   0  \n",
       "1             weekday  12am - 6 am       12    637.752677                   0  \n",
       "2             weekday   12pm - 6pm       12    661.483786                   0  \n",
       "3             weekday   6am - 12pm       12    647.846365                   0  \n",
       "4             weekday   6am - 12pm       12    640.257550                   0  "
      ]
     },
     "execution_count": 46,
     "metadata": {},
     "output_type": "execute_result"
    }
   ],
   "source": [
    "val_df = pd.read_csv('./data/InsNova_data_2023_vh.csv')\n",
    "ids = val_df['id']\n",
    "val_df.drop(['id'], axis=1, inplace=True)\n",
    "val_df.reset_index(drop=True, inplace=True)\n",
    "\n",
    "val_df.head()"
   ]
  },
  {
   "cell_type": "code",
   "execution_count": 47,
   "metadata": {},
   "outputs": [],
   "source": [
    "val_df_dummies = pd.get_dummies(val_df, columns=['veh_body', 'veh_age', 'gender', 'area', 'agecat', 'engine_type', 'veh_color', 'marital_status', 'e_bill', 'time_of_week_driven', 'time_driven', 'trm_len', 'high_education_ind'])\n",
    "val_df_dummies = val_df_dummies.rename(columns={'high_education_ind_0': 'high_education_ind_0.0', 'high_education_ind_1': 'high_education_ind_1.0'})"
   ]
  },
  {
   "cell_type": "code",
   "execution_count": 48,
   "metadata": {},
   "outputs": [],
   "source": [
    "val_df_dummies['numclaims'] = num_claims_model.predict(val_df_dummies)"
   ]
  },
  {
   "cell_type": "code",
   "execution_count": 49,
   "metadata": {},
   "outputs": [
    {
     "data": {
      "image/png": "[encoded data removed]",
      "text/plain": [
       "<Figure size 640x480 with 1 Axes>"
      ]
     },
     "metadata": {},
     "output_type": "display_data"
    }
   ],
   "source": [
    "plt.hist(val_df_dummies['numclaims'])\n",
    "plt.show()"
   ]
  },
  {
   "cell_type": "code",
   "execution_count": 56,
   "metadata": {},
   "outputs": [
    {
     "name": "stdout",
     "output_type": "stream",
     "text": [
      "2.9297384e-11\n",
      "2408.1428\n",
      "1.1419866e-08\n",
      "10.456493\n"
     ]
    },
    {
     "data": {
      "image/png": "[encoded data removed]",
      "text/plain": [
       "<Figure size 640x480 with 1 Axes>"
      ]
     },
     "metadata": {},
     "output_type": "display_data"
    }
   ],
   "source": [
    "predicted_costs = cost_model.predict(val_df_dummies)\n",
    "\n",
    "print(predicted_costs.min())\n",
    "print(predicted_costs.max())\n",
    "print(np.median(predicted_costs))\n",
    "print(predicted_costs.mean())\n",
    "\n",
    "# plt.hist(df['claimcst0'], bins=50)\n",
    "plt.hist(predicted_costs, bins=50)\n",
    "plt.show()"
   ]
  },
  {
   "cell_type": "code",
   "execution_count": 57,
   "metadata": {},
   "outputs": [
    {
     "data": {
      "text/html": [
       "<div>\n",
       "<style scoped>\n",
       "    .dataframe tbody tr th:only-of-type {\n",
       "        vertical-align: middle;\n",
       "    }\n",
       "\n",
       "    .dataframe tbody tr th {\n",
       "        vertical-align: top;\n",
       "    }\n",
       "\n",
       "    .dataframe thead th {\n",
       "        text-align: right;\n",
       "    }\n",
       "</style>\n",
       "<table border=\"1\" class=\"dataframe\">\n",
       "  <thead>\n",
       "    <tr style=\"text-align: right;\">\n",
       "      <th></th>\n",
       "      <th>id</th>\n",
       "      <th>Predict</th>\n",
       "    </tr>\n",
       "  </thead>\n",
       "  <tbody>\n",
       "    <tr>\n",
       "      <th>0</th>\n",
       "      <td>1</td>\n",
       "      <td>2.660214e-08</td>\n",
       "    </tr>\n",
       "    <tr>\n",
       "      <th>1</th>\n",
       "      <td>2</td>\n",
       "      <td>2.459705e-08</td>\n",
       "    </tr>\n",
       "    <tr>\n",
       "      <th>2</th>\n",
       "      <td>3</td>\n",
       "      <td>1.356506e-08</td>\n",
       "    </tr>\n",
       "    <tr>\n",
       "      <th>3</th>\n",
       "      <td>4</td>\n",
       "      <td>2.039466e-08</td>\n",
       "    </tr>\n",
       "    <tr>\n",
       "      <th>4</th>\n",
       "      <td>5</td>\n",
       "      <td>1.974446e-08</td>\n",
       "    </tr>\n",
       "  </tbody>\n",
       "</table>\n",
       "</div>"
      ],
      "text/plain": [
       "   id       Predict\n",
       "0   1  2.660214e-08\n",
       "1   2  2.459705e-08\n",
       "2   3  1.356506e-08\n",
       "3   4  2.039466e-08\n",
       "4   5  1.974446e-08"
      ]
     },
     "execution_count": 57,
     "metadata": {},
     "output_type": "execute_result"
    }
   ],
   "source": [
    "submission_df = pd.DataFrame({'id': ids, 'Predict': predicted_costs.reshape(-1,)})\n",
    "submission_df.head()"
   ]
  },
  {
   "cell_type": "code",
   "execution_count": 58,
   "metadata": {},
   "outputs": [],
   "source": [
    "submission_df.to_csv('./data/submission.csv', index=False)"
   ]
  },
  {
   "cell_type": "code",
   "execution_count": null,
   "metadata": {},
   "outputs": [],
   "source": []
  }
 ],
 "metadata": {
  "kernelspec": {
   "display_name": "travelers",
   "language": "python",
   "name": "python3"
  },
  "language_info": {
   "codemirror_mode": {
    "name": "ipython",
    "version": 3
   },
   "file_extension": ".py",
   "mimetype": "text/x-python",
   "name": "python",
   "nbconvert_exporter": "python",
   "pygments_lexer": "ipython3",
   "version": "3.11.5"
  }
 },
 "nbformat": 4,
 "nbformat_minor": 2
}
